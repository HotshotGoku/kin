{
 "cells": [
  {
   "cell_type": "markdown",
   "metadata": {},
   "source": [
    "# BENG 212 HW 3\n",
    "\n",
    "##  Name: Kinshuk Sahu\n",
    "\n",
    "### 2/4/2020\n",
    "\n",
    "Resources: Special topics in statistics\n",
    " - https://www.bmj.com/specialties/statistics-notes\n",
    " - https://www.nature.com/collections/qghhqm/content/statistics-in-biology "
   ]
  },
  {
   "cell_type": "code",
   "execution_count": 1,
   "metadata": {},
   "outputs": [],
   "source": [
    "import numpy as np\n",
    "import pandas as pd\n",
    "import matplotlib.pyplot as plt\n",
    "import seaborn as sns\n",
    "from scipy import stats\n",
    "\n",
    "data = pd.read_excel('Homework_Data.xlsx', sheet_name = 'Expression Data', index_col = 0)\n",
    "metadata = pd.read_excel('Homework_Data.xlsx', sheet_name = 'Experimental Conditions', index_col = 0)\n",
    "gene_info = pd.read_excel('Homework_Data.xlsx', sheet_name = 'Gene Information', index_col = 0)"
   ]
  },
  {
   "cell_type": "code",
   "execution_count": 2,
   "metadata": {},
   "outputs": [],
   "source": [
    "import scipy as sp\n",
    "from scipy import interpolate\n",
    "\n",
    "\n",
    "def estimate(pv, m=None, verbose=False, lowmem=False, pi0=None):\n",
    "    \"\"\"\n",
    "    Estimates q-values from p-values\n",
    "    Args\n",
    "    =====\n",
    "    m: number of tests. If not specified m = pv.size\n",
    "    verbose: print verbose messages? (default False)\n",
    "    lowmem: use memory-efficient in-place algorithm\n",
    "    pi0: if None, it's estimated as suggested in Storey and Tibshirani, 2003.\n",
    "         For most GWAS this is not necessary, since pi0 is extremely likely to be\n",
    "         1\n",
    "    \"\"\"\n",
    "    assert(pv.min() >= 0 and pv.max() <= 1), \"p-values should be between 0 and 1\"\n",
    "\n",
    "    original_shape = pv.shape\n",
    "    pv = pv.ravel()  # flattens the array in place, more efficient than flatten()\n",
    "\n",
    "    if m is None:\n",
    "        m = float(len(pv))\n",
    "    else:\n",
    "        # the user has supplied an m\n",
    "        m *= 1.0\n",
    "\n",
    "    # if the number of hypotheses is small, just set pi0 to 1\n",
    "    if len(pv) < 100 and pi0 is None:\n",
    "        pi0 = 1.0\n",
    "    elif pi0 is not None:\n",
    "        pi0 = pi0\n",
    "    else:\n",
    "        # evaluate pi0 for different lambdas\n",
    "        pi0 = []\n",
    "        lam = sp.arange(0, 0.90, 0.01)\n",
    "        counts = sp.array([(pv > i).sum() for i in sp.arange(0, 0.9, 0.01)])\n",
    "        for l in range(len(lam)):\n",
    "            pi0.append(counts[l]/(m*(1-lam[l])))\n",
    "\n",
    "        pi0 = sp.array(pi0)\n",
    "\n",
    "        # fit natural cubic spline\n",
    "        tck = interpolate.splrep(lam, pi0, k=3)\n",
    "        pi0 = interpolate.splev(lam[-1], tck)\n",
    "        if verbose:\n",
    "            print((\"qvalues pi0=%.3f, estimated proportion of null features \" % pi0))\n",
    "\n",
    "        if pi0 > 1:\n",
    "            if verbose:\n",
    "                print((\"got pi0 > 1 (%.3f) while estimating qvalues, setting it to 1\" % pi0))\n",
    "            pi0 = 1.0\n",
    "\n",
    "    assert(pi0 >= 0 and pi0 <= 1), \"pi0 is not between 0 and 1: %f\" % pi0\n",
    "\n",
    "    if lowmem:\n",
    "        # low memory version, only uses 1 pv and 1 qv matrices\n",
    "        qv = sp.zeros((len(pv),))\n",
    "        last_pv = pv.argmax()\n",
    "        qv[last_pv] = (pi0*pv[last_pv]*m)/float(m)\n",
    "        pv[last_pv] = -sp.inf\n",
    "        prev_qv = last_pv\n",
    "        for i in range(int(len(pv))-2, -1, -1):\n",
    "            cur_max = pv.argmax()\n",
    "            qv_i = (pi0*m*pv[cur_max]/float(i+1))\n",
    "            pv[cur_max] = -sp.inf\n",
    "            qv_i1 = prev_qv\n",
    "            qv[cur_max] = min(qv_i, qv_i1)\n",
    "            prev_qv = qv[cur_max]\n",
    "\n",
    "    else:\n",
    "        p_ordered = sp.argsort(pv)\n",
    "        pv = pv[p_ordered]\n",
    "        qv = pi0 * m/len(pv) * pv\n",
    "        qv[-1] = min(qv[-1], 1.0)\n",
    "\n",
    "        for i in range(len(pv)-2, -1, -1):\n",
    "            qv[i] = min(pi0*m*pv[i]/(i+1.0), qv[i+1])\n",
    "\n",
    "        # reorder qvalues\n",
    "        qv_temp = qv.copy()\n",
    "        qv = sp.zeros_like(qv)\n",
    "        qv[p_ordered] = qv_temp\n",
    "\n",
    "    # reshape qvalues\n",
    "    qv = qv.reshape(original_shape)\n",
    "\n",
    "    return qv"
   ]
  },
  {
   "cell_type": "markdown",
   "metadata": {},
   "source": [
    "## Problem 1: P-values and Statistical Significance\n",
    "\n",
    "### A. Read \"Mindless Statistics\"\n",
    "\n",
    "https://www.sciencedirect.com/science/article/pii/S1053535704000927\n",
    "\n",
    "i.Define (in words) a p-value, statistical significance, and statistical power\n",
    "\n",
    " A p value is defined as the probability of the observation occuring given that the null hypothesis is true. Statistical significance is pre defined by the user (denoted by 𝛼), and signifies the cutoff below which we can reject the null hypothesis. Statistical power is defined as the ratio of true positive and true postive plus false negative, denoting the amount of actual signal that is present in the data. Typically, we first set a null hypothesis and and an alternate hypothesis, and then calculate the probability that the sampling distribution came from the original distribution specified by the null hypothesis.(p value). If this value is lower than a certain level(statisticacl significance) then we reject the null hypothesis and select the alternate hypothesis. The null ritual as the author says is defining a null hypothesis but no alternate hypothesis, and using 5% as significance for rejecting the null and perfroming this procedure mechanically without thinking.\n",
    "\n",
    "ii. Fisher’s work developing p-values and the Neyman-Pearson work on statistical significance were originally separate developments but have become combined in common practice in hypothesis testing in science. Describe and contrast the two schools of thought. To which school of thought do the concepts of Type I and Type II error belong?\n",
    "\n",
    "Fischer's work termed the null hypothesis testing involves first setting up a null hypothesis and then reporting the exact level of significane without accepting or rejecting hypothesis. He also said that this procedure should be performed only as a preliminary test on the data. Neyman and Pearson's work called the decision theory involved testing up two different hypothesis(H1 and H2), and specifying the level of alpha, beta and the number of samplings beforehand. Then we see the actual data whether it falls in the rejection region of H1. If it does then we accept the alternate hypothesis (H2) or else we accept the original one(H1). Fischers work doesn't incorporate any alternate hypothesis unlike Neyman-Pearson. Also because of this type II error rates are not incorporated in the Fischer's hypothesis, it only belongs to the Neyman Pearson work. Type I error rates or the number of false positives, which crops up when the null hypothesis is true but we reject that hypothesis, is stated explicitly in Neyman Pearson works but it exists in Fischer framework too since it deals with the null/original hypothesis.But later on Fischer criticised that Type I and Type II error are \"absurdly academic\" practices, since he said to report the exact level of significance opposed to a cutoff. For Fischer the level of significance was a property of the data since every sampled data reported a p value associated with it but Neyman-Pearson 𝛼 is a propery of the test instead. \n",
    "\n",
    "\n",
    "iii. The author presents six True/False questions (in section 4). Explain the answer to each of these questions.\n",
    "\n",
    "a) False We can never conclude for certain that our null hypothesis is false unless the p value will be absoloute zero, which will never arise in a statistical distribution\n",
    "b) False The null hypothesis testing involves calculating the probabaility that the sampled data relates to the one specified by the null hypothesis, provided null hypothesis is true. It is a conditional probability. We will never now by this method if our hypothesis on the first place was true or not, so we cannot prove or disprove that.\n",
    "c) False As in a we can never conclude that our experimental hypothesis is absolutely correct unless the p value is absolute zero, which will never happen. \n",
    "d) False We cannot an unconditional probability with null hypothesis testing since it is based on a condition, null hypothesis being true. Although this can be done using Bayesian statistics.\n",
    "e) False We would know the probability that we are making the wrong decision if we knew beforehand if null hypothesis was true or not. Which is not the case since in null hypothesis testing we are considering a conditional probability.\n",
    "f) False This statement is also hinged on the probability whether the null hypothesis is true or not which cannot be calculated in null hypothesis testing. "
   ]
  },
  {
   "cell_type": "markdown",
   "metadata": {},
   "source": [
    "### B. Define Family Wise Error Rate and False Discovery Rate in the context of controlling type I error."
   ]
  },
  {
   "cell_type": "markdown",
   "metadata": {},
   "source": [
    "Family Wise Error rate is defined as the probablity of finding at least one false positive error in number of times the statistical error test is applied. False discovery rate is the ratio of false positives to false positives plus true positives, indicating the amount of result(positives) that is actually true. To control type I error that is the number of false positives in an error test, we can apply techniques based on reducing the family wise error rate or reducing the false discovery rate. For example in Bonferonni correction we only reject at p<α/n where n is the number of times we are doing the test. This technique tries to reduce the FWER although it is conservative and reduces the power, ie there will be less TP and more FN than before. False Discovery rate based approaches like pFDR divide the data into a background distribution and a true signal, and tries instead to reduce the number of false positives, meaning there will be some false postive value allowed unlike FWER where we try to reduce all the false positives cropping up in any of the tests. "
   ]
  },
  {
   "cell_type": "markdown",
   "metadata": {},
   "source": [
    "### C. Generate a list of p-values to answer the question: Which genes significantly change their expression when the amount of glucose in the media is doubled from 2 g/L to 4 g/L? Use a non-parametric statistical test. What does your p-value distribution look like, and how many tests (genes) are significant (p < 0.05) without multiple comparison correction?"
   ]
  },
  {
   "cell_type": "code",
   "execution_count": 3,
   "metadata": {},
   "outputs": [],
   "source": [
    "#sample indexing according to carbon sources \n",
    "\n",
    "Carbon_2=metadata.index[metadata['Carbon Source (g/L)']== 'glucose(2)']\n",
    "Carbon_4=metadata.index[metadata['Carbon Source (g/L)']== 'glucose(4)']\n"
   ]
  },
  {
   "cell_type": "code",
   "execution_count": 4,
   "metadata": {},
   "outputs": [
    {
     "name": "stdout",
     "output_type": "stream",
     "text": [
      "b0002      4.378164e-01\n",
      "b0003      8.843330e-01\n",
      "b0004      1.404323e-01\n",
      "b0005      8.355516e-07\n",
      "b0006      7.754019e-02\n",
      "               ...     \n",
      "b4688      8.766672e-04\n",
      "b4693      1.596371e-01\n",
      "b4696_1    4.626027e-03\n",
      "b4696_2    3.850278e-03\n",
      "b4705      1.814465e-01\n",
      "Length: 3887, dtype: float64\n"
     ]
    },
    {
     "data": {
      "text/plain": [
       "Text(0, 0.5, 'Number of genes')"
      ]
     },
     "execution_count": 4,
     "metadata": {},
     "output_type": "execute_result"
    },
    {
     "data": {
      "image/png": "[encoded data removed]",
      "text/plain": [
       "<Figure size 432x288 with 1 Axes>"
      ]
     },
     "metadata": {
      "needs_background": "light"
     },
     "output_type": "display_data"
    }
   ],
   "source": [
    "from scipy.stats import mannwhitneyu as mnu\n",
    "p=[]\n",
    "for gene in data.index:\n",
    "    Carbon_2_values=data.loc[gene,Carbon_2] \n",
    "    Carbon_4_values=data.loc[gene,Carbon_4]\n",
    "    \n",
    "    p+=[mnu(Carbon_2_values,Carbon_4_values,alternative='two-sided')[1]]\n",
    "p=pd.Series(p,index=data.index)\n",
    "print(p)\n",
    "plt.hist(p,bins=40)\n",
    "plt.xlabel('p value')\n",
    "plt.ylabel('Number of genes')"
   ]
  },
  {
   "cell_type": "markdown",
   "metadata": {},
   "source": [
    "Our p value distribution looks like an exponential decay function.Compared to a normal distribution , the data is skewed heavily to the left and is very sharp too.  We find that almost close to 2000 genes show a p value less than 0.01. If the significance level chosen were to be 0.01, then these 2000 genes would reject the null hypothesis and indicate that the changes are significant. "
   ]
  },
  {
   "cell_type": "markdown",
   "metadata": {},
   "source": [
    "### D. Now, correct your list of p-values for multiple comparisons using the following methods and discuss which gene-cluster associations are ‘accepted’ in each set of corrected values.\n",
    "\n",
    "- FWER methods\n",
    "    - Bonferroni\n",
    "    - Holm-Bonferroni Step-Down\n",
    "- FDR methods\n",
    "    - Benjamini-Hochburg Step-up\n",
    "    - Storey method to calculate q-values\n"
   ]
  },
  {
   "cell_type": "code",
   "execution_count": 54,
   "metadata": {},
   "outputs": [
    {
     "name": "stdout",
     "output_type": "stream",
     "text": [
      "b0952    4.675912e-12\n",
      "b0965    6.575488e-12\n",
      "b1709    1.687216e-11\n",
      "b4263    1.803441e-11\n",
      "b4058    2.351940e-11\n",
      "             ...     \n",
      "b2600    1.000000e+00\n",
      "b1876    1.000000e+00\n",
      "b0387    1.000000e+00\n",
      "b2762    1.000000e+00\n",
      "b4497    1.000000e+00\n",
      "Length: 3887, dtype: float64\n",
      "[1.27794604e-08 1.27794604e-08 1.75249394e-08 ... 1.00000000e+00\n",
      " 1.00000000e+00 1.00000000e+00]\n",
      "[1.27794604e-08 1.27794604e-08 1.75249394e-08 ... 1.00000000e+00\n",
      " 1.00000000e+00 1.00000000e+00]\n",
      "Significant genes by bonferroni correction are Index(['b0952', 'b0965', 'b1709', 'b4263', 'b4058', 'b0220', 'b4139', 'b0325',\n",
      "       'b2672', 'b2137',\n",
      "       ...\n",
      "       'b2447', 'b0192', 'b0947', 'b2166', 'b2912', 'b0231', 'b1257', 'b4033',\n",
      "       'b3607', 'b3624'],\n",
      "      dtype='object', length=542)\n",
      "Significant genes by Holm Bonferroni correction are Index(['b0952', 'b0965', 'b1709', 'b4263', 'b4058', 'b0220', 'b4139', 'b0325',\n",
      "       'b2672', 'b2137',\n",
      "       ...\n",
      "       'b0403', 'b3318', 'b0595', 'b3964', 'b0596', 'b3496', 'b3874', 'b2398',\n",
      "       'b4471', 'b2660'],\n",
      "      dtype='object', length=553)\n",
      "Significant genes by Benjamin Hoch correction are Index(['b0952', 'b0965', 'b1709', 'b4263', 'b4058', 'b0220', 'b4139', 'b0325',\n",
      "       'b2672', 'b2137',\n",
      "       ...\n",
      "       'b2050', 'b4345', 'b0253', 'b3982', 'b0479', 'b3746', 'b3084', 'b3313',\n",
      "       'b2844', 'b1920'],\n",
      "      dtype='object', length=1950)\n",
      "Significant genes by Storey correction are Index(['b0952', 'b0965', 'b1709', 'b4263', 'b4058', 'b0220', 'b4139', 'b0325',\n",
      "       'b2672', 'b2137',\n",
      "       ...\n",
      "       'b2050', 'b4345', 'b0253', 'b3982', 'b0479', 'b3746', 'b3084', 'b3313',\n",
      "       'b2844', 'b1920'],\n",
      "      dtype='object', length=1950)\n"
     ]
    },
    {
     "data": {
      "image/png": "[encoded data removed]",
      "text/plain": [
       "<Figure size 432x288 with 2 Axes>"
      ]
     },
     "metadata": {
      "needs_background": "light"
     },
     "output_type": "display_data"
    }
   ],
   "source": [
    "from statsmodels.stats import multitest as mt\n",
    "import seaborn as sns\n",
    "# family wise error rate models\n",
    "p=p.sort_values()\n",
    "P_bon=mt.multipletests(p,alpha=0.05,method='bonferroni')[1]\n",
    "P_holm=mt.multipletests(p,alpha=0.05,method='holm')[1]\n",
    "# false discovery rate models\n",
    "P_benjhoch=mt.multipletests(p,alpha=0.05,method='fdr_bh')[1]\n",
    "P_storey=estimate(p,pi0=1)\n",
    "print(p)\n",
    "print(P_storey)\n",
    "print(P_benjhoch)\n",
    "\n",
    "# now visualising which genes are significant \n",
    "#doing with heatmaps \n",
    "\n",
    "P_allcorrected=np.array([p.values,P_bon,P_holm,P_benjhoch,P_storey])\n",
    "P_allcorrected_pd=pd.DataFrame(P_allcorrected,columns=p.index,index=['Uncorrected','bonferroni','Holm-Bonferroni step down','Benjamini/Hochberg','Storey'])\n",
    "ax = sns.heatmap(P_allcorrected_pd)\n",
    "\n",
    "\n",
    "# printing out the genes which indicate significance in each correction\n",
    "\n",
    "P_bon_pd=pd.Series(P_bon,index=p.index)\n",
    "print(\"Significant genes by bonferroni correction are\",P_bon_pd[P_bon_pd<0.05].index)\n",
    "\n",
    "P_holm_pd=pd.Series(P_holm,index=p.index)\n",
    "print(\"Significant genes by Holm Bonferroni correction are\",P_holm_pd[P_holm_pd<0.05].index)\n",
    "\n",
    "P_benjhoch_pd=pd.Series(P_benjhoch,index=p.index)\n",
    "print(\"Significant genes by Benjamin Hoch correction are\",P_benjhoch_pd[P_benjhoch_pd<0.05].index)\n",
    "\n",
    "P_storey_pd=pd.Series(P_storey,index=p.index)\n",
    "print(\"Significant genes by Storey correction are\",P_storey_pd[P_storey_pd<0.05].index)\n",
    "\n",
    "\n",
    "\n"
   ]
  },
  {
   "cell_type": "markdown",
   "metadata": {},
   "source": [
    "We observe that the FWER corrections involving bonferroni and holm bonferroni tremendously reduce the amount of significant genes, which is obvious due to its theoretical definition of being a low power and overly  conservative algorithm. Benjamini Hochberg and storey(FDR methods) on the other hand show slight reduction in the number of significant genes as compared to the uncorrected but it is SIGNIFICANTLY greater than the one given by FWER(1950 in FDR vs 553 and 542 in Holm bonferroni and bonferroni)"
   ]
  },
  {
   "cell_type": "markdown",
   "metadata": {},
   "source": [
    "## Problem 2. Probability Distributions\n",
    "\n",
    "### A. What is a probability density function? What is a moment?"
   ]
  },
  {
   "cell_type": "markdown",
   "metadata": {},
   "source": [
    "A probability density function explains the various values that a random variable can take(support),and with what probabilities. ex- the maximum temperature in a city can be described as a random variable and the proabilities with which it can take values in the support is decribes by the probability density function(pdf). A moment decribes how the shape of a function is, in this case the shape of a probability density function. The zeroth moment is the total probability, the first moment is the expected value of the pdf, the second moment(central) is the variance, the third standardised moment is the skewness, and the fourth moment is the kurtosis. "
   ]
  },
  {
   "cell_type": "markdown",
   "metadata": {},
   "source": [
    "### B. Assess the gene expression data in Homework_Data.xlsx. Calculate the mean, variance, skew, and kurtosis of the flattened data (all samples combined).  What do the skewness and kurtosis values tell us about the distribution in this case?"
   ]
  },
  {
   "cell_type": "code",
   "execution_count": 16,
   "metadata": {
    "scrolled": true
   },
   "outputs": [
    {
     "name": "stdout",
     "output_type": "stream",
     "text": [
      "[7.62931651 7.71493807 8.11334677 ... 0.         0.         0.        ]\n",
      "3.9148548260796803 3.34995525521457 0.08924480617090558 -0.442984202979555\n"
     ]
    }
   ],
   "source": [
    "from scipy.stats import describe as db\n",
    "flat_data=data.stack()\n",
    "print(flat_data.values)\n",
    "flat_data_mean=db(flat_data.values)[2]\n",
    "flat_data_variance=db(flat_data.values)[3]\n",
    "flat_data_skewness=db(flat_data.values)[4]\n",
    "flat_data_kurtosis=db(flat_data.values)[5]\n",
    "print(flat_data_mean,flat_data_variance,flat_data_skewness,flat_data_kurtosis)"
   ]
  },
  {
   "cell_type": "markdown",
   "metadata": {},
   "source": [
    "The value of the skewness is pretty close to zero. This indicates that the data is not skewed towards right or left when compared to a normal distribution, and hence the distribution is pretty symmetric. The slight negative values of kurtosis indicates that the shape of the distribution is slightly flat and the distribution is said to be platykurtic with respect to kurtosis. The underlying distribution of the data will be slightly flatter than the normal distribution(N.D), with lighter tails and the data will be less error prone to outliers compared to a N.D. "
   ]
  },
  {
   "cell_type": "markdown",
   "metadata": {},
   "source": [
    "### C. Compare the mean and variance of each sample to robust estimators of central tendency and dispersion, respectively. \n",
    "\n",
    "This can be done with a pair of scatter plots and a brief explanation."
   ]
  },
  {
   "cell_type": "code",
   "execution_count": 44,
   "metadata": {},
   "outputs": [
    {
     "data": {
      "text/plain": [
       "Text(0.5, 1.0, 'Analysing robust method of dispersion')"
      ]
     },
     "execution_count": 44,
     "metadata": {},
     "output_type": "execute_result"
    },
    {
     "data": {
      "image/png": "[encoded data removed]",
      "text/plain": [
       "<Figure size 432x288 with 1 Axes>"
      ]
     },
     "metadata": {
      "needs_background": "light"
     },
     "output_type": "display_data"
    },
    {
     "data": {
      "image/png": "[encoded data removed]",
      "text/plain": [
       "<Figure size 432x288 with 1 Axes>"
      ]
     },
     "metadata": {
      "needs_background": "light"
     },
     "output_type": "display_data"
    }
   ],
   "source": [
    "# so we calculate the mean, median, variance and mean absolute deviation across all the rows of the original data\n",
    "from scipy.stats import median_absolute_deviation as mad\n",
    "data_mean=db(data.values,axis=0)[2]\n",
    "data_variance=db(data.values,axis=0)[3]\n",
    "data_mad=mad(data.values,axis=0)\n",
    "data_median=data.median(axis=0)\n",
    "\n",
    "#PLotting mean and median\n",
    "fig=plt.subplots()\n",
    "plt.scatter(data_mean,data_median)\n",
    "plt.xlabel('Mean')\n",
    "plt.ylabel('Median')\n",
    "plt.title('Analysing robust method of central tendency')\n",
    "plt.plot(np.linspace(3.5,4.3),np.linspace(3.5,4.3)) # just doing to analyse how it compares with mean=median\n",
    "\n",
    "#variance and mad\n",
    "fig=plt.subplots()\n",
    "plt.scatter(data_variance,data_mad)\n",
    "plt.xlabel('variance')\n",
    "plt.ylabel('mean absolute deviation')\n",
    "plt.title('Analysing robust method of dispersion')\n",
    "# plt.xlim(1.5,4.5)\n",
    "# plt.xlim(1.5,4.5)\n",
    "# plt.plot(np.linspace(1.5,4.5),np.linspace(1.5,4.5))\n",
    "\n"
   ]
  },
  {
   "cell_type": "markdown",
   "metadata": {},
   "source": [
    "We see that for most of the samples, there is a larger median than the mean, a physical signifance of which is there is a long tail to left pulling down mean than median.So it indicates many genes aren't expressed at all or expressed in low values. Also the variance is more than the median absolute deviation for most data points. This is also since there are a lot of low values of expression of some genes under a particular sample condition increasing the variance. This plot also indicates that mad and median are better measures of central tendency and dispersion if the data doesn't follow a normal distribution, since mean and variance are affected by \"outliers\"."
   ]
  },
  {
   "cell_type": "markdown",
   "metadata": {},
   "source": [
    "### D. Assess whether the data follows a normal distribution using a quantile-quantile plot."
   ]
  },
  {
   "cell_type": "code",
   "execution_count": 51,
   "metadata": {
    "scrolled": true
   },
   "outputs": [
    {
     "name": "stdout",
     "output_type": "stream",
     "text": [
      "[ 2.02944333  2.07622375  2.2938994  ... -2.13893066 -2.13893066\n",
      " -2.13893066]\n"
     ]
    },
    {
     "data": {
      "image/png": "[encoded data removed]",
      "text/plain": [
       "<Figure size 432x288 with 1 Axes>"
      ]
     },
     "metadata": {
      "needs_background": "light"
     },
     "output_type": "display_data"
    }
   ],
   "source": [
    "import pylab \n",
    "import scipy.stats as stats\n",
    "\n",
    "# first we stack the data\n",
    "flat_data=data.stack()\n",
    "#now normalize the data \n",
    "data_norm = stats.zscore(flat_data)\n",
    "print(data_norm)                         \n",
    "stats.probplot(data_norm,dist=\"norm\",plot=pylab)\n",
    "pylab.show()"
   ]
  },
  {
   "cell_type": "markdown",
   "metadata": {},
   "source": [
    "We observe that the two distribution, one assumed the normal distribution and one assumed our sample distribution(shown by ordered values), almost lie on the line y=x. This indicates the distribution of these 2 funtions, the normal distibution and the sample distributions is almost similar. They have almost common location and scale since the line is not shifted from the y=x line. Also the tail behaviour can be observed with our data having lower values compared to the normal distribution seen in the extremes of left and right of the graph. So our sampled data has thicker tails compared to the N.D."
   ]
  },
  {
   "cell_type": "markdown",
   "metadata": {},
   "source": [
    "### E. Identify (or create) examples of how the following distributions might occur in analysis of biological data:\n",
    " - Poisson\n",
    " - Normal\n",
    " - Uniform\n"
   ]
  },
  {
   "cell_type": "markdown",
   "metadata": {},
   "source": [
    "Poisson distribution can occur when we are modelling a stochastic version of cell growth dynamics(prokaryotic). Here each cell produces Ki offspring in the next generation where each Ki is a poisson distributed r.v. Other examples include the probability of finding a restiction enzyme site in a given DNA sequence and the arrival of spike trains in an axon from different neurons via the synapse etc. Normal distribution might occur for example in gene expression data at a particular condition when done in replicates, or when we are seeing the effect of population charecteristics, for example the weight of all the mices used in a drug study etc. Uniform distribution might occur for example if we define the random variable to take discrete values A, T, G, C then if the function is the chance to find one of them in a single position in the DNA sequence then it is unifromly distributed over these 4 discrete values. Other examples include the probability of finding different types of microbe species in a mircobiome(define first the support as only microbes that are found in the microbiome) etc. "
   ]
  },
  {
   "cell_type": "markdown",
   "metadata": {},
   "source": [
    "## Problem 3: Bayesian Statistics\n",
    "Resources:\n",
    "- “What is Bayesian Statistics”: https://www.nature.com/articles/nbt0904-1177.pdf \n",
    "- Bayesian Statistics primers from Nature Methods: \n",
    "    - https://www.nature.com/articles/nmeth.3368 \n",
    "    - https://www.nature.com/articles/nmeth.3335 \n",
    "\n",
    "### A. Derive Bayes Theorem for the probability that “A” is true, given that “B” is true. Hint: Start from two ways of writing the probability of A and B both occurring. (Of course, following one of the many derivations available on the internet and in textbooks is fine.)\n",
    "\n",
    "Note that equations can be written in jupyter notebooks using latex:\n",
    "\n",
    "$$ y = ax^{2} + bx + c $$"
   ]
  },
  {
   "cell_type": "markdown",
   "metadata": {},
   "source": [
    "We know that conditional probability that A has occured given B is given by:\n",
    "<br>\n",
    "$ P(A/B)=P(A \\cap B)/P(B) $\n",
    "<br>\n",
    "$P(A \\cap B)=P(A/B). P(B)$ ---1)\n",
    "<br>\n",
    "Alternatively prob that B has occured given A is given by:\n",
    "<br>\n",
    "$ P(B/A)=P(A \\cap B)/P(A) $\n",
    "<br>\n",
    "$P(A \\cap B)=P(B/A). P(A)$ ---2)\n",
    "<br>\n",
    "equating RHS of eqns 1) and 2) since LHS is similar\n",
    "<br>\n",
    "$P(B/A). P(A)=P(A/B). P(B)$\n",
    "<br>\n",
    "$P(A/B)=(P(B/A). P(A)) / P(B)$\n",
    "<br>\n",
    "Hence proved"
   ]
  },
  {
   "cell_type": "markdown",
   "metadata": {},
   "source": [
    "### B. How does Bayesian thinking of probability of an alternative hypothesis occurring differ from frequentist use of p-values? What is the Bayes Factor and how does it compare to a p-value? "
   ]
  },
  {
   "cell_type": "markdown",
   "metadata": {},
   "source": [
    "A frequentist approach involves calculating the probabilty that the data is observed given that the hypothesis is true opposed to the Bayesian thinking involves the calculation that probability that the hypothesis is true given the data observed. Unlike frequentist, Bayesian approach requires defining an alternative hypothesis beforehand and also a prior distribution that gets evaluated. Bayes factor is defined as the ratio of the probability that the data is true given an alternate hypothesis to the ratio that the probability that the data is true given the null hypothesis(H0). A Bayes factor of 10 indicates a strong evidence for the alternate hypothesis(H1) and a Bayes factor of 3-5 indicates a moderate evidence for H1. Bayes factor of 1 indicates no evidence of the data to follow H1. This ratio when simplified involves using the reverse probability described in the 1st sentence. \n",
    "\n",
    "Bayes factor= $\\frac {P(D/H_1)}{P(D/H_0)}= \\frac {P(H_1/D).P(H_O)}{P(H_0/D).P(H_1)} $"
   ]
  },
  {
   "cell_type": "markdown",
   "metadata": {},
   "source": [
    "### C. Define the prior and posterior distributions and how they are determined."
   ]
  },
  {
   "cell_type": "markdown",
   "metadata": {},
   "source": [
    "A prior distribution is the probability of observing some entity, if r.v defines all the values of the support which it can take, the probability distribution of that random variable is the prior distribution. The starting prior distribution must be determined beforehand by the user themselves, the choice of what one chooses must be done carefully. Posterior probablity reprensents the probability that is calculated after taking the data into account, it is given by P(H/D), calulated using Bayes theorem. We update the prior based on the posterior for the next iteration and then calculate the posterior once again. This is repeated until one acheives the desired accuracy. \n",
    "\n"
   ]
  }
 ],
 "metadata": {
  "kernelspec": {
   "display_name": "Python 3",
   "language": "python",
   "name": "python3"
  },
  "language_info": {
   "codemirror_mode": {
    "name": "ipython",
    "version": 3
   },
   "file_extension": ".py",
   "mimetype": "text/x-python",
   "name": "python",
   "nbconvert_exporter": "python",
   "pygments_lexer": "ipython3",
   "version": "3.7.3"
  }
 },
 "nbformat": 4,
 "nbformat_minor": 2
}
