{
 "cells": [
  {
   "cell_type": "markdown",
   "metadata": {},
   "source": [
    "# BENG 212 HW 5\n",
    "\n",
    "##  Name: ___________\n",
    "\n",
    "### 3/3/2020\n",
    "\n",
    "#### Resources\n",
    "- An interesting read comparing statistics to ML: https://www.nature.com/articles/nmeth.4642 "
   ]
  },
  {
   "cell_type": "code",
   "execution_count": 2,
   "metadata": {},
   "outputs": [],
   "source": [
    "import numpy as np\n",
    "import pandas as pd\n",
    "import matplotlib.pyplot as plt\n",
    "import seaborn as sns\n",
    "from scipy import stats\n",
    "from sklearn.linear_model import LogisticRegression\n",
    "\n",
    "data = pd.read_excel('Homework_Data.xlsx', sheet_name = 'Expression Data', index_col = 0)\n",
    "metadata = pd.read_excel('Homework_Data.xlsx', sheet_name = 'Experimental Conditions', index_col = 0)\n",
    "gene_info = pd.read_excel('Homework_Data.xlsx', sheet_name = 'Gene Information', index_col = 0)"
   ]
  },
  {
   "cell_type": "markdown",
   "metadata": {},
   "source": []
  },
  {
   "cell_type": "markdown",
   "metadata": {},
   "source": [
    "## Problem 1: Supervised learning methods\n",
    "\n",
    "### A. Train a binary classifier to distinguish between the strains MG1655 and BW25113 for  the following two models.\n",
    "\n",
    "#### A.i. Logistic Regression"
   ]
  },
  {
   "cell_type": "markdown",
   "metadata": {},
   "source": [
    "Lock box approach in slides...do only training set and validation set cos of the small sample numbers. "
   ]
  },
  {
   "cell_type": "code",
   "execution_count": 14,
   "metadata": {
    "scrolled": true
   },
   "outputs": [
    {
     "data": {
      "text/plain": [
       "Escherichia coli K-12 MG1655              41\n",
       "Escherichia coli K-12 BW25113 del_nac      8\n",
       "Escherichia coli BW25113                   8\n",
       "Escherichia coli K-12 MG1655 del_cra       6\n",
       "Escherichia coli K-12 MG1655 rpoBE546V     5\n",
       "Escherichia coli K-12 MG1655 rpoBE672K     4\n",
       "Escherichia coli K-12 MG1655 del_fur       4\n",
       "Escherichia coli BW25113 del_cra           3\n",
       "Escherichia coli K-12 MG1655 del_soxR      2\n",
       "Escherichia coli K-12 BW25113 del_fadR     2\n",
       "Escherichia coli K-12 MG1655 del_gadW      2\n",
       "Escherichia coli K-12 MG1655 del_gadE      2\n",
       "Escherichia coli K-12 MG1655 del_gadX      2\n",
       "Escherichia coli K-12 MG1655 del_oxyR      2\n",
       "Escherichia coli K-12 BW25113 del_ompR     2\n",
       "Escherichia coli K-12 BW25113 del_fabR     2\n",
       "Escherichia coli K-12 BW25113 del_cbl      2\n",
       "Escherichia coli K-12 MG1655 del_soxS      2\n",
       "Escherichia coli BW25113 del_nac           2\n",
       "Escherichia coli BW25113 del_mntR          1\n",
       "Name: Strain Description, dtype: int64"
      ]
     },
     "execution_count": 14,
     "metadata": {},
     "output_type": "execute_result"
    }
   ],
   "source": [
    "metadata['Strain Description'].value_counts()\n",
    "# there is a class imbalance..btwn 41 and 8. We need only first and third  groups. "
   ]
  },
  {
   "cell_type": "code",
   "execution_count": 16,
   "metadata": {
    "scrolled": false
   },
   "outputs": [
    {
     "data": {
      "text/plain": [
       "Index(['base__wt_glc__1', 'base__wt_glc__2', 'fur__wt_dpd__1',\n",
       "       'fur__wt_dpd__2', 'fur__wt_fe__1', 'fur__wt_fe__2', 'acid__wt_ph5__1',\n",
       "       'acid__wt_ph5__2', 'oxidative__wt_pq__1', 'oxidative__wt_pq__2',\n",
       "       'nac_ntrc__wt_csn__1', 'nac_ntrc__wt_csn__2', 'nac_ntrc__wt_cytd__1',\n",
       "       'nac_ntrc__wt_cytd__2', 'nac_ntrc__wt_gln__1', 'nac_ntrc__wt_gln__2',\n",
       "       'misc__wt_no_te__1', 'misc__wt_no_te__2', 'omics__wt_glu__1',\n",
       "       'omics__wt_glu__2', 'omics__wt_gly__1', 'omics__wt_gly__2',\n",
       "       'omics__wt_thr__1', 'omics__wt_thr__2', 'ompr__wt_nacl__1',\n",
       "       'minspan__wt_ade__1', 'minspan__wt_glc__1', 'minspan__wt_glc__2',\n",
       "       'minspan__wt_glc__3', 'minspan__wt_glc__4', 'minspan__wt_glc_anaero__1',\n",
       "       'minspan__wt_glc_anaero__2', 'minspan__wt_trp__1', 'cra_crp__wt_ac__1',\n",
       "       'cra_crp__wt_ac__2', 'cra_crp__wt_fru__1', 'cra_crp__wt_fru__2',\n",
       "       'rpoB__wt_031__1', 'rpoB__wt_044__1', 'rpoB__wt_lb__1',\n",
       "       'rpoB__wt_lb__2'],\n",
       "      dtype='object', name='Sample ID')"
      ]
     },
     "execution_count": 16,
     "metadata": {},
     "output_type": "execute_result"
    }
   ],
   "source": [
    "MG_samples=metadata.index[metadata['Strain Description']=='Escherichia coli K-12 MG1655' ]\n",
    "MG1655_samples\n",
    "# gives a list of every sample in that strain. \n"
   ]
  },
  {
   "cell_type": "code",
   "execution_count": 13,
   "metadata": {},
   "outputs": [
    {
     "data": {
      "text/plain": [
       "Index(['omics__bw_ac__1', 'omics__bw_ac__2', 'omics__bw_fum__1',\n",
       "       'omics__bw_fum__2', 'omics__bw_glc__1', 'omics__bw_glc__2',\n",
       "       'omics__bw_pyr__1', 'omics__bw_pyr__2'],\n",
       "      dtype='object', name='Sample ID')"
      ]
     },
     "execution_count": 13,
     "metadata": {},
     "output_type": "execute_result"
    }
   ],
   "source": [
    "BW_samples=metadata.index[metadata['Strain Description']=='Escherichia coli BW25113' ]\n",
    "BW_samples"
   ]
  },
  {
   "cell_type": "code",
   "execution_count": 20,
   "metadata": {},
   "outputs": [
    {
     "name": "stdout",
     "output_type": "stream",
     "text": [
      "41 8\n",
      "30.75 6.0\n"
     ]
    }
   ],
   "source": [
    "print(len(MG_samples),len(BW_samples))\n",
    "# if 25 was training set and \n",
    "print(0.75*len(MG_samples),0.75*len(BW_samples))\n"
   ]
  },
  {
   "cell_type": "code",
   "execution_count": 31,
   "metadata": {},
   "outputs": [],
   "source": [
    "import random \n",
    "all_samples = MG_samples.append(BW_samples)\n",
    "\n",
    "train_mg=random.sample(set(MG_samples),31 )\n",
    "#need to convert pd to list and get 31 from above box. \n",
    "train_mg=random.sample(set(MG_samples),31 )\n",
    "# we are making a venn diagram approach above to get a non overlapping data\n",
    "\n",
    "test_mg= list (set(MG_samples)-set(train_mg))\n",
    "\n",
    "# do the same for bw...and use k=6 \n",
    "train_bw=random.sample(set(BW_samples),6 )\n",
    "train_bw=random.sample(set(BW_samples),6 )\n",
    "test_bw= list (set(BW_samples)-set(train_bw))\n",
    "\n",
    "train_samples = train_mg + train_bw\n",
    "test_samples =test_mg + test_bw\n"
   ]
  },
  {
   "cell_type": "code",
   "execution_count": 39,
   "metadata": {},
   "outputs": [
    {
     "name": "stderr",
     "output_type": "stream",
     "text": [
      "/opt/anaconda3/lib/python3.7/site-packages/sklearn/linear_model/logistic.py:432: FutureWarning: Default solver will be changed to 'lbfgs' in 0.22. Specify a solver to silence this warning.\n",
      "  FutureWarning)\n"
     ]
    },
    {
     "data": {
      "text/plain": [
       "0.8333333333333334"
      ]
     },
     "execution_count": 39,
     "metadata": {},
     "output_type": "execute_result"
    }
   ],
   "source": [
    "from sklearn.datasets import load_iris\n",
    "from sklearn.linear_model import LogisticRegression\n",
    "\n",
    "train_labels=(metadata.loc[train_samples,'Strain Description']=='Escherichia coli BW25113')\n",
    "test_labels=(metadata.loc[test_samples,'Strain Description']=='Escherichia coli BW25113')\n",
    "\n",
    "lr=LogisticRegression()\n",
    "\n",
    "# changing cost function lr=LogisticRegression('L1') give histogram everything at zero which is wrong. \n",
    "\n",
    "lr=lr.fit(data.loc[:,train_samples].T,train_labels)\n",
    "\n",
    "lr.score(data.loc[:,test_samples].T, test_labels)\n",
    "lr.score(data.loc[:,test_samples].T, [False]*len(test_samples))\n",
    "# this gives a 0.833 or 83.3% values\n",
    "\n",
    "lr.predict_proba(data.loc[:,test_samples].T)\n",
    "# the above code gives an array([[9.99722875e-01, 2.77124614e-04],..... here in last row ,it means a 98.99% \n"
   ]
  },
  {
   "cell_type": "markdown",
   "metadata": {},
   "source": [
    "supervised learning algs slide\n",
    "logisitc regression\n",
    "use sk learn function..tolerance, cost fn, change parameters in code \n",
    "\n",
    "cost = perf + aZ|b| <--  L1, for L1 there are few imp functions highly weighted and rest of them will be zero. \n",
    "high alpha is less likely to be accurate and less over fit. if u r over fitting the model, increase alpha otherwise decrease it when u are undersfitting. \n",
    "\n",
    "elastic net --> cost = perf + a(l1z|b|+ (1-l1)b^2)\n",
    "This penalizes extremely high weights \n",
    "same for L2 --> z|b^2|\n",
    "perf metric gives wht fractions of our answers were wrong. ..\n"
   ]
  },
  {
   "cell_type": "markdown",
   "metadata": {},
   "source": [
    "inf variables: features? genes that distinguish btwn this 2 strains. \n",
    "Performance: \n",
    "get def for both...\n",
    "qs needs more clarity. "
   ]
  },
  {
   "cell_type": "code",
   "execution_count": 43,
   "metadata": {},
   "outputs": [
    {
     "data": {
      "text/plain": [
       "(array([   6.,    0.,    9.,   20.,  291., 2631.,  869.,   46.,    9.,\n",
       "           6.]),\n",
       " array([-0.06873993, -0.05659102, -0.04444211, -0.0322932 , -0.02014429,\n",
       "        -0.00799538,  0.00415353,  0.01630244,  0.02845135,  0.04060026,\n",
       "         0.05274917]),\n",
       " <a list of 10 Patch objects>)"
      ]
     },
     "execution_count": 43,
     "metadata": {},
     "output_type": "execute_result"
    },
    {
     "data": {
      "image/png": "[encoded data removed]",
      "text/plain": [
       "<Figure size 432x288 with 1 Axes>"
      ]
     },
     "metadata": {
      "needs_background": "light"
     },
     "output_type": "display_data"
    }
   ],
   "source": [
    "len(lr.coef_[0]) \n",
    "# there is one for each gene and lr has 2 classes which is our 2 samples\n",
    "importance=lr.coef_[0]\n",
    "plt.hist(importance)\n",
    "# for each gene if its highly expressed is it a good sign that BW is positive and MG is negatively weighted. \n",
    "\n"
   ]
  },
  {
   "cell_type": "markdown",
   "metadata": {},
   "source": [
    "logistic regression: Penalty? elastinet? "
   ]
  },
  {
   "cell_type": "code",
   "execution_count": 55,
   "metadata": {
    "scrolled": true
   },
   "outputs": [
    {
     "name": "stderr",
     "output_type": "stream",
     "text": [
      "/opt/anaconda3/lib/python3.7/site-packages/sklearn/linear_model/logistic.py:432: FutureWarning: Default solver will be changed to 'lbfgs' in 0.22. Specify a solver to silence this warning.\n",
      "  FutureWarning)\n"
     ]
    },
    {
     "data": {
      "image/png": "[encoded data removed]",
      "text/plain": [
       "<Figure size 432x288 with 1 Axes>"
      ]
     },
     "metadata": {
      "needs_background": "light"
     },
     "output_type": "display_data"
    }
   ],
   "source": [
    "lr=LogisticRegression('l2')\n",
    "# changed various parameters in above code. 11..12...13.. \n",
    "lr=LogisticRegression('elasticnet')\n",
    "lr=lr.fit(data.loc[:,train_samples].T,train_labels)\n",
    "importance=lr.coef_[0]\n",
    "plt.hist(importance)\n",
    "\n",
    "\n",
    "plt.yscale('log')"
   ]
  },
  {
   "cell_type": "code",
   "execution_count": 57,
   "metadata": {},
   "outputs": [
    {
     "data": {
      "text/html": [
       "<div>\n",
       "<style scoped>\n",
       "    .dataframe tbody tr th:only-of-type {\n",
       "        vertical-align: middle;\n",
       "    }\n",
       "\n",
       "    .dataframe tbody tr th {\n",
       "        vertical-align: top;\n",
       "    }\n",
       "\n",
       "    .dataframe thead th {\n",
       "        text-align: right;\n",
       "    }\n",
       "</style>\n",
       "<table border=\"1\" class=\"dataframe\">\n",
       "  <thead>\n",
       "    <tr style=\"text-align: right;\">\n",
       "      <th></th>\n",
       "      <th>weight</th>\n",
       "      <th>abs_val</th>\n",
       "    </tr>\n",
       "  </thead>\n",
       "  <tbody>\n",
       "    <tr>\n",
       "      <td>b3994</td>\n",
       "      <td>-0.068740</td>\n",
       "      <td>0.068740</td>\n",
       "    </tr>\n",
       "    <tr>\n",
       "      <td>b3990</td>\n",
       "      <td>-0.068437</td>\n",
       "      <td>0.068437</td>\n",
       "    </tr>\n",
       "    <tr>\n",
       "      <td>b3992</td>\n",
       "      <td>-0.065477</td>\n",
       "      <td>0.065477</td>\n",
       "    </tr>\n",
       "    <tr>\n",
       "      <td>b3993</td>\n",
       "      <td>-0.065206</td>\n",
       "      <td>0.065206</td>\n",
       "    </tr>\n",
       "    <tr>\n",
       "      <td>b3991</td>\n",
       "      <td>-0.060117</td>\n",
       "      <td>0.060117</td>\n",
       "    </tr>\n",
       "  </tbody>\n",
       "</table>\n",
       "</div>"
      ],
      "text/plain": [
       "         weight   abs_val\n",
       "b3994 -0.068740  0.068740\n",
       "b3990 -0.068437  0.068437\n",
       "b3992 -0.065477  0.065477\n",
       "b3993 -0.065206  0.065206\n",
       "b3991 -0.060117  0.060117"
      ]
     },
     "execution_count": 57,
     "metadata": {},
     "output_type": "execute_result"
    }
   ],
   "source": [
    "importance=pd.DataFrame(importance, index=data.index, columns =['weight'])\n",
    "importance['abs_val']=importance.weight.abs()\n",
    "top5_lr= importance.sort_values('abs_val', ascending =False).iloc[0:5,:]\n",
    "top5_lr\n",
    "# get cog table to get intrepretation for values of the genes and wich are expressed in the data. \n",
    "# Accuracy is gonna be 1, TPR TNR, precision, Mathews corr...all r 1 for LR, SVM,Optimal rows. \n",
    "TP..FP.. "
   ]
  },
  {
   "cell_type": "markdown",
   "metadata": {},
   "source": [
    "This has operons and cogs.. start..stop..strand..gene_name..length..\n",
    "Also another plot...with S plot from slide logistic regression. \n",
    "If the model was over fittting- reduce size of training set\n",
    "bootstrapping - let the model learn only frm sub set\n"
   ]
  },
  {
   "cell_type": "markdown",
   "metadata": {},
   "source": [
    "#### A.ii. Support Vector Machines"
   ]
  },
  {
   "cell_type": "code",
   "execution_count": null,
   "metadata": {},
   "outputs": [],
   "source": [
    "            "
   ]
  },
  {
   "cell_type": "markdown",
   "metadata": {},
   "source": [
    "### B. Interpret your models in terms of performance and influential variables."
   ]
  },
  {
   "cell_type": "markdown",
   "metadata": {},
   "source": [
    "### C. Train a regression model to predict expression of rpoB (b3987) from the expression of all other genes, for each of the following approaches. Repeat the analysis in part b.\n",
    "\n",
    "#### C.i. Simple linear regression\n"
   ]
  },
  {
   "cell_type": "code",
   "execution_count": 62,
   "metadata": {},
   "outputs": [
    {
     "name": "stdout",
     "output_type": "stream",
     "text": [
      "(102,)\n",
      "(3886, 102)\n"
     ]
    }
   ],
   "source": [
    "# all above qs r classification problem..below ones and this one is a quantitative problem\n",
    "\n",
    "rpob=data.loc['b3987']\n",
    "no_rpob=data.drop('b3987')\n",
    "\n",
    "print(rpob.shape) # 102\n",
    "print(no_rpob.shape) # 3886, 102...no need to worry abt class imbalance\n",
    "\n",
    "train_samples=random.sample(list(data.columns),75) # 75...is arbitary upto u to select\n",
    "test_samples = list(set(data.columns)-set(train_samples))\n",
    "\n",
    "train_no_rpob=no_rpob[train_samples]\n",
    "test_no_rpob=no_rpob[test_samples]"
   ]
  },
  {
   "cell_type": "markdown",
   "metadata": {},
   "source": [
    "#### C.ii. Regression trees (be sure to set a reasonable depth which is slightly less than the automatically selected maximum depth in order to prevent overfitting)"
   ]
  },
  {
   "cell_type": "markdown",
   "metadata": {},
   "source": [
    "what is the best feature to separate data sets...lec 13:rectomes and pan genomes. 27 slide classification schema..The ending tree but be cos of over fitting. \n",
    "Run reg tree alg..and run it 10 time and print out. \n",
    "tree_:Tree \n",
    "\n",
    "Trees are gonna be hard "
   ]
  },
  {
   "cell_type": "code",
   "execution_count": 4,
   "metadata": {
    "scrolled": true
   },
   "outputs": [
    {
     "ename": "NameError",
     "evalue": "name 'reg_tree' is not defined",
     "output_type": "error",
     "traceback": [
      "\u001b[0;31m---------------------------------------------------------------------------\u001b[0m",
      "\u001b[0;31mNameError\u001b[0m                                 Traceback (most recent call last)",
      "\u001b[0;32m<ipython-input-4-1f8ca3a3037d>\u001b[0m in \u001b[0;36m<module>\u001b[0;34m\u001b[0m\n\u001b[0;32m----> 1\u001b[0;31m \u001b[0mreg_tree\u001b[0m\u001b[0;34m.\u001b[0m\u001b[0mtree\u001b[0m\u001b[0;34m.\u001b[0m\u001b[0mmax_depth\u001b[0m\u001b[0;34m\u001b[0m\u001b[0;34m\u001b[0m\u001b[0m\n\u001b[0m\u001b[1;32m      2\u001b[0m \u001b[0;31m#run this bunch of times (10) and shld I change depth = 9 or 85 by depending on the accuracy.\u001b[0m\u001b[0;34m\u001b[0m\u001b[0;34m\u001b[0m\u001b[0;34m\u001b[0m\u001b[0m\n",
      "\u001b[0;31mNameError\u001b[0m: name 'reg_tree' is not defined"
     ]
    }
   ],
   "source": [
    "reg_tree.tree.max_depth\n",
    "#run this bunch of times (10) and shld I change depth = 9 or 85 by depending on the accuracy.\n",
    "#depth of 1 means genes at 1? "
   ]
  },
  {
   "cell_type": "markdown",
   "metadata": {},
   "source": [
    "## 2. Regularization\n",
    "\n",
    "### A. Discuss the following types of regularization.\n",
    "\n",
    "#### A.i. L1 and L2 penalties"
   ]
  },
  {
   "cell_type": "markdown",
   "metadata": {},
   "source": [
    "Arreal presentation? "
   ]
  },
  {
   "cell_type": "markdown",
   "metadata": {},
   "source": []
  },
  {
   "cell_type": "markdown",
   "metadata": {},
   "source": [
    "#### A.ii. Boosting, bagging, and pruning trees"
   ]
  },
  {
   "cell_type": "markdown",
   "metadata": {},
   "source": []
  },
  {
   "cell_type": "markdown",
   "metadata": {},
   "source": [
    "#### A.iii. Early stopping"
   ]
  },
  {
   "cell_type": "markdown",
   "metadata": {},
   "source": []
  },
  {
   "cell_type": "markdown",
   "metadata": {},
   "source": [
    "### B. Implement elastic net regression for the linear regression in part 1c. Vary L1 and L2 weights and evaluate the performance of the model."
   ]
  },
  {
   "cell_type": "markdown",
   "metadata": {},
   "source": [
    "cost = SSE + alpha(l1.ratio(sum of |b| + (1)))} Performance (Loss)\n",
    "try varying ... alpha, l1 ratio, b^2\n",
    "If cost is high then dont select that model? \n",
    "heatmap graph (matrix) btwn alpha vs l1 ratio"
   ]
  },
  {
   "cell_type": "code",
   "execution_count": null,
   "metadata": {},
   "outputs": [],
   "source": []
  },
  {
   "cell_type": "markdown",
   "metadata": {},
   "source": [
    "## 3. Model Assessment\n",
    "\n",
    "### A. Construct PR and ROC curves for the SVM model you generated in problem 1a. "
   ]
  },
  {
   "cell_type": "markdown",
   "metadata": {},
   "source": [
    "Assess the threshold using predictproba function\n",
    "take predict proba output and do histogram. Then a perpendicular dotted line to x axis. \n",
    "If you get perfect separation...then 2 different peaks.  \n",
    "Evaluate to test data for models. test labels. "
   ]
  },
  {
   "cell_type": "code",
   "execution_count": null,
   "metadata": {},
   "outputs": [],
   "source": []
  },
  {
   "cell_type": "markdown",
   "metadata": {},
   "source": [
    "### B. Choose a threshold value for classification based on your results from 3a and construct a confusion matrix at this threshold."
   ]
  },
  {
   "cell_type": "code",
   "execution_count": null,
   "metadata": {},
   "outputs": [],
   "source": []
  },
  {
   "cell_type": "markdown",
   "metadata": {},
   "source": [
    "### C. Resampling\n",
    "\n",
    "#### C.i. Perform bootstrapping on your data (100x) to calculate your confidence intervals for your 1c model performance and model coefficients."
   ]
  },
  {
   "cell_type": "markdown",
   "metadata": {},
   "source": [
    "sklearn.resample function.\n",
    "give it transpose data and n samples that size of training set.\n",
    "bootstrapping: trains the model. wht wud predictions be if data was completely random. "
   ]
  },
  {
   "cell_type": "markdown",
   "metadata": {},
   "source": [
    "if u were to shuffle gene numbers then something will occur twice\n",
    "train the data gives a performance matrix: explained variance and weights\n",
    "make a matrix of each run and weights in each gene\n",
    "have a distribution of eahc weight\n",
    "Use fn: np.percentile ( \n",
    "run it 100 times? \n",
    "Maybe include knockout genes or not. Consider that. "
   ]
  },
  {
   "cell_type": "code",
   "execution_count": null,
   "metadata": {},
   "outputs": [],
   "source": [
    "data.loc['nac_ntrc__bw_delnac_csn__2','b0002']"
   ]
  },
  {
   "cell_type": "code",
   "execution_count": null,
   "metadata": {},
   "outputs": [],
   "source": [
    "from sklearn.utils import resample\n",
    "\n",
    "bs_train = resample(data.transpose(), n_samples=80)\n",
    "bs_train"
   ]
  },
  {
   "cell_type": "markdown",
   "metadata": {},
   "source": [
    "#### C.ii. Perform 5-fold cross-validation (100x) to assess model overfitting."
   ]
  },
  {
   "cell_type": "markdown",
   "metadata": {},
   "source": [
    "1/5th split and run it in 100 times. "
   ]
  },
  {
   "cell_type": "code",
   "execution_count": null,
   "metadata": {},
   "outputs": [],
   "source": [
    "kf=KFold(n_splits=5, shuffle = True)\n",
    "ind=0\n",
    "\n",
    "for i in range(n_iter): #100 splits\n",
    "        for train, test in kf.split(cv_data.transpose()): #5 fold cv\n",
    "            #generate model\n",
    "            #save output\n",
    "            #time 1.33\n",
    "            \n",
    "            #frequency vs explained variance.(set the axis to 0-1) overlapping means its not terribly over fit\n",
    "            \n",
    "            train_expvar=\n",
    "            test_expvar="
   ]
  },
  {
   "cell_type": "markdown",
   "metadata": {},
   "source": [
    "### D. Variable importance\n",
    "\n",
    "#### D.i. Based on your bootstrapped models, which variables appear the most important at distinguishing between the strains MG1655 and BW25113?"
   ]
  },
  {
   "cell_type": "code",
   "execution_count": null,
   "metadata": {},
   "outputs": [],
   "source": []
  },
  {
   "cell_type": "markdown",
   "metadata": {},
   "source": [
    "#### D.ii. Take your top variable by importance and permute it (randomly shuffle it) - how is your model performance affected? Compare this to the performance change from permuting a variable not considered to be important in your model."
   ]
  },
  {
   "cell_type": "markdown",
   "metadata": {},
   "source": [
    "Randomizing model breaks machine learning to find out if its good enough "
   ]
  },
  {
   "cell_type": "markdown",
   "metadata": {},
   "source": [
    "we are looking at genes and generating random values of genes. Then retraining the model. It can learn from other variables and not frm this variable. \n",
    "Randomly shuffle the gene and create a completely new dataframe and put them in data matrix.\n",
    "the model will ignore this variable. \n",
    "random tip: use None for removing random texts from plotting matlib plots and removing numbers of histogram. "
   ]
  },
  {
   "cell_type": "code",
   "execution_count": null,
   "metadata": {},
   "outputs": [],
   "source": [
    "np.random.permutation \n",
    "\n"
   ]
  }
 ],
 "metadata": {
  "kernelspec": {
   "display_name": "Python 3",
   "language": "python",
   "name": "python3"
  },
  "language_info": {
   "codemirror_mode": {
    "name": "ipython",
    "version": 3
   },
   "file_extension": ".py",
   "mimetype": "text/x-python",
   "name": "python",
   "nbconvert_exporter": "python",
   "pygments_lexer": "ipython3",
   "version": "3.7.4"
  }
 },
 "nbformat": 4,
 "nbformat_minor": 2
}
