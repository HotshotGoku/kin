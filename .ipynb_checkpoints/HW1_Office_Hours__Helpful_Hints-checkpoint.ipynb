{
 "cells": [
  {
   "cell_type": "markdown",
   "metadata": {},
   "source": [
    "# BENG 212 HW1 Office Hours - Helpful Hints"
   ]
  },
  {
   "cell_type": "code",
   "execution_count": 1,
   "metadata": {},
   "outputs": [],
   "source": [
    "import numpy as np\n",
    "import pandas as pd\n",
    "import matplotlib.pyplot as plt\n",
    "import seaborn as sns\n",
    "from scipy import stats\n",
    "from sklearn.decomposition import PCA, FastICA\n",
    "\n",
    "data = pd.read_excel('Homework_Data.xlsx', sheet_name = 'Expression Data', index_col = 0)\n",
    "metadata = pd.read_excel('Homework_Data.xlsx', sheet_name = 'Experimental Conditions', index_col = 0)\n",
    "gene_info = pd.read_excel('Homework_Data.xlsx', sheet_name = 'Gene Information', index_col = 0)"
   ]
  },
  {
   "cell_type": "markdown",
   "metadata": {},
   "source": [
    "## General OH tips\n",
    "\n",
    "- Google is your best friend! Learning to google code effectively is a major skill of this class.\n",
    "- Some extra advice is in the PDF version of the HW and not the jupyter template. Future templates will be more complete, sorry!\n",
    "- In the ICA part, we need to cluster the components in order to find which ones are \"stable\" across runs. Pseudocode for that will be coming on Piazza.\n"
   ]
  },
  {
   "cell_type": "markdown",
   "metadata": {},
   "source": [
    "## General Jupyter Notebook Tips\n",
    "\n",
    "- ctrl+click at multiple places to type in several places at once\n",
    "- highlight something and then press ', \\[\\, \\(, etc. to frame the something in the character you pressed\n",
    "- shift+tab after an open parentheses opens the documentation for the function\n",
    "- clicking to the left of a cell allows you to use notebook controls, such as pressing 'm' to make the cell a markdown/text cell, pressing 'a' to insert a cell above, pressing 'b' to insert a cell below, or 'dd' to delete a cell"
   ]
  },
  {
   "cell_type": "markdown",
   "metadata": {},
   "source": [
    "## Dataframe indexing, sorting, and relationship to NumPy"
   ]
  },
  {
   "cell_type": "code",
   "execution_count": 2,
   "metadata": {},
   "outputs": [],
   "source": [
    "# Specific element\n",
    "data.loc['b0004', 'base__wt_glc__1']\n",
    "\n",
    "# full column\n",
    "data['base__wt_glc__1']\n",
    "data.base__wt_glc__1 # only works if column name does not contain spaces\n",
    "\n",
    "# full row\n",
    "data.loc['b0004']\n",
    "\n",
    "# specific subset\n",
    "genes = ['b0025', 'b0028']\n",
    "samples = ['fur__wt_dpd__1', 'fur__wt_dpd__2']\n",
    "data.loc[genes, samples]\n",
    "\n",
    "None"
   ]
  },
  {
   "cell_type": "code",
   "execution_count": 3,
   "metadata": {},
   "outputs": [],
   "source": [
    "# sort a column\n",
    "data.base__wt_glc__1.sort_values(ascending = False) \n",
    "#ascending = True (default) would put small values first\n",
    "\n",
    "# sort a dataframe by the values of a specific column\n",
    "data.sort_values('base__wt_glc__1', ascending = False)\n",
    "\n",
    "# sort all elements; do this by first stacking the dataframe\n",
    "data.stack().sort_values(ascending = False)\n",
    "\n",
    "None"
   ]
  },
  {
   "cell_type": "code",
   "execution_count": 4,
   "metadata": {},
   "outputs": [],
   "source": [
    "# a pandas dataframe is composed of a numpy matrix plus index, columns, and other functionality:\n",
    "data.values # this returns the numpy matrix\n",
    "\n",
    "# to turn a numpy matrix into a dataframe:\n",
    "np_matrix = data.values\n",
    "pd_df = pd.DataFrame(np_matrix, index = data.index, columns = data.columns)\n",
    "# it is recommended to turn all np matrices into dataframes so that you remember what the index and columns are"
   ]
  },
  {
   "cell_type": "markdown",
   "metadata": {},
   "source": [
    "## Some code to get you started with PCA"
   ]
  },
  {
   "cell_type": "code",
   "execution_count": 5,
   "metadata": {},
   "outputs": [],
   "source": [
    "# to normalize the data in one line:\n",
    "data_norm = pd.DataFrame(stats.zscore(data, axis = 1), index = data.index, columns = data.columns)\n",
    "\n",
    "# using the PCA package\n",
    "pca = PCA()\n",
    "data_PC = pca.fit_transform(data_norm.T)\n",
    "data_PC = pd.DataFrame(data_PC.transpose(), columns = data.columns)\n",
    "comps = pd.DataFrame(pca.components_, columns = data.index)\n",
    "exp_var = pca.explained_variance_/pca.explained_variance_.sum()"
   ]
  },
  {
   "cell_type": "markdown",
   "metadata": {},
   "source": [
    "## Plotting in several colors"
   ]
  },
  {
   "cell_type": "code",
   "execution_count": 6,
   "metadata": {},
   "outputs": [
    {
     "data": {
      "text/plain": [
       "array(['M9', 'W2', 'LB'], dtype=object)"
      ]
     },
     "execution_count": 6,
     "metadata": {},
     "output_type": "execute_result"
    }
   ],
   "source": [
    "metadata['Base Media'].unique()"
   ]
  },
  {
   "cell_type": "code",
   "execution_count": 7,
   "metadata": {},
   "outputs": [
    {
     "data": {
      "text/plain": [
       "Text(0.5, 0, 'gene1')"
      ]
     },
     "execution_count": 7,
     "metadata": {},
     "output_type": "execute_result"
    },
    {
     "data": {
      "image/png": "[encoded data removed]",
      "text/plain": [
       "<Figure size 432x288 with 1 Axes>"
      ]
     },
     "metadata": {
      "needs_background": "light"
     },
     "output_type": "display_data"
    }
   ],
   "source": [
    "gene1 = 'b0007'\n",
    "gene2 = 'b0009'\n",
    "\n",
    "figure, ax = plt.subplots()\n",
    "\n",
    "colors = ['b', 'g', 'cyan']\n",
    "color_dict = dict(zip(metadata['Base Media'].unique(), colors))\n",
    "\n",
    "for name, group in metadata.groupby('Base Media'):\n",
    "    ax.scatter(data.loc[gene1, group.index], data.loc[gene2, group.index], color = color_dict[name])\n",
    "    \n",
    "ax.set_ylabel('gene2')\n",
    "ax.set_xlabel('gene1')"
   ]
  }
 ],
 "metadata": {
  "kernelspec": {
   "display_name": "Python 3",
   "language": "python",
   "name": "python3"
  },
  "language_info": {
   "codemirror_mode": {
    "name": "ipython",
    "version": 3
   },
   "file_extension": ".py",
   "mimetype": "text/x-python",
   "name": "python",
   "nbconvert_exporter": "python",
   "pygments_lexer": "ipython3",
   "version": "3.6.8"
  }
 },
 "nbformat": 4,
 "nbformat_minor": 2
}
