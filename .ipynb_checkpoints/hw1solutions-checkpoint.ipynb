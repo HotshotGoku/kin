{
 "cells": [
  {
   "cell_type": "markdown",
   "metadata": {},
   "source": [
    "# BENG 212 HW 1 Solutions\n",
    "\n",
    "## Winter 2020\n",
    "\n",
    "### 1/21/2020"
   ]
  },
  {
   "cell_type": "code",
   "execution_count": 2,
   "metadata": {},
   "outputs": [],
   "source": [
    "import numpy as np\n",
    "import pandas as pd\n",
    "import matplotlib.pyplot as plt\n",
    "import seaborn as sns\n",
    "from scipy import stats\n",
    "from sklearn.decomposition import PCA, FastICA\n",
    "from sklearn.metrics import explained_variance_score\n",
    "from sklearn.metrics import mean_squared_error"
   ]
  },
  {
   "cell_type": "markdown",
   "metadata": {},
   "source": [
    "Read in the data file as a pandas dataframe. The following line will only work if the provided 'Homework_Data.xlsx' file is in the same folder as this one."
   ]
  },
  {
   "cell_type": "code",
   "execution_count": 3,
   "metadata": {},
   "outputs": [
    {
     "data": {
      "text/html": [
       "<div>\n",
       "<style scoped>\n",
       "    .dataframe tbody tr th:only-of-type {\n",
       "        vertical-align: middle;\n",
       "    }\n",
       "\n",
       "    .dataframe tbody tr th {\n",
       "        vertical-align: top;\n",
       "    }\n",
       "\n",
       "    .dataframe thead th {\n",
       "        text-align: right;\n",
       "    }\n",
       "</style>\n",
       "<table border=\"1\" class=\"dataframe\">\n",
       "  <thead>\n",
       "    <tr style=\"text-align: right;\">\n",
       "      <th></th>\n",
       "      <th>base__wt_glc__1</th>\n",
       "      <th>base__wt_glc__2</th>\n",
       "      <th>fur__wt_dpd__1</th>\n",
       "      <th>fur__wt_dpd__2</th>\n",
       "      <th>fur__wt_fe__1</th>\n",
       "      <th>fur__wt_fe__2</th>\n",
       "      <th>fur__delfur_dpd__1</th>\n",
       "      <th>fur__delfur_dpd__2</th>\n",
       "      <th>fur__delfur_fe2__1</th>\n",
       "      <th>fur__delfur_fe2__2</th>\n",
       "      <th>...</th>\n",
       "      <th>rpoB__wt_lb__2</th>\n",
       "      <th>rpoB__rpoBE546V_031__1</th>\n",
       "      <th>rpoB__rpoBE546V_044__1</th>\n",
       "      <th>rpoB__rpoBE546V_lb__1</th>\n",
       "      <th>rpoB__rpoBE546V_lb__2</th>\n",
       "      <th>rpoB__rpoBE546V_glc__1</th>\n",
       "      <th>rpoB__rpoBE672K_glc__1</th>\n",
       "      <th>rpoB__rpoBE672K_glc__2</th>\n",
       "      <th>rpoB__rpoBE672K_lb__1</th>\n",
       "      <th>rpoB__rpoBE672K_lb__2</th>\n",
       "    </tr>\n",
       "  </thead>\n",
       "  <tbody>\n",
       "    <tr>\n",
       "      <th>b0002</th>\n",
       "      <td>7.629317</td>\n",
       "      <td>7.714938</td>\n",
       "      <td>8.113347</td>\n",
       "      <td>8.240386</td>\n",
       "      <td>7.669640</td>\n",
       "      <td>7.471594</td>\n",
       "      <td>6.915225</td>\n",
       "      <td>7.133376</td>\n",
       "      <td>7.784013</td>\n",
       "      <td>7.773122</td>\n",
       "      <td>...</td>\n",
       "      <td>5.191566</td>\n",
       "      <td>7.061956</td>\n",
       "      <td>7.142701</td>\n",
       "      <td>5.668539</td>\n",
       "      <td>5.649356</td>\n",
       "      <td>7.574388</td>\n",
       "      <td>7.625299</td>\n",
       "      <td>7.624386</td>\n",
       "      <td>5.640107</td>\n",
       "      <td>5.652065</td>\n",
       "    </tr>\n",
       "    <tr>\n",
       "      <th>b0003</th>\n",
       "      <td>7.219668</td>\n",
       "      <td>7.294158</td>\n",
       "      <td>7.918491</td>\n",
       "      <td>8.181859</td>\n",
       "      <td>7.470134</td>\n",
       "      <td>7.345953</td>\n",
       "      <td>6.652128</td>\n",
       "      <td>7.064316</td>\n",
       "      <td>7.554007</td>\n",
       "      <td>7.528505</td>\n",
       "      <td>...</td>\n",
       "      <td>5.547168</td>\n",
       "      <td>6.749462</td>\n",
       "      <td>6.945277</td>\n",
       "      <td>5.620395</td>\n",
       "      <td>5.646778</td>\n",
       "      <td>7.134694</td>\n",
       "      <td>7.374954</td>\n",
       "      <td>7.374000</td>\n",
       "      <td>5.369193</td>\n",
       "      <td>5.318577</td>\n",
       "    </tr>\n",
       "    <tr>\n",
       "      <th>b0004</th>\n",
       "      <td>7.343891</td>\n",
       "      <td>7.434121</td>\n",
       "      <td>7.248520</td>\n",
       "      <td>7.471647</td>\n",
       "      <td>7.205343</td>\n",
       "      <td>7.010567</td>\n",
       "      <td>6.059338</td>\n",
       "      <td>6.295427</td>\n",
       "      <td>7.059941</td>\n",
       "      <td>7.045726</td>\n",
       "      <td>...</td>\n",
       "      <td>5.549536</td>\n",
       "      <td>6.873381</td>\n",
       "      <td>6.964728</td>\n",
       "      <td>5.568881</td>\n",
       "      <td>5.612399</td>\n",
       "      <td>7.102728</td>\n",
       "      <td>7.538778</td>\n",
       "      <td>7.542841</td>\n",
       "      <td>5.402317</td>\n",
       "      <td>5.422052</td>\n",
       "    </tr>\n",
       "    <tr>\n",
       "      <th>b0005</th>\n",
       "      <td>4.378073</td>\n",
       "      <td>4.338134</td>\n",
       "      <td>3.758424</td>\n",
       "      <td>3.698816</td>\n",
       "      <td>4.655322</td>\n",
       "      <td>4.443782</td>\n",
       "      <td>3.207263</td>\n",
       "      <td>3.296815</td>\n",
       "      <td>4.524755</td>\n",
       "      <td>4.253390</td>\n",
       "      <td>...</td>\n",
       "      <td>1.390360</td>\n",
       "      <td>4.178768</td>\n",
       "      <td>4.312080</td>\n",
       "      <td>2.281869</td>\n",
       "      <td>3.053053</td>\n",
       "      <td>5.234553</td>\n",
       "      <td>4.862053</td>\n",
       "      <td>4.865263</td>\n",
       "      <td>2.510686</td>\n",
       "      <td>2.927543</td>\n",
       "    </tr>\n",
       "    <tr>\n",
       "      <th>b0006</th>\n",
       "      <td>4.793733</td>\n",
       "      <td>4.781124</td>\n",
       "      <td>4.696611</td>\n",
       "      <td>4.701444</td>\n",
       "      <td>4.687029</td>\n",
       "      <td>4.724970</td>\n",
       "      <td>4.635023</td>\n",
       "      <td>4.755118</td>\n",
       "      <td>4.756608</td>\n",
       "      <td>4.725641</td>\n",
       "      <td>...</td>\n",
       "      <td>4.579556</td>\n",
       "      <td>4.823312</td>\n",
       "      <td>4.943441</td>\n",
       "      <td>4.859915</td>\n",
       "      <td>4.794207</td>\n",
       "      <td>4.770893</td>\n",
       "      <td>4.823452</td>\n",
       "      <td>4.901313</td>\n",
       "      <td>4.785283</td>\n",
       "      <td>4.710034</td>\n",
       "    </tr>\n",
       "  </tbody>\n",
       "</table>\n",
       "<p>5 rows × 102 columns</p>\n",
       "</div>"
      ],
      "text/plain": [
       "       base__wt_glc__1  base__wt_glc__2  fur__wt_dpd__1  fur__wt_dpd__2  \\\n",
       "b0002         7.629317         7.714938        8.113347        8.240386   \n",
       "b0003         7.219668         7.294158        7.918491        8.181859   \n",
       "b0004         7.343891         7.434121        7.248520        7.471647   \n",
       "b0005         4.378073         4.338134        3.758424        3.698816   \n",
       "b0006         4.793733         4.781124        4.696611        4.701444   \n",
       "\n",
       "       fur__wt_fe__1  fur__wt_fe__2  fur__delfur_dpd__1  fur__delfur_dpd__2  \\\n",
       "b0002       7.669640       7.471594            6.915225            7.133376   \n",
       "b0003       7.470134       7.345953            6.652128            7.064316   \n",
       "b0004       7.205343       7.010567            6.059338            6.295427   \n",
       "b0005       4.655322       4.443782            3.207263            3.296815   \n",
       "b0006       4.687029       4.724970            4.635023            4.755118   \n",
       "\n",
       "       fur__delfur_fe2__1  fur__delfur_fe2__2  ...  rpoB__wt_lb__2  \\\n",
       "b0002            7.784013            7.773122  ...        5.191566   \n",
       "b0003            7.554007            7.528505  ...        5.547168   \n",
       "b0004            7.059941            7.045726  ...        5.549536   \n",
       "b0005            4.524755            4.253390  ...        1.390360   \n",
       "b0006            4.756608            4.725641  ...        4.579556   \n",
       "\n",
       "       rpoB__rpoBE546V_031__1  rpoB__rpoBE546V_044__1  rpoB__rpoBE546V_lb__1  \\\n",
       "b0002                7.061956                7.142701               5.668539   \n",
       "b0003                6.749462                6.945277               5.620395   \n",
       "b0004                6.873381                6.964728               5.568881   \n",
       "b0005                4.178768                4.312080               2.281869   \n",
       "b0006                4.823312                4.943441               4.859915   \n",
       "\n",
       "       rpoB__rpoBE546V_lb__2  rpoB__rpoBE546V_glc__1  rpoB__rpoBE672K_glc__1  \\\n",
       "b0002               5.649356                7.574388                7.625299   \n",
       "b0003               5.646778                7.134694                7.374954   \n",
       "b0004               5.612399                7.102728                7.538778   \n",
       "b0005               3.053053                5.234553                4.862053   \n",
       "b0006               4.794207                4.770893                4.823452   \n",
       "\n",
       "       rpoB__rpoBE672K_glc__2  rpoB__rpoBE672K_lb__1  rpoB__rpoBE672K_lb__2  \n",
       "b0002                7.624386               5.640107               5.652065  \n",
       "b0003                7.374000               5.369193               5.318577  \n",
       "b0004                7.542841               5.402317               5.422052  \n",
       "b0005                4.865263               2.510686               2.927543  \n",
       "b0006                4.901313               4.785283               4.710034  \n",
       "\n",
       "[5 rows x 102 columns]"
      ]
     },
     "execution_count": 3,
     "metadata": {},
     "output_type": "execute_result"
    }
   ],
   "source": [
    "data = pd.read_excel('Homework_Data.xlsx', sheet_name = 'Expression Data', index_col = 0)\n",
    "\n",
    "data.head() #shows the top 5 rows"
   ]
  },
  {
   "cell_type": "code",
   "execution_count": 4,
   "metadata": {},
   "outputs": [
    {
     "data": {
      "text/html": [
       "<div>\n",
       "<style scoped>\n",
       "    .dataframe tbody tr th:only-of-type {\n",
       "        vertical-align: middle;\n",
       "    }\n",
       "\n",
       "    .dataframe tbody tr th {\n",
       "        vertical-align: top;\n",
       "    }\n",
       "\n",
       "    .dataframe thead th {\n",
       "        text-align: right;\n",
       "    }\n",
       "</style>\n",
       "<table border=\"1\" class=\"dataframe\">\n",
       "  <thead>\n",
       "    <tr style=\"text-align: right;\">\n",
       "      <th></th>\n",
       "      <th>Study</th>\n",
       "      <th>Condition ID</th>\n",
       "      <th>Replicate #</th>\n",
       "      <th>Strain Description</th>\n",
       "      <th>Base Media</th>\n",
       "      <th>Carbon Source (g/L)</th>\n",
       "      <th>Nitrogen Source (g/L)</th>\n",
       "      <th>Electron Acceptor</th>\n",
       "      <th>Trace Element Mixture</th>\n",
       "      <th>Supplement</th>\n",
       "      <th>Temperature (C)</th>\n",
       "      <th>pH</th>\n",
       "      <th>Culture Type</th>\n",
       "      <th>Growth Rate (1/hr)</th>\n",
       "      <th>Sequencing Machine</th>\n",
       "      <th>Additional Details</th>\n",
       "      <th>Biological Replicates</th>\n",
       "      <th>DOI</th>\n",
       "      <th>GEO</th>\n",
       "    </tr>\n",
       "    <tr>\n",
       "      <th>Sample ID</th>\n",
       "      <th></th>\n",
       "      <th></th>\n",
       "      <th></th>\n",
       "      <th></th>\n",
       "      <th></th>\n",
       "      <th></th>\n",
       "      <th></th>\n",
       "      <th></th>\n",
       "      <th></th>\n",
       "      <th></th>\n",
       "      <th></th>\n",
       "      <th></th>\n",
       "      <th></th>\n",
       "      <th></th>\n",
       "      <th></th>\n",
       "      <th></th>\n",
       "      <th></th>\n",
       "      <th></th>\n",
       "      <th></th>\n",
       "    </tr>\n",
       "  </thead>\n",
       "  <tbody>\n",
       "    <tr>\n",
       "      <th>base__wt_glc__1</th>\n",
       "      <td>Base</td>\n",
       "      <td>wt_glc</td>\n",
       "      <td>1</td>\n",
       "      <td>Escherichia coli K-12 MG1655</td>\n",
       "      <td>M9</td>\n",
       "      <td>glucose(2)</td>\n",
       "      <td>NH4Cl(1)</td>\n",
       "      <td>O2</td>\n",
       "      <td>sauer trace element mixture</td>\n",
       "      <td>NaN</td>\n",
       "      <td>37</td>\n",
       "      <td>7.0</td>\n",
       "      <td>Batch</td>\n",
       "      <td>NaN</td>\n",
       "      <td>MiSeq</td>\n",
       "      <td>NaN</td>\n",
       "      <td>2</td>\n",
       "      <td>doi.org/10.1101/080929</td>\n",
       "      <td>GSE65643</td>\n",
       "    </tr>\n",
       "    <tr>\n",
       "      <th>base__wt_glc__2</th>\n",
       "      <td>Base</td>\n",
       "      <td>wt_glc</td>\n",
       "      <td>2</td>\n",
       "      <td>Escherichia coli K-12 MG1655</td>\n",
       "      <td>M9</td>\n",
       "      <td>glucose(2)</td>\n",
       "      <td>NH4Cl(1)</td>\n",
       "      <td>O2</td>\n",
       "      <td>sauer trace element mixture</td>\n",
       "      <td>NaN</td>\n",
       "      <td>37</td>\n",
       "      <td>7.0</td>\n",
       "      <td>Batch</td>\n",
       "      <td>NaN</td>\n",
       "      <td>MiSeq</td>\n",
       "      <td>NaN</td>\n",
       "      <td>2</td>\n",
       "      <td>doi.org/10.1101/080929</td>\n",
       "      <td>GSE65643</td>\n",
       "    </tr>\n",
       "    <tr>\n",
       "      <th>fur__wt_dpd__1</th>\n",
       "      <td>Fur</td>\n",
       "      <td>wt_dpd</td>\n",
       "      <td>1</td>\n",
       "      <td>Escherichia coli K-12 MG1655</td>\n",
       "      <td>M9</td>\n",
       "      <td>glucose(2)</td>\n",
       "      <td>NH4Cl(1)</td>\n",
       "      <td>O2</td>\n",
       "      <td>NaN</td>\n",
       "      <td>DPD(0.2mM)</td>\n",
       "      <td>37</td>\n",
       "      <td>7.0</td>\n",
       "      <td>Batch</td>\n",
       "      <td>0.000000</td>\n",
       "      <td>MiSeq</td>\n",
       "      <td>NaN</td>\n",
       "      <td>2</td>\n",
       "      <td>doi.org/10.1038/ncomms5910</td>\n",
       "      <td>GSE54900</td>\n",
       "    </tr>\n",
       "    <tr>\n",
       "      <th>fur__wt_dpd__2</th>\n",
       "      <td>Fur</td>\n",
       "      <td>wt_dpd</td>\n",
       "      <td>2</td>\n",
       "      <td>Escherichia coli K-12 MG1655</td>\n",
       "      <td>M9</td>\n",
       "      <td>glucose(2)</td>\n",
       "      <td>NH4Cl(1)</td>\n",
       "      <td>O2</td>\n",
       "      <td>NaN</td>\n",
       "      <td>DPD(0.2mM)</td>\n",
       "      <td>37</td>\n",
       "      <td>7.0</td>\n",
       "      <td>Batch</td>\n",
       "      <td>0.000000</td>\n",
       "      <td>MiSeq</td>\n",
       "      <td>NaN</td>\n",
       "      <td>2</td>\n",
       "      <td>doi.org/10.1038/ncomms5910</td>\n",
       "      <td>GSE54900</td>\n",
       "    </tr>\n",
       "    <tr>\n",
       "      <th>fur__wt_fe__1</th>\n",
       "      <td>Fur</td>\n",
       "      <td>wt_fe</td>\n",
       "      <td>1</td>\n",
       "      <td>Escherichia coli K-12 MG1655</td>\n",
       "      <td>M9</td>\n",
       "      <td>glucose(2)</td>\n",
       "      <td>NH4Cl(1)</td>\n",
       "      <td>O2</td>\n",
       "      <td>NaN</td>\n",
       "      <td>FeCl2(0.1mM)</td>\n",
       "      <td>37</td>\n",
       "      <td>7.0</td>\n",
       "      <td>Batch</td>\n",
       "      <td>1.060606</td>\n",
       "      <td>MiSeq</td>\n",
       "      <td>NaN</td>\n",
       "      <td>2</td>\n",
       "      <td>doi.org/10.1038/ncomms5910</td>\n",
       "      <td>GSE54900</td>\n",
       "    </tr>\n",
       "  </tbody>\n",
       "</table>\n",
       "</div>"
      ],
      "text/plain": [
       "                Study Condition ID  Replicate #            Strain Description  \\\n",
       "Sample ID                                                                       \n",
       "base__wt_glc__1  Base       wt_glc            1  Escherichia coli K-12 MG1655   \n",
       "base__wt_glc__2  Base       wt_glc            2  Escherichia coli K-12 MG1655   \n",
       "fur__wt_dpd__1    Fur       wt_dpd            1  Escherichia coli K-12 MG1655   \n",
       "fur__wt_dpd__2    Fur       wt_dpd            2  Escherichia coli K-12 MG1655   \n",
       "fur__wt_fe__1     Fur        wt_fe            1  Escherichia coli K-12 MG1655   \n",
       "\n",
       "                Base Media Carbon Source (g/L) Nitrogen Source (g/L)  \\\n",
       "Sample ID                                                              \n",
       "base__wt_glc__1         M9          glucose(2)              NH4Cl(1)   \n",
       "base__wt_glc__2         M9          glucose(2)              NH4Cl(1)   \n",
       "fur__wt_dpd__1          M9          glucose(2)              NH4Cl(1)   \n",
       "fur__wt_dpd__2          M9          glucose(2)              NH4Cl(1)   \n",
       "fur__wt_fe__1           M9          glucose(2)              NH4Cl(1)   \n",
       "\n",
       "                Electron Acceptor        Trace Element Mixture    Supplement  \\\n",
       "Sample ID                                                                      \n",
       "base__wt_glc__1                O2  sauer trace element mixture           NaN   \n",
       "base__wt_glc__2                O2  sauer trace element mixture           NaN   \n",
       "fur__wt_dpd__1                 O2                          NaN    DPD(0.2mM)   \n",
       "fur__wt_dpd__2                 O2                          NaN    DPD(0.2mM)   \n",
       "fur__wt_fe__1                  O2                          NaN  FeCl2(0.1mM)   \n",
       "\n",
       "                 Temperature (C)   pH Culture Type  Growth Rate (1/hr)  \\\n",
       "Sample ID                                                                \n",
       "base__wt_glc__1               37  7.0        Batch                 NaN   \n",
       "base__wt_glc__2               37  7.0        Batch                 NaN   \n",
       "fur__wt_dpd__1                37  7.0        Batch            0.000000   \n",
       "fur__wt_dpd__2                37  7.0        Batch            0.000000   \n",
       "fur__wt_fe__1                 37  7.0        Batch            1.060606   \n",
       "\n",
       "                Sequencing Machine Additional Details  Biological Replicates  \\\n",
       "Sample ID                                                                      \n",
       "base__wt_glc__1              MiSeq                NaN                      2   \n",
       "base__wt_glc__2              MiSeq                NaN                      2   \n",
       "fur__wt_dpd__1               MiSeq                NaN                      2   \n",
       "fur__wt_dpd__2               MiSeq                NaN                      2   \n",
       "fur__wt_fe__1                MiSeq                NaN                      2   \n",
       "\n",
       "                                        DOI       GEO  \n",
       "Sample ID                                              \n",
       "base__wt_glc__1      doi.org/10.1101/080929  GSE65643  \n",
       "base__wt_glc__2      doi.org/10.1101/080929  GSE65643  \n",
       "fur__wt_dpd__1   doi.org/10.1038/ncomms5910  GSE54900  \n",
       "fur__wt_dpd__2   doi.org/10.1038/ncomms5910  GSE54900  \n",
       "fur__wt_fe__1    doi.org/10.1038/ncomms5910  GSE54900  "
      ]
     },
     "execution_count": 4,
     "metadata": {},
     "output_type": "execute_result"
    }
   ],
   "source": [
    "metadata = pd.read_excel('Homework_Data.xlsx', sheet_name = 'Experimental Conditions', index_col = 0)\n",
    "\n",
    "metadata.head()"
   ]
  },
  {
   "cell_type": "code",
   "execution_count": 5,
   "metadata": {},
   "outputs": [
    {
     "data": {
      "text/html": [
       "<div>\n",
       "<style scoped>\n",
       "    .dataframe tbody tr th:only-of-type {\n",
       "        vertical-align: middle;\n",
       "    }\n",
       "\n",
       "    .dataframe tbody tr th {\n",
       "        vertical-align: top;\n",
       "    }\n",
       "\n",
       "    .dataframe thead th {\n",
       "        text-align: right;\n",
       "    }\n",
       "</style>\n",
       "<table border=\"1\" class=\"dataframe\">\n",
       "  <thead>\n",
       "    <tr style=\"text-align: right;\">\n",
       "      <th></th>\n",
       "      <th>start</th>\n",
       "      <th>stop</th>\n",
       "      <th>strand</th>\n",
       "      <th>gene_name</th>\n",
       "      <th>length</th>\n",
       "      <th>operon</th>\n",
       "      <th>cog</th>\n",
       "    </tr>\n",
       "  </thead>\n",
       "  <tbody>\n",
       "    <tr>\n",
       "      <th>b0002</th>\n",
       "      <td>336</td>\n",
       "      <td>2799</td>\n",
       "      <td>+</td>\n",
       "      <td>thrA</td>\n",
       "      <td>2463</td>\n",
       "      <td>thrLABC</td>\n",
       "      <td>No COG Annotation</td>\n",
       "    </tr>\n",
       "    <tr>\n",
       "      <th>b0003</th>\n",
       "      <td>2800</td>\n",
       "      <td>3733</td>\n",
       "      <td>+</td>\n",
       "      <td>thrB</td>\n",
       "      <td>933</td>\n",
       "      <td>thrLABC</td>\n",
       "      <td>Amino acid transport and metabolism</td>\n",
       "    </tr>\n",
       "    <tr>\n",
       "      <th>b0004</th>\n",
       "      <td>3733</td>\n",
       "      <td>5020</td>\n",
       "      <td>+</td>\n",
       "      <td>thrC</td>\n",
       "      <td>1287</td>\n",
       "      <td>thrLABC</td>\n",
       "      <td>Amino acid transport and metabolism</td>\n",
       "    </tr>\n",
       "    <tr>\n",
       "      <th>b0005</th>\n",
       "      <td>5233</td>\n",
       "      <td>5530</td>\n",
       "      <td>+</td>\n",
       "      <td>yaaX</td>\n",
       "      <td>297</td>\n",
       "      <td>yaaX</td>\n",
       "      <td>Function unknown</td>\n",
       "    </tr>\n",
       "    <tr>\n",
       "      <th>b0006</th>\n",
       "      <td>5682</td>\n",
       "      <td>6459</td>\n",
       "      <td>-</td>\n",
       "      <td>yaaA</td>\n",
       "      <td>777</td>\n",
       "      <td>yaaA</td>\n",
       "      <td>Function unknown</td>\n",
       "    </tr>\n",
       "  </tbody>\n",
       "</table>\n",
       "</div>"
      ],
      "text/plain": [
       "       start  stop strand gene_name  length   operon  \\\n",
       "b0002    336  2799      +      thrA    2463  thrLABC   \n",
       "b0003   2800  3733      +      thrB     933  thrLABC   \n",
       "b0004   3733  5020      +      thrC    1287  thrLABC   \n",
       "b0005   5233  5530      +      yaaX     297     yaaX   \n",
       "b0006   5682  6459      -      yaaA     777     yaaA   \n",
       "\n",
       "                                       cog  \n",
       "b0002                    No COG Annotation  \n",
       "b0003  Amino acid transport and metabolism  \n",
       "b0004  Amino acid transport and metabolism  \n",
       "b0005                     Function unknown  \n",
       "b0006                     Function unknown  "
      ]
     },
     "execution_count": 5,
     "metadata": {},
     "output_type": "execute_result"
    }
   ],
   "source": [
    "gene_info = pd.read_excel('Homework_Data.xlsx', sheet_name = 'Gene Information', index_col = 0)\n",
    "gene_info.head()"
   ]
  },
  {
   "cell_type": "markdown",
   "metadata": {},
   "source": [
    "## Problem 1: SVD and PCA"
   ]
  },
  {
   "cell_type": "markdown",
   "metadata": {},
   "source": [
    "### a. Read “A tutorial on Principal Component Analysis” by Jonathon Shlens: https://arxiv.org/abs/1404.1100. Summarize the PCA workflow, its practical uses, and weaknesses of the method.\n",
    "\n",
    "### <span style=\"color:red\">5 points</span>\n",
    "\n",
    "#### PCA Workflow\n",
    "\n",
    "Either SVD or eigendecomposition will be accepted.\n",
    "\n",
    "_SVD:_\n",
    "1. Format data as matrix \"X\" of samples x features\n",
    "2. Normalize such that feature means = 0, variances = 1\n",
    "3. Apply SVD to get X = USV^T\n",
    "4. The matrix V^T has the PC directions, product US has the loadings\n",
    "\n",
    "_Eigendecomposition:_\n",
    "1. Format data as matrix \"X\" of samples x features\n",
    "2. Normalize such that feature means = 0, variances = 1\n",
    "3. Calculate the covariance matrix\n",
    "4. Calculate the eigenvectors and eigenvalues of the matrix, and sort by decreasing eigenvalues\n",
    "5. The eigenvectors are the PC directions, the eigenvalues are the loadings.\n",
    "\n",
    "#### PCA Practical uses\n",
    "- Dimension reduction (grouping redundant features)\n",
    "- Noise reduction (remove low variance components)\n",
    "- Visualization/clustering (biplots) \n",
    "- Feature selection (identify prominent features in major components)\n",
    "\n",
    "#### PCA Weaknesses\n",
    "- Orthogonality assumption: produces linearly independent components, even if the natural 'components' in the data are linearly dependent (if this is the case, use ICA)\n",
    "- Linearity assumption: misses non-linear dependencies (alternative w/out this weakness: kernelPCA)\n",
    "- Dense and signed component matrix: all components use all features, so there will be no inherent clustering and it will be more difficult to interpret (alternatives: ICA, NMF)"
   ]
  },
  {
   "cell_type": "markdown",
   "metadata": {},
   "source": [
    "### b. Calculate the covariance matrix of the data and interpret the result. \n",
    "\n",
    "### <span style=\"color:red\">10 points</span>\n",
    "\n",
    "Here, I show two alternative ways of computing the covariance matrix that all do the same thing."
   ]
  },
  {
   "cell_type": "code",
   "execution_count": 7,
   "metadata": {},
   "outputs": [],
   "source": [
    "[m, n] = data.shape # save these for future formulas. m = #genes, n = #samples\n",
    "\n",
    "# normalize the data\n",
    "data_norm = pd.DataFrame(stats.zscore(data, axis = 1), \n",
    "                         columns = data.columns, index = data.index)"
   ]
  },
  {
   "cell_type": "code",
   "execution_count": 6,
   "metadata": {
    "scrolled": true
   },
   "outputs": [],
   "source": [
    "# compute the covariance matrix\n",
    "\n",
    "# alternative #1: matrix multiplication\n",
    "Cx = pd.DataFrame(1/n*np.matmul(data_norm.values, data_norm.T.values), \n",
    "                  index = data_norm.index, columns=data_norm.index)\n",
    "\n",
    "# alternative #2: pandas covariance\n",
    "Cx = data_norm.T.cov()*((n-1)/n) "
   ]
  },
  {
   "cell_type": "code",
   "execution_count": 7,
   "metadata": {},
   "outputs": [
    {
     "data": {
      "text/html": [
       "<div>\n",
       "<style scoped>\n",
       "    .dataframe tbody tr th:only-of-type {\n",
       "        vertical-align: middle;\n",
       "    }\n",
       "\n",
       "    .dataframe tbody tr th {\n",
       "        vertical-align: top;\n",
       "    }\n",
       "\n",
       "    .dataframe thead th {\n",
       "        text-align: right;\n",
       "    }\n",
       "</style>\n",
       "<table border=\"1\" class=\"dataframe\">\n",
       "  <thead>\n",
       "    <tr style=\"text-align: right;\">\n",
       "      <th></th>\n",
       "      <th>b0002</th>\n",
       "      <th>b0003</th>\n",
       "      <th>b0004</th>\n",
       "      <th>b0005</th>\n",
       "      <th>b0006</th>\n",
       "      <th>b0007</th>\n",
       "      <th>b0008</th>\n",
       "      <th>b0009</th>\n",
       "      <th>b0010</th>\n",
       "      <th>b0011</th>\n",
       "    </tr>\n",
       "  </thead>\n",
       "  <tbody>\n",
       "    <tr>\n",
       "      <td>b0002</td>\n",
       "      <td>1.000000</td>\n",
       "      <td>0.959630</td>\n",
       "      <td>0.963361</td>\n",
       "      <td>0.720010</td>\n",
       "      <td>0.051232</td>\n",
       "      <td>-0.324235</td>\n",
       "      <td>0.291581</td>\n",
       "      <td>-0.274370</td>\n",
       "      <td>0.042044</td>\n",
       "      <td>-0.161523</td>\n",
       "    </tr>\n",
       "    <tr>\n",
       "      <td>b0003</td>\n",
       "      <td>0.959630</td>\n",
       "      <td>1.000000</td>\n",
       "      <td>0.928476</td>\n",
       "      <td>0.666982</td>\n",
       "      <td>0.123176</td>\n",
       "      <td>-0.373370</td>\n",
       "      <td>0.334435</td>\n",
       "      <td>-0.206179</td>\n",
       "      <td>-0.107304</td>\n",
       "      <td>-0.147875</td>\n",
       "    </tr>\n",
       "    <tr>\n",
       "      <td>b0004</td>\n",
       "      <td>0.963361</td>\n",
       "      <td>0.928476</td>\n",
       "      <td>1.000000</td>\n",
       "      <td>0.749417</td>\n",
       "      <td>0.073761</td>\n",
       "      <td>-0.295232</td>\n",
       "      <td>0.347563</td>\n",
       "      <td>-0.228006</td>\n",
       "      <td>0.142764</td>\n",
       "      <td>-0.157795</td>\n",
       "    </tr>\n",
       "    <tr>\n",
       "      <td>b0005</td>\n",
       "      <td>0.720010</td>\n",
       "      <td>0.666982</td>\n",
       "      <td>0.749417</td>\n",
       "      <td>1.000000</td>\n",
       "      <td>-0.046045</td>\n",
       "      <td>-0.118222</td>\n",
       "      <td>0.053684</td>\n",
       "      <td>-0.226731</td>\n",
       "      <td>0.344325</td>\n",
       "      <td>-0.103634</td>\n",
       "    </tr>\n",
       "    <tr>\n",
       "      <td>b0006</td>\n",
       "      <td>0.051232</td>\n",
       "      <td>0.123176</td>\n",
       "      <td>0.073761</td>\n",
       "      <td>-0.046045</td>\n",
       "      <td>1.000000</td>\n",
       "      <td>-0.274688</td>\n",
       "      <td>0.374562</td>\n",
       "      <td>-0.068767</td>\n",
       "      <td>-0.412171</td>\n",
       "      <td>-0.047750</td>\n",
       "    </tr>\n",
       "    <tr>\n",
       "      <td>b0007</td>\n",
       "      <td>-0.324235</td>\n",
       "      <td>-0.373370</td>\n",
       "      <td>-0.295232</td>\n",
       "      <td>-0.118222</td>\n",
       "      <td>-0.274688</td>\n",
       "      <td>1.000000</td>\n",
       "      <td>-0.582215</td>\n",
       "      <td>-0.300793</td>\n",
       "      <td>0.408631</td>\n",
       "      <td>0.276843</td>\n",
       "    </tr>\n",
       "    <tr>\n",
       "      <td>b0008</td>\n",
       "      <td>0.291581</td>\n",
       "      <td>0.334435</td>\n",
       "      <td>0.347563</td>\n",
       "      <td>0.053684</td>\n",
       "      <td>0.374562</td>\n",
       "      <td>-0.582215</td>\n",
       "      <td>1.000000</td>\n",
       "      <td>0.475914</td>\n",
       "      <td>-0.361384</td>\n",
       "      <td>-0.279192</td>\n",
       "    </tr>\n",
       "    <tr>\n",
       "      <td>b0009</td>\n",
       "      <td>-0.274370</td>\n",
       "      <td>-0.206179</td>\n",
       "      <td>-0.228006</td>\n",
       "      <td>-0.226731</td>\n",
       "      <td>-0.068767</td>\n",
       "      <td>-0.300793</td>\n",
       "      <td>0.475914</td>\n",
       "      <td>1.000000</td>\n",
       "      <td>-0.134005</td>\n",
       "      <td>-0.205349</td>\n",
       "    </tr>\n",
       "    <tr>\n",
       "      <td>b0010</td>\n",
       "      <td>0.042044</td>\n",
       "      <td>-0.107304</td>\n",
       "      <td>0.142764</td>\n",
       "      <td>0.344325</td>\n",
       "      <td>-0.412171</td>\n",
       "      <td>0.408631</td>\n",
       "      <td>-0.361384</td>\n",
       "      <td>-0.134005</td>\n",
       "      <td>1.000000</td>\n",
       "      <td>0.188025</td>\n",
       "    </tr>\n",
       "    <tr>\n",
       "      <td>b0011</td>\n",
       "      <td>-0.161523</td>\n",
       "      <td>-0.147875</td>\n",
       "      <td>-0.157795</td>\n",
       "      <td>-0.103634</td>\n",
       "      <td>-0.047750</td>\n",
       "      <td>0.276843</td>\n",
       "      <td>-0.279192</td>\n",
       "      <td>-0.205349</td>\n",
       "      <td>0.188025</td>\n",
       "      <td>1.000000</td>\n",
       "    </tr>\n",
       "  </tbody>\n",
       "</table>\n",
       "</div>"
      ],
      "text/plain": [
       "          b0002     b0003     b0004     b0005     b0006     b0007     b0008  \\\n",
       "b0002  1.000000  0.959630  0.963361  0.720010  0.051232 -0.324235  0.291581   \n",
       "b0003  0.959630  1.000000  0.928476  0.666982  0.123176 -0.373370  0.334435   \n",
       "b0004  0.963361  0.928476  1.000000  0.749417  0.073761 -0.295232  0.347563   \n",
       "b0005  0.720010  0.666982  0.749417  1.000000 -0.046045 -0.118222  0.053684   \n",
       "b0006  0.051232  0.123176  0.073761 -0.046045  1.000000 -0.274688  0.374562   \n",
       "b0007 -0.324235 -0.373370 -0.295232 -0.118222 -0.274688  1.000000 -0.582215   \n",
       "b0008  0.291581  0.334435  0.347563  0.053684  0.374562 -0.582215  1.000000   \n",
       "b0009 -0.274370 -0.206179 -0.228006 -0.226731 -0.068767 -0.300793  0.475914   \n",
       "b0010  0.042044 -0.107304  0.142764  0.344325 -0.412171  0.408631 -0.361384   \n",
       "b0011 -0.161523 -0.147875 -0.157795 -0.103634 -0.047750  0.276843 -0.279192   \n",
       "\n",
       "          b0009     b0010     b0011  \n",
       "b0002 -0.274370  0.042044 -0.161523  \n",
       "b0003 -0.206179 -0.107304 -0.147875  \n",
       "b0004 -0.228006  0.142764 -0.157795  \n",
       "b0005 -0.226731  0.344325 -0.103634  \n",
       "b0006 -0.068767 -0.412171 -0.047750  \n",
       "b0007 -0.300793  0.408631  0.276843  \n",
       "b0008  0.475914 -0.361384 -0.279192  \n",
       "b0009  1.000000 -0.134005 -0.205349  \n",
       "b0010 -0.134005  1.000000  0.188025  \n",
       "b0011 -0.205349  0.188025  1.000000  "
      ]
     },
     "execution_count": 7,
     "metadata": {},
     "output_type": "execute_result"
    }
   ],
   "source": [
    "# display the 10x10 section\n",
    "Cx.iloc[:10, :10] #iloc uses numbers instead of indices (which would be loc)"
   ]
  },
  {
   "cell_type": "code",
   "execution_count": 8,
   "metadata": {},
   "outputs": [
    {
     "data": {
      "text/plain": [
       "b1493  b3517    0.996136\n",
       "b0552  b3505    0.994797\n",
       "b0073  b0072    0.994072\n",
       "b3993  b3991    0.993999\n",
       "b3505  b2192    0.993030\n",
       "dtype: float64"
      ]
     },
     "execution_count": 8,
     "metadata": {},
     "output_type": "execute_result"
    }
   ],
   "source": [
    "# remove the diagonal with subtraction\n",
    "Cx_offdiag = np.subtract(Cx, np.multiply(Cx, np.identity(m)))\n",
    "\n",
    "# obtain the top 5 gene pairs\n",
    "# stack creates a series with the pairs as multi-indexers\n",
    "# sort puts the highest values first if ascending = False\n",
    "# [:10] takes the first ten elements, which will contain repeated pairs\n",
    "# [::2] takes every second element, which eliminates the repeat pairs\n",
    "top_5_cx = Cx_offdiag.stack().sort_values(ascending = False)[:10][::2]\n",
    "\n",
    "top_5_cx"
   ]
  },
  {
   "cell_type": "code",
   "execution_count": 9,
   "metadata": {},
   "outputs": [
    {
     "data": {
      "text/html": [
       "<div>\n",
       "<style scoped>\n",
       "    .dataframe tbody tr th:only-of-type {\n",
       "        vertical-align: middle;\n",
       "    }\n",
       "\n",
       "    .dataframe tbody tr th {\n",
       "        vertical-align: top;\n",
       "    }\n",
       "\n",
       "    .dataframe thead th {\n",
       "        text-align: right;\n",
       "    }\n",
       "</style>\n",
       "<table border=\"1\" class=\"dataframe\">\n",
       "  <thead>\n",
       "    <tr style=\"text-align: right;\">\n",
       "      <th></th>\n",
       "      <th>gene1</th>\n",
       "      <th>name1</th>\n",
       "      <th>operon1</th>\n",
       "      <th>cog1</th>\n",
       "      <th>gene2</th>\n",
       "      <th>name2</th>\n",
       "      <th>operon2</th>\n",
       "      <th>cog2</th>\n",
       "    </tr>\n",
       "  </thead>\n",
       "  <tbody>\n",
       "    <tr>\n",
       "      <td>0</td>\n",
       "      <td>b1493</td>\n",
       "      <td>gadB</td>\n",
       "      <td>gadBC</td>\n",
       "      <td>No COG Annotation</td>\n",
       "      <td>b3517</td>\n",
       "      <td>gadA</td>\n",
       "      <td>gadAXW</td>\n",
       "      <td>Amino acid transport and metabolism</td>\n",
       "    </tr>\n",
       "    <tr>\n",
       "      <td>1</td>\n",
       "      <td>b0552</td>\n",
       "      <td>insH1</td>\n",
       "      <td>insH-2</td>\n",
       "      <td>No COG Annotation</td>\n",
       "      <td>b3505</td>\n",
       "      <td>insH1</td>\n",
       "      <td>insH-11</td>\n",
       "      <td>No COG Annotation</td>\n",
       "    </tr>\n",
       "    <tr>\n",
       "      <td>2</td>\n",
       "      <td>b0073</td>\n",
       "      <td>leuB</td>\n",
       "      <td>leuLABCD</td>\n",
       "      <td>Amino acid transport and metabolism</td>\n",
       "      <td>b0072</td>\n",
       "      <td>leuC</td>\n",
       "      <td>leuLABCD</td>\n",
       "      <td>Amino acid transport and metabolism</td>\n",
       "    </tr>\n",
       "    <tr>\n",
       "      <td>3</td>\n",
       "      <td>b3993</td>\n",
       "      <td>thiE</td>\n",
       "      <td>thiCEFSGH</td>\n",
       "      <td>Coenzyme transport and metabolism</td>\n",
       "      <td>b3991</td>\n",
       "      <td>thiG</td>\n",
       "      <td>thiCEFSGH</td>\n",
       "      <td>Coenzyme transport and metabolism</td>\n",
       "    </tr>\n",
       "    <tr>\n",
       "      <td>4</td>\n",
       "      <td>b3505</td>\n",
       "      <td>insH1</td>\n",
       "      <td>insH-11</td>\n",
       "      <td>No COG Annotation</td>\n",
       "      <td>b2192</td>\n",
       "      <td>insH1</td>\n",
       "      <td>insH-8</td>\n",
       "      <td>No COG Annotation</td>\n",
       "    </tr>\n",
       "  </tbody>\n",
       "</table>\n",
       "</div>"
      ],
      "text/plain": [
       "   gene1  name1    operon1                                 cog1  gene2  name2  \\\n",
       "0  b1493   gadB      gadBC                    No COG Annotation  b3517   gadA   \n",
       "1  b0552  insH1     insH-2                    No COG Annotation  b3505  insH1   \n",
       "2  b0073   leuB   leuLABCD  Amino acid transport and metabolism  b0072   leuC   \n",
       "3  b3993   thiE  thiCEFSGH    Coenzyme transport and metabolism  b3991   thiG   \n",
       "4  b3505  insH1    insH-11                    No COG Annotation  b2192  insH1   \n",
       "\n",
       "     operon2                                 cog2  \n",
       "0     gadAXW  Amino acid transport and metabolism  \n",
       "1    insH-11                    No COG Annotation  \n",
       "2   leuLABCD  Amino acid transport and metabolism  \n",
       "3  thiCEFSGH    Coenzyme transport and metabolism  \n",
       "4     insH-8                    No COG Annotation  "
      ]
     },
     "execution_count": 9,
     "metadata": {},
     "output_type": "execute_result"
    }
   ],
   "source": [
    "# look up these gene pairs\n",
    "# create a dataframe to house this info\n",
    "top_5_info = pd.DataFrame(columns = ['gene1', 'name1', 'operon1', 'cog1', 'gene2', 'name2', 'operon2', 'cog2'])\n",
    "\n",
    "# iterate through the pairs. \"enumerate\" returns a number for easier indexing, too.\n",
    "for num, gene_pair in enumerate(top_5_cx.index):\n",
    "    # get information on each gene\n",
    "    gene_info1 = gene_info.loc[gene_pair[0], ['gene_name', 'operon', 'cog']]\n",
    "    gene_info2 = gene_info.loc[gene_pair[1], ['gene_name', 'operon', 'cog']]\n",
    "    \n",
    "    # store it in the dataframe we created using a list\n",
    "    top_5_info.loc[num] =[gene_pair[0]] + gene_info1.tolist() + [gene_pair[1]] + gene_info2.tolist()\n",
    "    \n",
    "top_5_info"
   ]
  },
  {
   "cell_type": "markdown",
   "metadata": {},
   "source": [
    "These covariances are consistent with the expectation that covarying genes perform similar functions and/or are from the same operon:\n",
    "\n",
    "- 0: two highly similar enzymes\n",
    "- 1: two insertion sequences with identical names, which are highly likely to be co-stimulated\n",
    "- 2: two genes from the same operon\n",
    "- 3: two genes from the same operon\n",
    "- 4: two insertion sequences with identical names (one of them is a repeat from pair #1)"
   ]
  },
  {
   "cell_type": "markdown",
   "metadata": {},
   "source": [
    "### c. Define the eigenvalues and eigenvectors of a matrix. What are the requirements for their calculation? How is a covariance matrix guaranteed to satisfy these requirements?\n",
    "\n",
    "### <span style=\"color:red\">5 points</span>\n",
    "\n",
    "#### Definition\n",
    "\n",
    "- If we view matrices as transformations, then the eigenvectors are vectors in that transformation which only change by a scalar factor, meaning that they stretch or flip but do not rotate. \n",
    "- The scalar factor associated with the eigenvector is its eigenvalue (λv = Av)\n",
    "- These are important becuase they represent characteristic directions in the matrix.\n",
    "\n",
    "#### Requirements for calculation\n",
    "- Can be computed for square matrices where non-trivial real solutions exist to det(A-λI)\n",
    "- It can be shown that an n x n real symmetric matrices must have n real eigenvalues and orthogonal eigenvectors (though not necessarily distinct or non-zero, depending on the rank). Refer to http://farside.ph.utexas.edu/teaching/336k/Newton/node66.html\n",
    "\n",
    "#### Covariance matrix\n",
    "- Covariance matrices are square, real, and symmetric by definition. This satisfies the requirements.\n"
   ]
  },
  {
   "cell_type": "markdown",
   "metadata": {},
   "source": [
    "### d. Calculate principal components and component weights by calculating the eigendecomposition of the covariance matrix of your data. Compare to the result of a PCA package to ensure your result. Be sure to use standardized data (zero mean, unit variance for each variable across samples).\n",
    "\n",
    "### <span style=\"color:red\">10 points</span>"
   ]
  },
  {
   "cell_type": "code",
   "execution_count": 10,
   "metadata": {},
   "outputs": [],
   "source": [
    "# perform the eigenvalue decomposition. Orders by increasing variance.\n",
    "eigval, eigvec = np.linalg.eigh(Cx)\n",
    "\n",
    "# flip the direction using [::-1]\n",
    "weights_eig = eigval[::-1]/m # divide by m so that sum(weights) == 1, weight[i] == explained variance\n",
    "components_eig = eigvec[:, ::-1]\n",
    "\n",
    "# keep only the first 101 PCs since these should be consistent for all packages\n",
    "components_eig = components_eig[:, :101]\n",
    "weights_eig = weights_eig[:101]\n",
    "\n",
    "# convert components to pandas\n",
    "components_eig = pd.DataFrame(components_eig, index = data.index)"
   ]
  },
  {
   "cell_type": "code",
   "execution_count": 11,
   "metadata": {},
   "outputs": [],
   "source": [
    "# use the scikit learn (Sk) PCA package to compute PCA\n",
    "pca = PCA()\n",
    "\n",
    "data_SkPC = pca.fit_transform(data_norm.T)\n",
    "components_Sk = pca.components_.T\n",
    "weights_Sk = pca.explained_variance_ratio_\n",
    "\n",
    "components_Sk = components_Sk[:, :101]\n",
    "weights_Sk = weights_Sk[:101]\n",
    "\n",
    "data_SkPC = pd.DataFrame(data_SkPC, index = data.columns)\n",
    "components_Sk = pd.DataFrame(components_Sk, index = data.index)"
   ]
  },
  {
   "cell_type": "code",
   "execution_count": 12,
   "metadata": {},
   "outputs": [
    {
     "data": {
      "text/plain": [
       "True"
      ]
     },
     "execution_count": 12,
     "metadata": {},
     "output_type": "execute_result"
    }
   ],
   "source": [
    "# are the weights equal?\n",
    "\n",
    "# because these are doubles, '==' won't work\n",
    "# you can use the numpy.allclose() function\n",
    "\n",
    "np.allclose(weights_Sk, weights_eig)"
   ]
  },
  {
   "cell_type": "code",
   "execution_count": 13,
   "metadata": {},
   "outputs": [
    {
     "data": {
      "text/plain": [
       "True"
      ]
     },
     "execution_count": 13,
     "metadata": {},
     "output_type": "execute_result"
    }
   ],
   "source": [
    "# are the components equivalent?\n",
    "\n",
    "# note that the length of the vectors will be equivalent for these two methods\n",
    "# but the direction can be flipped\n",
    "\n",
    "comp_equivalence = [] # we will fill this list with true/false values for all components\n",
    "for c in range(101):\n",
    "    \n",
    "    # this checks if they are actually equal OR if flipping one of them makes them equal\n",
    "    comp_equivalence += [np.allclose(components_Sk[c], components_eig[c]) or \n",
    "                         np.allclose(components_Sk[c], -components_eig[c])]\n",
    "all(comp_equivalence)"
   ]
  },
  {
   "cell_type": "markdown",
   "metadata": {},
   "source": [
    "We see two 'True' values above, so the weights and components are the same."
   ]
  },
  {
   "cell_type": "code",
   "execution_count": 14,
   "metadata": {},
   "outputs": [
    {
     "data": {
      "text/plain": [
       "0.0004992523950105326"
      ]
     },
     "execution_count": 14,
     "metadata": {},
     "output_type": "execute_result"
    }
   ],
   "source": [
    "mean_squared_error(components_Sk, components_eig)"
   ]
  },
  {
   "cell_type": "markdown",
   "metadata": {},
   "source": [
    "### e. What are the five highest absolute weighted genes in the top component, and what are their biological roles?\n",
    "\n",
    "### <span style=\"color:red\">5 points</span>"
   ]
  },
  {
   "cell_type": "code",
   "execution_count": 15,
   "metadata": {},
   "outputs": [
    {
     "data": {
      "text/html": [
       "<div>\n",
       "<style scoped>\n",
       "    .dataframe tbody tr th:only-of-type {\n",
       "        vertical-align: middle;\n",
       "    }\n",
       "\n",
       "    .dataframe tbody tr th {\n",
       "        vertical-align: top;\n",
       "    }\n",
       "\n",
       "    .dataframe thead th {\n",
       "        text-align: right;\n",
       "    }\n",
       "</style>\n",
       "<table border=\"1\" class=\"dataframe\">\n",
       "  <thead>\n",
       "    <tr style=\"text-align: right;\">\n",
       "      <th></th>\n",
       "      <th>weight</th>\n",
       "      <th>abs</th>\n",
       "      <th>start</th>\n",
       "      <th>stop</th>\n",
       "      <th>strand</th>\n",
       "      <th>gene_name</th>\n",
       "      <th>length</th>\n",
       "      <th>operon</th>\n",
       "      <th>cog</th>\n",
       "    </tr>\n",
       "  </thead>\n",
       "  <tbody>\n",
       "    <tr>\n",
       "      <td>b0419</td>\n",
       "      <td>0.035335</td>\n",
       "      <td>0.035335</td>\n",
       "      <td>437160</td>\n",
       "      <td>438135</td>\n",
       "      <td>-</td>\n",
       "      <td>yajO</td>\n",
       "      <td>975</td>\n",
       "      <td>xseB-ispA-dxs-yajO</td>\n",
       "      <td>Energy production and conversion</td>\n",
       "    </tr>\n",
       "    <tr>\n",
       "      <td>b2137</td>\n",
       "      <td>0.035125</td>\n",
       "      <td>0.035125</td>\n",
       "      <td>2226508</td>\n",
       "      <td>2227270</td>\n",
       "      <td>-</td>\n",
       "      <td>yohF</td>\n",
       "      <td>762</td>\n",
       "      <td>yohF</td>\n",
       "      <td>Function unknown</td>\n",
       "    </tr>\n",
       "    <tr>\n",
       "      <td>b4167</td>\n",
       "      <td>0.034980</td>\n",
       "      <td>0.034980</td>\n",
       "      <td>4394065</td>\n",
       "      <td>4395613</td>\n",
       "      <td>+</td>\n",
       "      <td>nnr</td>\n",
       "      <td>1548</td>\n",
       "      <td>yjeF-tsaE-amiB-mutL-miaA-hfq-hflXKC</td>\n",
       "      <td>Carbohydrate transport and metabolism</td>\n",
       "    </tr>\n",
       "    <tr>\n",
       "      <td>b3361</td>\n",
       "      <td>0.034800</td>\n",
       "      <td>0.034800</td>\n",
       "      <td>3490860</td>\n",
       "      <td>3491463</td>\n",
       "      <td>-</td>\n",
       "      <td>fic</td>\n",
       "      <td>603</td>\n",
       "      <td>yhfG-fic-pabA</td>\n",
       "      <td>Cell cycle control, cell division, chromosome ...</td>\n",
       "    </tr>\n",
       "    <tr>\n",
       "      <td>b3519</td>\n",
       "      <td>0.034652</td>\n",
       "      <td>0.034652</td>\n",
       "      <td>3669591</td>\n",
       "      <td>3671241</td>\n",
       "      <td>+</td>\n",
       "      <td>treF</td>\n",
       "      <td>1650</td>\n",
       "      <td>treF</td>\n",
       "      <td>Carbohydrate transport and metabolism</td>\n",
       "    </tr>\n",
       "  </tbody>\n",
       "</table>\n",
       "</div>"
      ],
      "text/plain": [
       "         weight       abs    start     stop strand gene_name  length  \\\n",
       "b0419  0.035335  0.035335   437160   438135      -      yajO     975   \n",
       "b2137  0.035125  0.035125  2226508  2227270      -      yohF     762   \n",
       "b4167  0.034980  0.034980  4394065  4395613      +       nnr    1548   \n",
       "b3361  0.034800  0.034800  3490860  3491463      -       fic     603   \n",
       "b3519  0.034652  0.034652  3669591  3671241      +      treF    1650   \n",
       "\n",
       "                                    operon  \\\n",
       "b0419                   xseB-ispA-dxs-yajO   \n",
       "b2137                                 yohF   \n",
       "b4167  yjeF-tsaE-amiB-mutL-miaA-hfq-hflXKC   \n",
       "b3361                        yhfG-fic-pabA   \n",
       "b3519                                 treF   \n",
       "\n",
       "                                                     cog  \n",
       "b0419                   Energy production and conversion  \n",
       "b2137                                   Function unknown  \n",
       "b4167              Carbohydrate transport and metabolism  \n",
       "b3361  Cell cycle control, cell division, chromosome ...  \n",
       "b3519              Carbohydrate transport and metabolism  "
      ]
     },
     "execution_count": 15,
     "metadata": {},
     "output_type": "execute_result"
    }
   ],
   "source": [
    "# get the top component\n",
    "top_component = components_Sk[0]\n",
    "\n",
    "# turn the above series into its own dataframe to add info to it\n",
    "top_component = top_component.to_frame(name = 'weight')\n",
    "\n",
    "# add the absolute value\n",
    "top_component['abs'] = top_component.weight.abs()\n",
    "\n",
    "# sort\n",
    "top_component = top_component.sort_values('abs', ascending = False)\n",
    "\n",
    "# only care about the top 5\n",
    "top_component = top_component.iloc[0:5]\n",
    "\n",
    "# add the gene information\n",
    "top_component = pd.concat([top_component, gene_info.loc[top_component.index]], axis =1)\n",
    "\n",
    "top_component"
   ]
  },
  {
   "cell_type": "markdown",
   "metadata": {},
   "source": [
    "The biological roles of each gene are listed above under 'cog'. Except for the unknown gene, they all have to do with energy, carbohydrates, or the cell cycle. It seems that this PC is related to growth rate, which would make sense considering that that is highly variable.\n",
    "\n",
    "For those interested, a deeper dive into function (not graded):\n",
    "1. **yajO:** converts Ru5P to DXP, which provides a route from pentoses to terpenes and supports DXP production under thiamine starvation.\n",
    "2. **yohF:** uncharacterized protein that is likely an oxidoreductase that binds NAD.\n",
    "3. **nnr:** bifunctional protein that catalyzes NAD(P)HX epimerization and converts one of the epimers to NAD(P)H. This repairs NADH that has been damaged (converted to NADHX) by heat-dependent dehydration.\n",
    "4. **fic:** probable adenylyltransferase that may have a role in cell division.\n",
    "5. **treF:** Hydrolyzes trehalose to glucose, may be involved in returning to low osmolarity after salt shock\n",
    "\n",
    "On closer inspection, they may all be different stress responses."
   ]
  },
  {
   "cell_type": "markdown",
   "metadata": {},
   "source": [
    "### f. Create a cumulative variance plot. How many components are necessary to capture 80% of the variance?\n",
    "\n",
    "### <span style=\"color:red\">5 points</span>"
   ]
  },
  {
   "cell_type": "code",
   "execution_count": 16,
   "metadata": {},
   "outputs": [
    {
     "name": "stdout",
     "output_type": "stream",
     "text": [
      "Components to capture 80% of variance:  14\n"
     ]
    }
   ],
   "source": [
    "# get the cumulative variance\n",
    "cum_var = weights_Sk.cumsum()\n",
    "\n",
    "# find the number of components\n",
    "index_80 = sum(cum_var <= .8)\n",
    "\n",
    "# indices are zero-indexed, so the total number is one more than this\n",
    "print('Components to capture 80% of variance: ', index_80+1)"
   ]
  },
  {
   "cell_type": "code",
   "execution_count": 17,
   "metadata": {},
   "outputs": [
    {
     "data": {
      "image/png": "[encoded data removed]",
      "text/plain": [
       "<Figure size 432x288 with 1 Axes>"
      ]
     },
     "metadata": {
      "needs_background": "light"
     },
     "output_type": "display_data"
    }
   ],
   "source": [
    "# make the plot\n",
    "\n",
    "fig, ax = plt.subplots()\n",
    "ax.plot(range(1, len(cum_var)+1), cum_var, label = 'Cumulative Variance')\n",
    "\n",
    "# lines to label values of interest\n",
    "ax.axhline(0.8, color = 'k', linestyle = '--', label = '80% Variance')\n",
    "ax.axvline(index_80+1, color = 'g', linestyle = '--', label = '14 Components')\n",
    "\n",
    "# axes labels and legend\n",
    "ax.set_xlabel('Number of Components', fontsize = 16)\n",
    "ax.set_ylabel('Cumulative Variance Explained', fontsize = 14)\n",
    "ax.legend(fontsize = 12)\n",
    "None"
   ]
  },
  {
   "cell_type": "markdown",
   "metadata": {},
   "source": [
    "### g. Construct a biplot of the data (project the samples onto the top two PCs and include directions for top genes). Based on the experimental treatments of the samples, what are the major apparent trends or observable separation of samples?\n",
    "\n",
    "It may be useful to color the data by study or carbon source using the metadata file.\n",
    "\n",
    "### <span style=\"color:red\">15 points</span>"
   ]
  },
  {
   "cell_type": "code",
   "execution_count": 18,
   "metadata": {},
   "outputs": [],
   "source": [
    "# get the top genes for the directional arrows of the biplot\n",
    "# use 3 for both of the top two components\n",
    "# this is essentially the 1e code block, but in a single line\n",
    "pc1_genes = components_Sk[0].abs().sort_values(ascending = False)[:3].index\n",
    "pc2_genes = components_Sk[1].abs().sort_values(ascending = False)[:3].index\n",
    "\n",
    "# this df will store the stuff we need for the arrows\n",
    "gene_directions = pd.DataFrame(index = pc1_genes.append(pc2_genes), columns = ['g_name', 'pc1', 'pc2'])\n",
    "\n",
    "# look up the needed information one gene arrow at a time\n",
    "for gene in gene_directions.index:\n",
    "    gene_directions.loc[gene] = [gene_info.gene_name[gene], # name\n",
    "                                 components_Sk.loc[gene, 0], # pc1\n",
    "                                 components_Sk.loc[gene, 1]] # pc2"
   ]
  },
  {
   "cell_type": "code",
   "execution_count": 19,
   "metadata": {},
   "outputs": [
    {
     "data": {
      "text/plain": [
       "Text(0, 0.5, 'PC2: 13%')"
      ]
     },
     "execution_count": 19,
     "metadata": {},
     "output_type": "execute_result"
    },
    {
     "data": {
      "image/png": "[encoded data removed]",
      "text/plain": [
       "<Figure size 720x720 with 1 Axes>"
      ]
     },
     "metadata": {
      "needs_background": "light"
     },
     "output_type": "display_data"
    }
   ],
   "source": [
    "# initial biplot\n",
    "fig, ax = plt.subplots(figsize = (10,10))\n",
    "ax.scatter(data_SkPC.loc[:, 0], data_SkPC.loc[:, 1])\n",
    "\n",
    "# add the arrows. Use pandas .iterrows() to access the df easily\n",
    "# scale is used to get arrows to be a visible length on the plot\n",
    "scale = 1500\n",
    "scale1 = 1700\n",
    "for gene, row in gene_directions.iterrows():\n",
    "    ax.arrow(0, 0, scale*row.pc1, scale*row.pc2, head_width = 2)\n",
    "    ax.text(scale1*row.pc1, scale1*row.pc2, row.g_name, fontsize = 12)\n",
    "ax.set_xlabel('PC1: %d%%'%(weights_Sk[0]*100), fontsize  = 20)\n",
    "ax.set_ylabel('PC2: %d%%'%(weights_Sk[1]*100), fontsize = 20)"
   ]
  },
  {
   "cell_type": "code",
   "execution_count": 20,
   "metadata": {},
   "outputs": [
    {
     "data": {
      "image/png": "[encoded data removed]",
      "text/plain": [
       "<Figure size 1152x432 with 2 Axes>"
      ]
     },
     "metadata": {
      "needs_background": "light"
     },
     "output_type": "display_data"
    }
   ],
   "source": [
    "# to observe trends, color the biplot by metadata\n",
    "fig, ax = plt.subplots(1,2, figsize = (16, 6))\n",
    "plt.subplots_adjust(wspace = .5) # adds space for the legend\n",
    "\n",
    "# make the two plots\n",
    "for name, group in metadata.groupby('Study'):\n",
    "    ax[0].scatter(data_SkPC.loc[group.index, 0], data_SkPC.loc[group.index, 1], label = name)\n",
    "\n",
    "for name, group in metadata.groupby('Carbon Source (g/L)'):\n",
    "    ax[1].scatter(data_SkPC.loc[group.index, 0], data_SkPC.loc[group.index, 1], label = name)\n",
    "\n",
    "# change parameters at the same time\n",
    "for a in ax:\n",
    "    a.set_xlabel('PC1: %d%%'%(weights_Sk[0]*100), fontsize  = 16)\n",
    "    a.set_ylabel('PC2: %d%%'%(weights_Sk[1]*100), fontsize = 16)\n",
    "    a.legend(loc=(1, 0))"
   ]
  },
  {
   "cell_type": "code",
   "execution_count": 21,
   "metadata": {},
   "outputs": [
    {
     "data": {
      "text/plain": [
       "Text(0.5, 1.0, 'Growth rate is related to PC1')"
      ]
     },
     "execution_count": 21,
     "metadata": {},
     "output_type": "execute_result"
    },
    {
     "data": {
      "image/png": "[encoded data removed]",
      "text/plain": [
       "<Figure size 720x576 with 2 Axes>"
      ]
     },
     "metadata": {
      "needs_background": "light"
     },
     "output_type": "display_data"
    }
   ],
   "source": [
    "# bonus: test my growth rate hypothesis about PC1 from 1e\n",
    "# do this by coloring each sample by its growth rate\n",
    "\n",
    "fig, ax = plt.subplots(figsize = (10,8))\n",
    "\n",
    "# plots all points in black\n",
    "ax.scatter(data_SkPC.loc[:, 0], data_SkPC.loc[:, 1], c = 'k', s = 30, label = 'no data')\n",
    "\n",
    "# plots points with growth data in a range of colors (on top of the black)\n",
    "s = ax.scatter(data_SkPC.loc[:, 0], data_SkPC.loc[:, 1], c = metadata['Growth Rate (1/hr)'], cmap = 'cool', s = 40)\n",
    "\n",
    "# shows the colorbar\n",
    "plt.colorbar(s)\n",
    "ax.legend()\n",
    "\n",
    "ax.set_xlabel('PC1: %d%%'%(weights_Sk[0]*100), fontsize  = 20)\n",
    "ax.set_ylabel('PC2: %d%%'%(weights_Sk[1]*100), fontsize = 20)\n",
    "ax.set_title('Growth rate is related to PC1', fontsize = 22)"
   ]
  },
  {
   "cell_type": "markdown",
   "metadata": {},
   "source": [
    "Major trends:\n",
    "\n",
    "- The data groups well by study and carbon source\n",
    "- The three groups that are farthest apart from the other samples are 'oxidative' (which is high in PC1 and therefore the most different from the other studies), 'minspan', and a subset of 'acid'.\n",
    "- The prediction that growth rate is determined by PC1 (made in section 1e based on the top genes) appears to be accurate. Low growth rate conditions are usually high in PC1 (and vice versa), but this is not always the case."
   ]
  },
  {
   "cell_type": "markdown",
   "metadata": {},
   "source": [
    "### h. Reconstruct the dataset using the number of components that explain 95% of the variance. This can be thought of as a ‘denoised’ dataset. What is the average error of matrix values compared to the original data set? \n",
    "\n",
    "### <span style=\"color:red\">5 points</span>"
   ]
  },
  {
   "cell_type": "code",
   "execution_count": 22,
   "metadata": {},
   "outputs": [
    {
     "name": "stdout",
     "output_type": "stream",
     "text": [
      "Components to capture 95% of variance:  46\n"
     ]
    }
   ],
   "source": [
    "# find the number of components to 95% variance\n",
    "\n",
    "index_95 = sum(weights_Sk.cumsum() <= .95)\n",
    "print('Components to capture 95% of variance: ', index_95+1)"
   ]
  },
  {
   "cell_type": "code",
   "execution_count": 23,
   "metadata": {},
   "outputs": [],
   "source": [
    "# make the matrices smaller\n",
    "components_95 = components_Sk.loc[:, :index_95]\n",
    "data_PC95 = data_SkPC.loc[:, :index_95]\n",
    "\n",
    "# multiply them back together (transposing the samples matrix)\n",
    "data_denoised = np.matmul(components_95.values, data_PC95.T.values)\n",
    "data_denoised = pd.DataFrame(data_denoised, index = data.index, columns = data.columns)"
   ]
  },
  {
   "cell_type": "code",
   "execution_count": 24,
   "metadata": {},
   "outputs": [
    {
     "name": "stdout",
     "output_type": "stream",
     "text": [
      "Average percent error = 189.59%\n",
      "Mean squared error = 0.0499%\n"
     ]
    }
   ],
   "source": [
    "# compute the average error\n",
    "error = data_denoised - data_norm\n",
    "error = error/data_norm\n",
    "abs_error = error.abs()\n",
    "average_error = abs_error.stack().mean()\n",
    "\n",
    "# compute the mean squared error\n",
    "mse = mean_squared_error(data_norm, data_denoised)\n",
    "\n",
    "print('Average percent error = %.2f%%'%(average_error*100))\n",
    "print('Mean squared error = %.4f%%'%(mse))"
   ]
  },
  {
   "cell_type": "markdown",
   "metadata": {},
   "source": [
    "## 2. ICA"
   ]
  },
  {
   "cell_type": "markdown",
   "metadata": {},
   "source": [
    "### a. Read “A tutorial on Independent Component Analysis” by Jonathon Shlens: https://arxiv.org/abs/1404.2986. Describe the ICA algorithm and workflow. What is ‘Whitening’ and why is it helpful as a preprocessing step in ICA?\n",
    "\n",
    "### <span style=\"color:red\">5 points</span>\n",
    "\n",
    "The ICA algorithm deconvolutes mixed signals to find statistically independent components.\n",
    "\n",
    "Step one of ICA is to center the data such that feature means are 0. \n",
    "\n",
    "Next, SVD is applied to **\"whiten\"** the data. This step turns the matrix into an orthogonal matrix, which means there are far fewer degrees of freedom in the matrix we are approximating, dramatically speeding up computation without losing information relevant to independent components.\n",
    "\n",
    "Next, ICA iteratively rotates the whitened data to minimize gaussianity of the component distributions. This operates under the assumption that random variables tend toward gaussian distributions, while the components ought to be as far from random as possible. \n",
    "\n",
    "ICA should be repeated many times to find robust solutions due to the stochasticity of the algorithm."
   ]
  },
  {
   "cell_type": "markdown",
   "metadata": {},
   "source": [
    "### b. Run ICA on the dataset. How many stable independent components do you find, either across different stochastic runs or with different parameters? Choose a stable component and determine whether genes in this component are functionally related based on annotation.\n",
    "\n",
    "### <span style=\"color:red\">20 points</span>"
   ]
  },
  {
   "cell_type": "code",
   "execution_count": 8,
   "metadata": {},
   "outputs": [],
   "source": [
    "# run ICA, looking for n_comps and n_iterations\n",
    "# for the first run, save the A matrix. the future runs are correlated\n",
    "# with the first one in order to ensure stability\n",
    "\n",
    "n_comps = 100\n",
    "n_iter = 5\n",
    "\n",
    "# initial run, which will define our solution\n",
    "ica = FastICA(whiten=True, random_state=n_iter, n_components = n_comps)\n",
    "A1 = ica.fit_transform(data_norm.T).transpose()\n",
    "A1 = pd.DataFrame(A1, columns = data.columns)\n",
    "S1 = pd.DataFrame(ica.mixing_, index = data.index)\n",
    "\n",
    "# additional runs, which check for stability\n",
    "for i in range(n_iter-1):\n",
    "    # fit the data, this time we don't care about storing A\n",
    "    ica = FastICA(whiten=True, random_state=n_iter-i, n_components = n_comps)\n",
    "    ica.fit(data_norm.T)\n",
    "    S = ica.mixing_\n",
    "    \n",
    "    # store the S matrices in a big dataframe\n",
    "    if i == 0:\n",
    "        other_S = S    \n",
    "    else:\n",
    "        other_S = np.append(other_S, S, axis = 1)\n",
    "\n",
    "# add the gene names to keep track of what this is\n",
    "other_S = pd.DataFrame(other_S, index = data.index)"
   ]
  },
  {
   "cell_type": "code",
   "execution_count": 26,
   "metadata": {},
   "outputs": [
    {
     "data": {
      "text/plain": [
       "0.999093067854012"
      ]
     },
     "execution_count": 26,
     "metadata": {},
     "output_type": "execute_result"
    }
   ],
   "source": [
    "# sanity check: Does X = S*A?\n",
    "explained_variance_score(data_norm, np.matmul(S1.values, A1.values))\n",
    "\n",
    "# if yes, the below value should be close to 1"
   ]
  },
  {
   "cell_type": "markdown",
   "metadata": {},
   "source": [
    "#### Finding stability is tricky! Alternative #1: Pythonic\n",
    "\n",
    "I published pseudocode for the following solution. It takes advantage of pandas functions in a way that may be confusing to new python users, but stores all the intermediates in an easy-to-access way."
   ]
  },
  {
   "cell_type": "code",
   "execution_count": 9,
   "metadata": {
    "scrolled": true
   },
   "outputs": [
    {
     "name": "stderr",
     "output_type": "stream",
     "text": [
      "100%|██████████| 100/100 [01:45<00:00,  1.19s/it]\n"
     ]
    }
   ],
   "source": [
    "from scipy.stats import pearsonr\n",
    "from tqdm import tqdm\n",
    "\n",
    "# build a correlations dataframe to quantify matches\n",
    "\n",
    "# correlations will store each correlation between a component and \n",
    "# other components we are comparing against\n",
    "correlations = pd.DataFrame(index = S1.columns, columns = other_S.columns)\n",
    "for i in tqdm(S1.columns):\n",
    "    for j in other_S.columns:\n",
    "        correlations.loc[i, j] = abs(pearsonr(S1[i], other_S[j])[0])"
   ]
  },
  {
   "cell_type": "code",
   "execution_count": 28,
   "metadata": {},
   "outputs": [
    {
     "name": "stdout",
     "output_type": "stream",
     "text": [
      "Number of stable components:  70\n"
     ]
    }
   ],
   "source": [
    "# if the correlations are above thresh, we have a match!\n",
    "thresh = 0.9\n",
    "is_match = correlations > thresh\n",
    "\n",
    "# if the number of matches is equal to the number of iterations, \n",
    "# then the component showed up every time, which means it is stable\n",
    "stable = (is_match.sum(axis = 1) == n_iter-1)\n",
    "print('Number of stable components: ', stable.sum())"
   ]
  },
  {
   "cell_type": "markdown",
   "metadata": {},
   "source": [
    "#### Finding stability is tricky! Alternative #2: All in the for loop\n",
    "\n",
    "If the above code doesn't make much sense, here is a way to do it in a for loop, treating each comparison one at a time and only saving what we actually care about: whether the component is stable or not."
   ]
  },
  {
   "cell_type": "code",
   "execution_count": 29,
   "metadata": {},
   "outputs": [
    {
     "name": "stdout",
     "output_type": "stream",
     "text": [
      "Number of stable components:  70\n"
     ]
    }
   ],
   "source": [
    "#generating a list to store all stable components \n",
    "stable = []\n",
    "\n",
    "# loop through all components in S\n",
    "for i in S1.columns:\n",
    "    # count the matches for this component in other_S\n",
    "    num_match = 0\n",
    "    for j in other_S.columns:\n",
    "        # compare the gene loadings with correlation\n",
    "        load_i = S1[i] \n",
    "        load_j = other_S[j]\n",
    "        R = abs(stats.pearsonr(load_i,load_j)[0])\n",
    "        \n",
    "        # if the correlation is high enough, this is a match\n",
    "        s_match = (R > 0.9)\n",
    "        num_match += s_match \n",
    "    # if the above for loop found enough matches, this is stable!\n",
    "    stable_YN = (num_match == n_iter-1)\n",
    "    if stable_YN:\n",
    "        stable += [i]\n",
    "print('Number of stable components: ', len(stable))"
   ]
  },
  {
   "cell_type": "code",
   "execution_count": 30,
   "metadata": {},
   "outputs": [],
   "source": [
    "# narrow to only the stable components\n",
    "S1_stable = S1.loc[:, stable]\n",
    "A1_stable = A1.loc[stable, :]"
   ]
  },
  {
   "cell_type": "code",
   "execution_count": 31,
   "metadata": {},
   "outputs": [
    {
     "data": {
      "text/html": [
       "<div>\n",
       "<style scoped>\n",
       "    .dataframe tbody tr th:only-of-type {\n",
       "        vertical-align: middle;\n",
       "    }\n",
       "\n",
       "    .dataframe tbody tr th {\n",
       "        vertical-align: top;\n",
       "    }\n",
       "\n",
       "    .dataframe thead th {\n",
       "        text-align: right;\n",
       "    }\n",
       "</style>\n",
       "<table border=\"1\" class=\"dataframe\">\n",
       "  <thead>\n",
       "    <tr style=\"text-align: right;\">\n",
       "      <th></th>\n",
       "      <th>weight</th>\n",
       "      <th>abs</th>\n",
       "      <th>start</th>\n",
       "      <th>stop</th>\n",
       "      <th>strand</th>\n",
       "      <th>gene_name</th>\n",
       "      <th>length</th>\n",
       "      <th>operon</th>\n",
       "      <th>cog</th>\n",
       "    </tr>\n",
       "  </thead>\n",
       "  <tbody>\n",
       "    <tr>\n",
       "      <td>b0697</td>\n",
       "      <td>-6.463769</td>\n",
       "      <td>6.463769</td>\n",
       "      <td>724987</td>\n",
       "      <td>727036</td>\n",
       "      <td>-</td>\n",
       "      <td>kdpB</td>\n",
       "      <td>2049</td>\n",
       "      <td>kdpFABC</td>\n",
       "      <td>Inorganic ion transport and metabolism</td>\n",
       "    </tr>\n",
       "    <tr>\n",
       "      <td>b0698</td>\n",
       "      <td>-6.089844</td>\n",
       "      <td>6.089844</td>\n",
       "      <td>727058</td>\n",
       "      <td>728732</td>\n",
       "      <td>-</td>\n",
       "      <td>kdpA</td>\n",
       "      <td>1674</td>\n",
       "      <td>kdpFABC</td>\n",
       "      <td>Inorganic ion transport and metabolism</td>\n",
       "    </tr>\n",
       "    <tr>\n",
       "      <td>b1335</td>\n",
       "      <td>5.040555</td>\n",
       "      <td>5.040555</td>\n",
       "      <td>1399720</td>\n",
       "      <td>1400236</td>\n",
       "      <td>-</td>\n",
       "      <td>ogt</td>\n",
       "      <td>516</td>\n",
       "      <td>abgABT-ogt</td>\n",
       "      <td>Replication, recombination and repair</td>\n",
       "    </tr>\n",
       "    <tr>\n",
       "      <td>b2678</td>\n",
       "      <td>-4.659273</td>\n",
       "      <td>4.659273</td>\n",
       "      <td>2806009</td>\n",
       "      <td>2807074</td>\n",
       "      <td>+</td>\n",
       "      <td>proW</td>\n",
       "      <td>1065</td>\n",
       "      <td>proVWX</td>\n",
       "      <td>Amino acid transport and metabolism</td>\n",
       "    </tr>\n",
       "    <tr>\n",
       "      <td>b0696</td>\n",
       "      <td>-4.618986</td>\n",
       "      <td>4.618986</td>\n",
       "      <td>724406</td>\n",
       "      <td>724979</td>\n",
       "      <td>-</td>\n",
       "      <td>kdpC</td>\n",
       "      <td>573</td>\n",
       "      <td>kdpFABC</td>\n",
       "      <td>Inorganic ion transport and metabolism</td>\n",
       "    </tr>\n",
       "    <tr>\n",
       "      <td>b2677</td>\n",
       "      <td>-4.555326</td>\n",
       "      <td>4.555326</td>\n",
       "      <td>2804814</td>\n",
       "      <td>2806017</td>\n",
       "      <td>+</td>\n",
       "      <td>proV</td>\n",
       "      <td>1203</td>\n",
       "      <td>proVWX</td>\n",
       "      <td>Amino acid transport and metabolism</td>\n",
       "    </tr>\n",
       "    <tr>\n",
       "      <td>b2679</td>\n",
       "      <td>-4.367379</td>\n",
       "      <td>4.367379</td>\n",
       "      <td>2807131</td>\n",
       "      <td>2808124</td>\n",
       "      <td>+</td>\n",
       "      <td>proX</td>\n",
       "      <td>993</td>\n",
       "      <td>proVWX</td>\n",
       "      <td>Amino acid transport and metabolism</td>\n",
       "    </tr>\n",
       "    <tr>\n",
       "      <td>b3764</td>\n",
       "      <td>4.316727</td>\n",
       "      <td>4.316727</td>\n",
       "      <td>3948085</td>\n",
       "      <td>3948424</td>\n",
       "      <td>+</td>\n",
       "      <td>yifE</td>\n",
       "      <td>339</td>\n",
       "      <td>maoP</td>\n",
       "      <td>Function unknown</td>\n",
       "    </tr>\n",
       "    <tr>\n",
       "      <td>b4256</td>\n",
       "      <td>4.085360</td>\n",
       "      <td>4.085360</td>\n",
       "      <td>4479033</td>\n",
       "      <td>4479537</td>\n",
       "      <td>-</td>\n",
       "      <td>yjgM</td>\n",
       "      <td>504</td>\n",
       "      <td>yjgM</td>\n",
       "      <td>Function unknown</td>\n",
       "    </tr>\n",
       "    <tr>\n",
       "      <td>b0695</td>\n",
       "      <td>-4.034090</td>\n",
       "      <td>4.034090</td>\n",
       "      <td>721729</td>\n",
       "      <td>724414</td>\n",
       "      <td>-</td>\n",
       "      <td>kdpD</td>\n",
       "      <td>2685</td>\n",
       "      <td>kdpDE</td>\n",
       "      <td>Signal transduction mechanisms</td>\n",
       "    </tr>\n",
       "  </tbody>\n",
       "</table>\n",
       "</div>"
      ],
      "text/plain": [
       "         weight       abs    start     stop strand gene_name  length  \\\n",
       "b0697 -6.463769  6.463769   724987   727036      -      kdpB    2049   \n",
       "b0698 -6.089844  6.089844   727058   728732      -      kdpA    1674   \n",
       "b1335  5.040555  5.040555  1399720  1400236      -       ogt     516   \n",
       "b2678 -4.659273  4.659273  2806009  2807074      +      proW    1065   \n",
       "b0696 -4.618986  4.618986   724406   724979      -      kdpC     573   \n",
       "b2677 -4.555326  4.555326  2804814  2806017      +      proV    1203   \n",
       "b2679 -4.367379  4.367379  2807131  2808124      +      proX     993   \n",
       "b3764  4.316727  4.316727  3948085  3948424      +      yifE     339   \n",
       "b4256  4.085360  4.085360  4479033  4479537      -      yjgM     504   \n",
       "b0695 -4.034090  4.034090   721729   724414      -      kdpD    2685   \n",
       "\n",
       "           operon                                     cog  \n",
       "b0697     kdpFABC  Inorganic ion transport and metabolism  \n",
       "b0698     kdpFABC  Inorganic ion transport and metabolism  \n",
       "b1335  abgABT-ogt   Replication, recombination and repair  \n",
       "b2678      proVWX     Amino acid transport and metabolism  \n",
       "b0696     kdpFABC  Inorganic ion transport and metabolism  \n",
       "b2677      proVWX     Amino acid transport and metabolism  \n",
       "b2679      proVWX     Amino acid transport and metabolism  \n",
       "b3764        maoP                        Function unknown  \n",
       "b4256        yjgM                        Function unknown  \n",
       "b0695       kdpDE          Signal transduction mechanisms  "
      ]
     },
     "execution_count": 31,
     "metadata": {},
     "output_type": "execute_result"
    }
   ],
   "source": [
    "# take a stable component and look at its genes (see 1e)\n",
    "\n",
    "stable_component = S1_stable.iloc[:, 5]\n",
    "stable_component = stable_component.to_frame(name = 'weight')\n",
    "stable_component['abs'] = stable_component.weight.abs()\n",
    "stable_component = stable_component.sort_values('abs', ascending = False)\n",
    "stable_component = stable_component.iloc[0:10]\n",
    "stable_component = pd.concat([stable_component, gene_info.loc[stable_component.index]], axis =1)\n",
    "\n",
    "stable_component"
   ]
  },
  {
   "cell_type": "markdown",
   "metadata": {},
   "source": [
    "This component appears to be related to inorganic ion transport and metabolism. kdp genes are responsible for potassium ion transport, and the pro genes regulate proline, which is used in the response to osmotic stress. Yes, all these are related."
   ]
  },
  {
   "cell_type": "markdown",
   "metadata": {},
   "source": [
    "### c. How much variance in the data is captured by the stable components? For example, what is the error in reproducing the original matrix using only stable ICs?\n",
    "\n",
    "### <span style=\"color:red\">10 points</span>"
   ]
  },
  {
   "cell_type": "code",
   "execution_count": 32,
   "metadata": {},
   "outputs": [],
   "source": [
    "# project the data from stable PCs \n",
    "data_proj = np.matmul(S1_stable.values, A1_stable.values)\n",
    "data_proj = pd.DataFrame(data_proj, index = data.index, columns = data.columns)"
   ]
  },
  {
   "cell_type": "code",
   "execution_count": 33,
   "metadata": {},
   "outputs": [
    {
     "data": {
      "text/plain": [
       "0.6557026939904826"
      ]
     },
     "execution_count": 33,
     "metadata": {},
     "output_type": "execute_result"
    }
   ],
   "source": [
    "# explained variance:\n",
    "explained_variance_score(data_norm, data_proj)"
   ]
  },
  {
   "cell_type": "code",
   "execution_count": 34,
   "metadata": {},
   "outputs": [
    {
     "name": "stdout",
     "output_type": "stream",
     "text": [
      "45.11970839767539 %\n"
     ]
    }
   ],
   "source": [
    "# error:\n",
    "error_percent = (data_norm - data_proj)/data_norm*100\n",
    "print(error_percent.stack().mean(), '%')"
   ]
  },
  {
   "cell_type": "code",
   "execution_count": 35,
   "metadata": {},
   "outputs": [
    {
     "data": {
      "text/plain": [
       "0.4073764538774297"
      ]
     },
     "execution_count": 35,
     "metadata": {},
     "output_type": "execute_result"
    }
   ],
   "source": [
    "# mse:\n",
    "mean_squared_error(data_norm, data_proj)"
   ]
  },
  {
   "cell_type": "markdown",
   "metadata": {},
   "source": [
    "## 3. Comparing Factorization Methods\n",
    "\n",
    "### Read “Enter the Matrix: Factorization Uncovers Knowledge from Omics” by Stein-O’Brien et. al. https://www.cell.com/trends/genetics/fulltext/S0168-9525(18)30124-0. Contrast PCA, NMF, and ICA in their use in analyzing biological data. \n",
    "\n",
    "### <span style=\"color:red\">5 points</span>\n",
    "\n",
    "All three methods are matrix factorization methods, meaning that they decompose a data matrix into a one matrix mapping features to factors/components and another matrix showing the value of each factor in each sample. \n",
    "\n",
    "PCA maximizes variance and removes covariance. This gives orthogonal directions for each component, and each component can be ranked by the amount of variance it explains. It is also non-parametric and relatively easy to compute. Because the goal is simply to maximize variance, components may be a mixture of the actual signals and are not necessarily statistically independent.\n",
    "\n",
    "NMF and ICA both differ from PCA in that they identify statistically independent signals, do not have an orthogonality assumption or ranking (all components are considered equally important), and are stochastic algorithms that require multiple computationally-intensive runs to ensure robustness of the decomposition. NMF and ICA differ in that NMF requires that all values be greater than or equal to zero while ICA does not. Because of this, NMF is only applicable when signals are additive. NMF is also generally used only on sparse matrices. "
   ]
  }
 ],
 "metadata": {
  "kernelspec": {
   "display_name": "Python 3",
   "language": "python",
   "name": "python3"
  },
  "language_info": {
   "codemirror_mode": {
    "name": "ipython",
    "version": 3
   },
   "file_extension": ".py",
   "mimetype": "text/x-python",
   "name": "python",
   "nbconvert_exporter": "python",
   "pygments_lexer": "ipython3",
   "version": "3.7.3"
  }
 },
 "nbformat": 4,
 "nbformat_minor": 2
}
