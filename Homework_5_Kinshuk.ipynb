{
 "cells": [
  {
   "cell_type": "markdown",
   "metadata": {},
   "source": [
    "# BENG 212 HW 5\n",
    "\n",
    "##  Name: Kinshuk Sahu\n",
    "\n",
    "### 3/3/2020\n",
    "\n",
    "#### Resources\n",
    "- An interesting read comparing statistics to ML: https://www.nature.com/articles/nmeth.4642 "
   ]
  },
  {
   "cell_type": "code",
   "execution_count": 1,
   "metadata": {},
   "outputs": [],
   "source": [
    "import numpy as np\n",
    "import pandas as pd\n",
    "import matplotlib.pyplot as plt\n",
    "import seaborn as sns\n",
    "from scipy import stats\n",
    "\n",
    "data = pd.read_excel('Homework_Data.xlsx', sheet_name = 'Expression Data', index_col = 0)\n",
    "metadata = pd.read_excel('Homework_Data.xlsx', sheet_name = 'Experimental Conditions', index_col = 0)\n",
    "gene_info = pd.read_excel('Homework_Data.xlsx', sheet_name = 'Gene Information', index_col = 0)\n",
    "\n",
    "import random\n",
    "\n",
    "from sklearn.linear_model import LogisticRegression\n",
    "from sklearn.svm import SVC\n",
    "from IPython.display import display\n",
    "from sklearn.linear_model import LinearRegression\n",
    "from sklearn import tree\n",
    "from sklearn.linear_model import ElasticNet\n",
    "from sklearn import metrics\n",
    "\n"
   ]
  },
  {
   "cell_type": "code",
   "execution_count": 3,
   "metadata": {},
   "outputs": [
    {
     "ename": "ImportError",
     "evalue": "cannot import name 'plot_precision_recall_curve' from 'sklearn.metrics' (/opt/conda/lib/python3.7/site-packages/sklearn/metrics/__init__.py)",
     "output_type": "error",
     "traceback": [
      "\u001b[0;31m---------------------------------------------------------------------------\u001b[0m",
      "\u001b[0;31mImportError\u001b[0m                               Traceback (most recent call last)",
      "\u001b[0;32m<ipython-input-3-b69b9ad43373>\u001b[0m in \u001b[0;36m<module>\u001b[0;34m\u001b[0m\n\u001b[1;32m      1\u001b[0m \u001b[0;32mfrom\u001b[0m \u001b[0msklearn\u001b[0m\u001b[0;34m.\u001b[0m\u001b[0mmetrics\u001b[0m \u001b[0;32mimport\u001b[0m \u001b[0mr2_score\u001b[0m\u001b[0;34m\u001b[0m\u001b[0;34m\u001b[0m\u001b[0m\n\u001b[1;32m      2\u001b[0m \u001b[0;32mfrom\u001b[0m \u001b[0msklearn\u001b[0m\u001b[0;34m.\u001b[0m\u001b[0mmetrics\u001b[0m \u001b[0;32mimport\u001b[0m \u001b[0mprecision_recall_curve\u001b[0m\u001b[0;34m\u001b[0m\u001b[0;34m\u001b[0m\u001b[0m\n\u001b[0;32m----> 3\u001b[0;31m \u001b[0;32mfrom\u001b[0m \u001b[0msklearn\u001b[0m\u001b[0;34m.\u001b[0m\u001b[0mmetrics\u001b[0m \u001b[0;32mimport\u001b[0m \u001b[0mplot_precision_recall_curve\u001b[0m\u001b[0;34m\u001b[0m\u001b[0;34m\u001b[0m\u001b[0m\n\u001b[0m\u001b[1;32m      4\u001b[0m \u001b[0;32mfrom\u001b[0m \u001b[0msklearn\u001b[0m\u001b[0;34m.\u001b[0m\u001b[0mmetrics\u001b[0m \u001b[0;32mimport\u001b[0m \u001b[0maverage_precision_score\u001b[0m\u001b[0;34m\u001b[0m\u001b[0;34m\u001b[0m\u001b[0m\n\u001b[1;32m      5\u001b[0m \u001b[0;32mfrom\u001b[0m \u001b[0msklearn\u001b[0m\u001b[0;34m.\u001b[0m\u001b[0mmetrics\u001b[0m \u001b[0;32mimport\u001b[0m \u001b[0mplot_confusion_matrix\u001b[0m\u001b[0;34m\u001b[0m\u001b[0;34m\u001b[0m\u001b[0m\n",
      "\u001b[0;31mImportError\u001b[0m: cannot import name 'plot_precision_recall_curve' from 'sklearn.metrics' (/opt/conda/lib/python3.7/site-packages/sklearn/metrics/__init__.py)"
     ]
    }
   ],
   "source": [
    "from sklearn.metrics import r2_score\n",
    "from sklearn.metrics import precision_recall_curve\n",
    "from sklearn.metrics import plot_precision_recall_curve\n",
    "from sklearn.metrics import average_precision_score\n",
    "from sklearn.metrics import plot_confusion_matrix\n",
    "from sklearn.metrics import confusion_matrix\n"
   ]
  },
  {
   "cell_type": "markdown",
   "metadata": {},
   "source": [
    "## Problem 1: Supervised learning methods\n",
    "\n",
    "### A. Train a binary classifier to distinguish between the strains MG1655 and BW25113 for  the following two models.\n",
    "\n",
    "#### A.i. Logistic Regression"
   ]
  },
  {
   "cell_type": "code",
   "execution_count": 4,
   "metadata": {},
   "outputs": [],
   "source": [
    "MG_samples = metadata.index[metadata['Strain Description'] == 'Escherichia coli K-12 MG1655']  # only include the wild type,associations between conditions make sense if you make associations between related things \n",
    "BW_samples = metadata.index[metadata['Strain Description'] == 'Escherichia coli BW25113']\n",
    "\n",
    "all_samples = MG_samples.append(BW_samples)\n",
    "\n",
    "\n",
    "train_mg = random.sample(set(MG_samples), int(len(set(MG_samples))*0.7))   # use 70 percent data for training \n",
    "test_mg = list(set(MG_samples) - set(train_mg))   # utilising the property of sets to yield the remaining elements instead of actual subtracting plus fast! \n",
    "\n",
    "train_bw = random.sample(set(BW_samples), int(len(set(BW_samples))*0.7))\n",
    "test_bw = list(set(BW_samples) - set(train_bw))\n",
    "\n",
    "\n",
    "train_samples = train_mg + train_bw   # adding can be done like this in lists in python\n",
    "test_samples = test_mg + test_bw\n",
    "\n",
    "\n"
   ]
  },
  {
   "cell_type": "code",
   "execution_count": 5,
   "metadata": {},
   "outputs": [
    {
     "data": {
      "text/plain": [
       "1.0"
      ]
     },
     "execution_count": 5,
     "metadata": {},
     "output_type": "execute_result"
    }
   ],
   "source": [
    "# since it is a binary classifier \n",
    "\n",
    "train_labels = (metadata.loc[train_samples, 'Strain Description'] == 'Escherichia coli BW25113') # composed of zeroes and ones\n",
    "test_labels = (metadata.loc[test_samples, 'Strain Description'] == 'Escherichia coli BW25113')\n",
    "\n",
    "lr = LogisticRegression(penalty='l1',solver='liblinear')\n",
    "\n",
    "lr = lr.fit(data.loc[:, train_samples].T, train_labels)       # fitting on the training data   \n",
    "\n",
    "p_lr = lr.score(data.loc[:, test_samples].T, test_labels)      # testing\n",
    "p_lr"
   ]
  },
  {
   "cell_type": "markdown",
   "metadata": {},
   "source": [
    "#### A.ii. Support Vector Machines"
   ]
  },
  {
   "cell_type": "code",
   "execution_count": 6,
   "metadata": {},
   "outputs": [
    {
     "data": {
      "text/plain": [
       "1.0"
      ]
     },
     "execution_count": 6,
     "metadata": {},
     "output_type": "execute_result"
    }
   ],
   "source": [
    "from sklearn import svm\n",
    "clf=SVC(gamma='auto')\n",
    "clf=clf.fit(data.loc[:, train_samples].T, train_labels)\n",
    "p_svm = clf.score(data.loc[:, test_samples].T, test_labels) \n",
    "p_svm_rand = clf.score(data.loc[:, test_samples].T, [False]* len(test_labels) )  # seeing for random \n",
    "# testing\n",
    "p_svm"
   ]
  },
  {
   "cell_type": "markdown",
   "metadata": {},
   "source": [
    "### B. Interpret your models in terms of performance and influential variables."
   ]
  },
  {
   "cell_type": "code",
   "execution_count": 108,
   "metadata": {
    "scrolled": true
   },
   "outputs": [],
   "source": [
    "def calculate_topgenes(lr):\n",
    "    lr = lr.fit(data.loc[:, train_samples].T, train_labels)\n",
    "    importance = lr.coef_[0]\n",
    "    importance = pd.DataFrame(importance, index = data.index, columns = ['weight'])\n",
    "    importance['abs_val'] = importance.weight.abs() # storing in dataframe in a particular column\n",
    "    top5_lr = importance.sort_values('abs_val', ascending = False).iloc[0:5, :]\n",
    "    return top5_lr,lr\n",
    "\n"
   ]
  },
  {
   "cell_type": "code",
   "execution_count": 109,
   "metadata": {
    "scrolled": true
   },
   "outputs": [
    {
     "name": "stderr",
     "output_type": "stream",
     "text": [
      "/opt/conda/lib/python3.7/site-packages/sklearn/linear_model/sag.py:337: ConvergenceWarning: The max_iter was reached which means the coef_ did not converge\n",
      "  \"the coef_ did not converge\", ConvergenceWarning)\n"
     ]
    },
    {
     "data": {
      "text/plain": [
       "1.0"
      ]
     },
     "metadata": {},
     "output_type": "display_data"
    },
    {
     "data": {
      "text/html": [
       "<div>\n",
       "<style scoped>\n",
       "    .dataframe tbody tr th:only-of-type {\n",
       "        vertical-align: middle;\n",
       "    }\n",
       "\n",
       "    .dataframe tbody tr th {\n",
       "        vertical-align: top;\n",
       "    }\n",
       "\n",
       "    .dataframe thead th {\n",
       "        text-align: right;\n",
       "    }\n",
       "</style>\n",
       "<table border=\"1\" class=\"dataframe\">\n",
       "  <thead>\n",
       "    <tr style=\"text-align: right;\">\n",
       "      <th></th>\n",
       "      <th>start</th>\n",
       "      <th>stop</th>\n",
       "      <th>strand</th>\n",
       "      <th>gene_name</th>\n",
       "      <th>length</th>\n",
       "      <th>operon</th>\n",
       "      <th>cog</th>\n",
       "    </tr>\n",
       "  </thead>\n",
       "  <tbody>\n",
       "    <tr>\n",
       "      <th>b3994</th>\n",
       "      <td>4194203</td>\n",
       "      <td>4196099</td>\n",
       "      <td>-</td>\n",
       "      <td>thiC</td>\n",
       "      <td>1896</td>\n",
       "      <td>thiCEFSGH</td>\n",
       "      <td>Coenzyme transport and metabolism</td>\n",
       "    </tr>\n",
       "    <tr>\n",
       "      <th>b3990</th>\n",
       "      <td>4190734</td>\n",
       "      <td>4191868</td>\n",
       "      <td>-</td>\n",
       "      <td>thiH</td>\n",
       "      <td>1134</td>\n",
       "      <td>thiCEFSGH</td>\n",
       "      <td>Coenzyme transport and metabolism</td>\n",
       "    </tr>\n",
       "    <tr>\n",
       "      <th>b3992</th>\n",
       "      <td>4192820</td>\n",
       "      <td>4193576</td>\n",
       "      <td>-</td>\n",
       "      <td>thiF</td>\n",
       "      <td>756</td>\n",
       "      <td>thiCEFSGH</td>\n",
       "      <td>No COG Annotation</td>\n",
       "    </tr>\n",
       "    <tr>\n",
       "      <th>b3993</th>\n",
       "      <td>4193568</td>\n",
       "      <td>4194204</td>\n",
       "      <td>-</td>\n",
       "      <td>thiE</td>\n",
       "      <td>636</td>\n",
       "      <td>thiCEFSGH</td>\n",
       "      <td>Coenzyme transport and metabolism</td>\n",
       "    </tr>\n",
       "    <tr>\n",
       "      <th>b3991</th>\n",
       "      <td>4191864</td>\n",
       "      <td>4192635</td>\n",
       "      <td>-</td>\n",
       "      <td>thiG</td>\n",
       "      <td>771</td>\n",
       "      <td>thiCEFSGH</td>\n",
       "      <td>Coenzyme transport and metabolism</td>\n",
       "    </tr>\n",
       "  </tbody>\n",
       "</table>\n",
       "</div>"
      ],
      "text/plain": [
       "         start     stop strand gene_name  length     operon  \\\n",
       "b3994  4194203  4196099      -      thiC    1896  thiCEFSGH   \n",
       "b3990  4190734  4191868      -      thiH    1134  thiCEFSGH   \n",
       "b3992  4192820  4193576      -      thiF     756  thiCEFSGH   \n",
       "b3993  4193568  4194204      -      thiE     636  thiCEFSGH   \n",
       "b3991  4191864  4192635      -      thiG     771  thiCEFSGH   \n",
       "\n",
       "                                     cog  \n",
       "b3994  Coenzyme transport and metabolism  \n",
       "b3990  Coenzyme transport and metabolism  \n",
       "b3992                  No COG Annotation  \n",
       "b3993  Coenzyme transport and metabolism  \n",
       "b3991  Coenzyme transport and metabolism  "
      ]
     },
     "metadata": {},
     "output_type": "display_data"
    }
   ],
   "source": [
    "lr = LogisticRegression('elasticnet', l1_ratio = 0.5, solver = 'saga') # no convergence error\n",
    "top5,lr=calculate_topgenes(lr)\n",
    "p = lr.score(data.loc[:, test_samples].T, test_labels)\n",
    "display(p)\n",
    "display(gene_info.loc[top5.index])"
   ]
  },
  {
   "cell_type": "code",
   "execution_count": 45,
   "metadata": {},
   "outputs": [
    {
     "name": "stderr",
     "output_type": "stream",
     "text": [
      "/opt/conda/lib/python3.7/site-packages/sklearn/linear_model/sag.py:337: ConvergenceWarning: The max_iter was reached which means the coef_ did not converge\n",
      "  \"the coef_ did not converge\", ConvergenceWarning)\n"
     ]
    },
    {
     "data": {
      "text/plain": [
       "1.0"
      ]
     },
     "metadata": {},
     "output_type": "display_data"
    },
    {
     "data": {
      "text/html": [
       "<div>\n",
       "<style scoped>\n",
       "    .dataframe tbody tr th:only-of-type {\n",
       "        vertical-align: middle;\n",
       "    }\n",
       "\n",
       "    .dataframe tbody tr th {\n",
       "        vertical-align: top;\n",
       "    }\n",
       "\n",
       "    .dataframe thead th {\n",
       "        text-align: right;\n",
       "    }\n",
       "</style>\n",
       "<table border=\"1\" class=\"dataframe\">\n",
       "  <thead>\n",
       "    <tr style=\"text-align: right;\">\n",
       "      <th></th>\n",
       "      <th>start</th>\n",
       "      <th>stop</th>\n",
       "      <th>strand</th>\n",
       "      <th>gene_name</th>\n",
       "      <th>length</th>\n",
       "      <th>operon</th>\n",
       "      <th>cog</th>\n",
       "    </tr>\n",
       "  </thead>\n",
       "  <tbody>\n",
       "    <tr>\n",
       "      <th>b3990</th>\n",
       "      <td>4190734</td>\n",
       "      <td>4191868</td>\n",
       "      <td>-</td>\n",
       "      <td>thiH</td>\n",
       "      <td>1134</td>\n",
       "      <td>thiCEFSGH</td>\n",
       "      <td>Coenzyme transport and metabolism</td>\n",
       "    </tr>\n",
       "    <tr>\n",
       "      <th>b3994</th>\n",
       "      <td>4194203</td>\n",
       "      <td>4196099</td>\n",
       "      <td>-</td>\n",
       "      <td>thiC</td>\n",
       "      <td>1896</td>\n",
       "      <td>thiCEFSGH</td>\n",
       "      <td>Coenzyme transport and metabolism</td>\n",
       "    </tr>\n",
       "    <tr>\n",
       "      <th>b3993</th>\n",
       "      <td>4193568</td>\n",
       "      <td>4194204</td>\n",
       "      <td>-</td>\n",
       "      <td>thiE</td>\n",
       "      <td>636</td>\n",
       "      <td>thiCEFSGH</td>\n",
       "      <td>Coenzyme transport and metabolism</td>\n",
       "    </tr>\n",
       "    <tr>\n",
       "      <th>b3992</th>\n",
       "      <td>4192820</td>\n",
       "      <td>4193576</td>\n",
       "      <td>-</td>\n",
       "      <td>thiF</td>\n",
       "      <td>756</td>\n",
       "      <td>thiCEFSGH</td>\n",
       "      <td>No COG Annotation</td>\n",
       "    </tr>\n",
       "    <tr>\n",
       "      <th>b3991</th>\n",
       "      <td>4191864</td>\n",
       "      <td>4192635</td>\n",
       "      <td>-</td>\n",
       "      <td>thiG</td>\n",
       "      <td>771</td>\n",
       "      <td>thiCEFSGH</td>\n",
       "      <td>Coenzyme transport and metabolism</td>\n",
       "    </tr>\n",
       "  </tbody>\n",
       "</table>\n",
       "</div>"
      ],
      "text/plain": [
       "         start     stop strand gene_name  length     operon  \\\n",
       "b3990  4190734  4191868      -      thiH    1134  thiCEFSGH   \n",
       "b3994  4194203  4196099      -      thiC    1896  thiCEFSGH   \n",
       "b3993  4193568  4194204      -      thiE     636  thiCEFSGH   \n",
       "b3992  4192820  4193576      -      thiF     756  thiCEFSGH   \n",
       "b3991  4191864  4192635      -      thiG     771  thiCEFSGH   \n",
       "\n",
       "                                     cog  \n",
       "b3990  Coenzyme transport and metabolism  \n",
       "b3994  Coenzyme transport and metabolism  \n",
       "b3993  Coenzyme transport and metabolism  \n",
       "b3992                  No COG Annotation  \n",
       "b3991  Coenzyme transport and metabolism  "
      ]
     },
     "metadata": {},
     "output_type": "display_data"
    }
   ],
   "source": [
    "lr = LogisticRegression('elasticnet', l1_ratio = 0, solver = 'saga') # no convergence error just like l2\n",
    "top5,lr=calculate_topgenes(lr)\n",
    "p = lr.score(data.loc[:, test_samples].T, test_labels)\n",
    "display(p)\n",
    "display(gene_info.loc[top5.index])"
   ]
  },
  {
   "cell_type": "code",
   "execution_count": 47,
   "metadata": {},
   "outputs": [
    {
     "name": "stderr",
     "output_type": "stream",
     "text": [
      "/opt/conda/lib/python3.7/site-packages/sklearn/linear_model/sag.py:337: ConvergenceWarning: The max_iter was reached which means the coef_ did not converge\n",
      "  \"the coef_ did not converge\", ConvergenceWarning)\n"
     ]
    },
    {
     "data": {
      "text/plain": [
       "1.0"
      ]
     },
     "metadata": {},
     "output_type": "display_data"
    },
    {
     "data": {
      "text/html": [
       "<div>\n",
       "<style scoped>\n",
       "    .dataframe tbody tr th:only-of-type {\n",
       "        vertical-align: middle;\n",
       "    }\n",
       "\n",
       "    .dataframe tbody tr th {\n",
       "        vertical-align: top;\n",
       "    }\n",
       "\n",
       "    .dataframe thead th {\n",
       "        text-align: right;\n",
       "    }\n",
       "</style>\n",
       "<table border=\"1\" class=\"dataframe\">\n",
       "  <thead>\n",
       "    <tr style=\"text-align: right;\">\n",
       "      <th></th>\n",
       "      <th>start</th>\n",
       "      <th>stop</th>\n",
       "      <th>strand</th>\n",
       "      <th>gene_name</th>\n",
       "      <th>length</th>\n",
       "      <th>operon</th>\n",
       "      <th>cog</th>\n",
       "    </tr>\n",
       "  </thead>\n",
       "  <tbody>\n",
       "    <tr>\n",
       "      <th>b3990</th>\n",
       "      <td>4190734</td>\n",
       "      <td>4191868</td>\n",
       "      <td>-</td>\n",
       "      <td>thiH</td>\n",
       "      <td>1134</td>\n",
       "      <td>thiCEFSGH</td>\n",
       "      <td>Coenzyme transport and metabolism</td>\n",
       "    </tr>\n",
       "    <tr>\n",
       "      <th>b3994</th>\n",
       "      <td>4194203</td>\n",
       "      <td>4196099</td>\n",
       "      <td>-</td>\n",
       "      <td>thiC</td>\n",
       "      <td>1896</td>\n",
       "      <td>thiCEFSGH</td>\n",
       "      <td>Coenzyme transport and metabolism</td>\n",
       "    </tr>\n",
       "    <tr>\n",
       "      <th>b3993</th>\n",
       "      <td>4193568</td>\n",
       "      <td>4194204</td>\n",
       "      <td>-</td>\n",
       "      <td>thiE</td>\n",
       "      <td>636</td>\n",
       "      <td>thiCEFSGH</td>\n",
       "      <td>Coenzyme transport and metabolism</td>\n",
       "    </tr>\n",
       "    <tr>\n",
       "      <th>b3992</th>\n",
       "      <td>4192820</td>\n",
       "      <td>4193576</td>\n",
       "      <td>-</td>\n",
       "      <td>thiF</td>\n",
       "      <td>756</td>\n",
       "      <td>thiCEFSGH</td>\n",
       "      <td>No COG Annotation</td>\n",
       "    </tr>\n",
       "    <tr>\n",
       "      <th>b3991</th>\n",
       "      <td>4191864</td>\n",
       "      <td>4192635</td>\n",
       "      <td>-</td>\n",
       "      <td>thiG</td>\n",
       "      <td>771</td>\n",
       "      <td>thiCEFSGH</td>\n",
       "      <td>Coenzyme transport and metabolism</td>\n",
       "    </tr>\n",
       "  </tbody>\n",
       "</table>\n",
       "</div>"
      ],
      "text/plain": [
       "         start     stop strand gene_name  length     operon  \\\n",
       "b3990  4190734  4191868      -      thiH    1134  thiCEFSGH   \n",
       "b3994  4194203  4196099      -      thiC    1896  thiCEFSGH   \n",
       "b3993  4193568  4194204      -      thiE     636  thiCEFSGH   \n",
       "b3992  4192820  4193576      -      thiF     756  thiCEFSGH   \n",
       "b3991  4191864  4192635      -      thiG     771  thiCEFSGH   \n",
       "\n",
       "                                     cog  \n",
       "b3990  Coenzyme transport and metabolism  \n",
       "b3994  Coenzyme transport and metabolism  \n",
       "b3993  Coenzyme transport and metabolism  \n",
       "b3992                  No COG Annotation  \n",
       "b3991  Coenzyme transport and metabolism  "
      ]
     },
     "metadata": {},
     "output_type": "display_data"
    }
   ],
   "source": [
    "lr = LogisticRegression('elasticnet', l1_ratio = 1, solver = 'saga') # no convergence error just like l1\n",
    "top5,lr=calculate_topgenes(lr)\n",
    "p = lr.score(data.loc[:, test_samples].T, test_labels)\n",
    "display(p)\n",
    "display(gene_info.loc[top5.index])"
   ]
  },
  {
   "cell_type": "code",
   "execution_count": 49,
   "metadata": {},
   "outputs": [
    {
     "data": {
      "text/plain": [
       "1.0"
      ]
     },
     "metadata": {},
     "output_type": "display_data"
    },
    {
     "data": {
      "text/html": [
       "<div>\n",
       "<style scoped>\n",
       "    .dataframe tbody tr th:only-of-type {\n",
       "        vertical-align: middle;\n",
       "    }\n",
       "\n",
       "    .dataframe tbody tr th {\n",
       "        vertical-align: top;\n",
       "    }\n",
       "\n",
       "    .dataframe thead th {\n",
       "        text-align: right;\n",
       "    }\n",
       "</style>\n",
       "<table border=\"1\" class=\"dataframe\">\n",
       "  <thead>\n",
       "    <tr style=\"text-align: right;\">\n",
       "      <th></th>\n",
       "      <th>start</th>\n",
       "      <th>stop</th>\n",
       "      <th>strand</th>\n",
       "      <th>gene_name</th>\n",
       "      <th>length</th>\n",
       "      <th>operon</th>\n",
       "      <th>cog</th>\n",
       "    </tr>\n",
       "  </thead>\n",
       "  <tbody>\n",
       "    <tr>\n",
       "      <th>b0349</th>\n",
       "      <td>371238</td>\n",
       "      <td>372105</td>\n",
       "      <td>+</td>\n",
       "      <td>mhpC</td>\n",
       "      <td>867</td>\n",
       "      <td>mhpABCDFE</td>\n",
       "      <td>No COG Annotation</td>\n",
       "    </tr>\n",
       "    <tr>\n",
       "      <th>b3993</th>\n",
       "      <td>4193568</td>\n",
       "      <td>4194204</td>\n",
       "      <td>-</td>\n",
       "      <td>thiE</td>\n",
       "      <td>636</td>\n",
       "      <td>thiCEFSGH</td>\n",
       "      <td>Coenzyme transport and metabolism</td>\n",
       "    </tr>\n",
       "    <tr>\n",
       "      <th>b3990</th>\n",
       "      <td>4190734</td>\n",
       "      <td>4191868</td>\n",
       "      <td>-</td>\n",
       "      <td>thiH</td>\n",
       "      <td>1134</td>\n",
       "      <td>thiCEFSGH</td>\n",
       "      <td>Coenzyme transport and metabolism</td>\n",
       "    </tr>\n",
       "    <tr>\n",
       "      <th>b3992</th>\n",
       "      <td>4192820</td>\n",
       "      <td>4193576</td>\n",
       "      <td>-</td>\n",
       "      <td>thiF</td>\n",
       "      <td>756</td>\n",
       "      <td>thiCEFSGH</td>\n",
       "      <td>No COG Annotation</td>\n",
       "    </tr>\n",
       "    <tr>\n",
       "      <th>b3994</th>\n",
       "      <td>4194203</td>\n",
       "      <td>4196099</td>\n",
       "      <td>-</td>\n",
       "      <td>thiC</td>\n",
       "      <td>1896</td>\n",
       "      <td>thiCEFSGH</td>\n",
       "      <td>Coenzyme transport and metabolism</td>\n",
       "    </tr>\n",
       "  </tbody>\n",
       "</table>\n",
       "</div>"
      ],
      "text/plain": [
       "         start     stop strand gene_name  length     operon  \\\n",
       "b0349   371238   372105      +      mhpC     867  mhpABCDFE   \n",
       "b3993  4193568  4194204      -      thiE     636  thiCEFSGH   \n",
       "b3990  4190734  4191868      -      thiH    1134  thiCEFSGH   \n",
       "b3992  4192820  4193576      -      thiF     756  thiCEFSGH   \n",
       "b3994  4194203  4196099      -      thiC    1896  thiCEFSGH   \n",
       "\n",
       "                                     cog  \n",
       "b0349                  No COG Annotation  \n",
       "b3993  Coenzyme transport and metabolism  \n",
       "b3990  Coenzyme transport and metabolism  \n",
       "b3992                  No COG Annotation  \n",
       "b3994  Coenzyme transport and metabolism  "
      ]
     },
     "metadata": {},
     "output_type": "display_data"
    }
   ],
   "source": [
    "lr = LogisticRegression(penalty='l1',solver='liblinear') #  slightly different results from rest\n",
    "top5,lr=calculate_topgenes(lr)\n",
    "p = lr.score(data.loc[:, test_samples].T, test_labels)\n",
    "display(p)\n",
    "display(gene_info.loc[top5.index])"
   ]
  },
  {
   "cell_type": "code",
   "execution_count": 50,
   "metadata": {},
   "outputs": [
    {
     "data": {
      "text/plain": [
       "1.0"
      ]
     },
     "metadata": {},
     "output_type": "display_data"
    },
    {
     "data": {
      "text/html": [
       "<div>\n",
       "<style scoped>\n",
       "    .dataframe tbody tr th:only-of-type {\n",
       "        vertical-align: middle;\n",
       "    }\n",
       "\n",
       "    .dataframe tbody tr th {\n",
       "        vertical-align: top;\n",
       "    }\n",
       "\n",
       "    .dataframe thead th {\n",
       "        text-align: right;\n",
       "    }\n",
       "</style>\n",
       "<table border=\"1\" class=\"dataframe\">\n",
       "  <thead>\n",
       "    <tr style=\"text-align: right;\">\n",
       "      <th></th>\n",
       "      <th>start</th>\n",
       "      <th>stop</th>\n",
       "      <th>strand</th>\n",
       "      <th>gene_name</th>\n",
       "      <th>length</th>\n",
       "      <th>operon</th>\n",
       "      <th>cog</th>\n",
       "    </tr>\n",
       "  </thead>\n",
       "  <tbody>\n",
       "    <tr>\n",
       "      <th>b3990</th>\n",
       "      <td>4190734</td>\n",
       "      <td>4191868</td>\n",
       "      <td>-</td>\n",
       "      <td>thiH</td>\n",
       "      <td>1134</td>\n",
       "      <td>thiCEFSGH</td>\n",
       "      <td>Coenzyme transport and metabolism</td>\n",
       "    </tr>\n",
       "    <tr>\n",
       "      <th>b3994</th>\n",
       "      <td>4194203</td>\n",
       "      <td>4196099</td>\n",
       "      <td>-</td>\n",
       "      <td>thiC</td>\n",
       "      <td>1896</td>\n",
       "      <td>thiCEFSGH</td>\n",
       "      <td>Coenzyme transport and metabolism</td>\n",
       "    </tr>\n",
       "    <tr>\n",
       "      <th>b3993</th>\n",
       "      <td>4193568</td>\n",
       "      <td>4194204</td>\n",
       "      <td>-</td>\n",
       "      <td>thiE</td>\n",
       "      <td>636</td>\n",
       "      <td>thiCEFSGH</td>\n",
       "      <td>Coenzyme transport and metabolism</td>\n",
       "    </tr>\n",
       "    <tr>\n",
       "      <th>b3992</th>\n",
       "      <td>4192820</td>\n",
       "      <td>4193576</td>\n",
       "      <td>-</td>\n",
       "      <td>thiF</td>\n",
       "      <td>756</td>\n",
       "      <td>thiCEFSGH</td>\n",
       "      <td>No COG Annotation</td>\n",
       "    </tr>\n",
       "    <tr>\n",
       "      <th>b3991</th>\n",
       "      <td>4191864</td>\n",
       "      <td>4192635</td>\n",
       "      <td>-</td>\n",
       "      <td>thiG</td>\n",
       "      <td>771</td>\n",
       "      <td>thiCEFSGH</td>\n",
       "      <td>Coenzyme transport and metabolism</td>\n",
       "    </tr>\n",
       "  </tbody>\n",
       "</table>\n",
       "</div>"
      ],
      "text/plain": [
       "         start     stop strand gene_name  length     operon  \\\n",
       "b3990  4190734  4191868      -      thiH    1134  thiCEFSGH   \n",
       "b3994  4194203  4196099      -      thiC    1896  thiCEFSGH   \n",
       "b3993  4193568  4194204      -      thiE     636  thiCEFSGH   \n",
       "b3992  4192820  4193576      -      thiF     756  thiCEFSGH   \n",
       "b3991  4191864  4192635      -      thiG     771  thiCEFSGH   \n",
       "\n",
       "                                     cog  \n",
       "b3990  Coenzyme transport and metabolism  \n",
       "b3994  Coenzyme transport and metabolism  \n",
       "b3993  Coenzyme transport and metabolism  \n",
       "b3992                  No COG Annotation  \n",
       "b3991  Coenzyme transport and metabolism  "
      ]
     },
     "metadata": {},
     "output_type": "display_data"
    }
   ],
   "source": [
    "lr = LogisticRegression(penalty='l2',solver='lbfgs') #  slow\n",
    "top5,lr=calculate_topgenes(lr)\n",
    "p = lr.score(data.loc[:, test_samples].T, test_labels)\n",
    "display(p)\n",
    "display(gene_info.loc[top5.index])"
   ]
  },
  {
   "cell_type": "code",
   "execution_count": 52,
   "metadata": {
    "scrolled": true
   },
   "outputs": [
    {
     "data": {
      "text/plain": [
       "1.0"
      ]
     },
     "metadata": {},
     "output_type": "display_data"
    },
    {
     "data": {
      "text/html": [
       "<div>\n",
       "<style scoped>\n",
       "    .dataframe tbody tr th:only-of-type {\n",
       "        vertical-align: middle;\n",
       "    }\n",
       "\n",
       "    .dataframe tbody tr th {\n",
       "        vertical-align: top;\n",
       "    }\n",
       "\n",
       "    .dataframe thead th {\n",
       "        text-align: right;\n",
       "    }\n",
       "</style>\n",
       "<table border=\"1\" class=\"dataframe\">\n",
       "  <thead>\n",
       "    <tr style=\"text-align: right;\">\n",
       "      <th></th>\n",
       "      <th>start</th>\n",
       "      <th>stop</th>\n",
       "      <th>strand</th>\n",
       "      <th>gene_name</th>\n",
       "      <th>length</th>\n",
       "      <th>operon</th>\n",
       "      <th>cog</th>\n",
       "    </tr>\n",
       "  </thead>\n",
       "  <tbody>\n",
       "    <tr>\n",
       "      <th>b3990</th>\n",
       "      <td>4190734</td>\n",
       "      <td>4191868</td>\n",
       "      <td>-</td>\n",
       "      <td>thiH</td>\n",
       "      <td>1134</td>\n",
       "      <td>thiCEFSGH</td>\n",
       "      <td>Coenzyme transport and metabolism</td>\n",
       "    </tr>\n",
       "    <tr>\n",
       "      <th>b3994</th>\n",
       "      <td>4194203</td>\n",
       "      <td>4196099</td>\n",
       "      <td>-</td>\n",
       "      <td>thiC</td>\n",
       "      <td>1896</td>\n",
       "      <td>thiCEFSGH</td>\n",
       "      <td>Coenzyme transport and metabolism</td>\n",
       "    </tr>\n",
       "    <tr>\n",
       "      <th>b3993</th>\n",
       "      <td>4193568</td>\n",
       "      <td>4194204</td>\n",
       "      <td>-</td>\n",
       "      <td>thiE</td>\n",
       "      <td>636</td>\n",
       "      <td>thiCEFSGH</td>\n",
       "      <td>Coenzyme transport and metabolism</td>\n",
       "    </tr>\n",
       "    <tr>\n",
       "      <th>b3992</th>\n",
       "      <td>4192820</td>\n",
       "      <td>4193576</td>\n",
       "      <td>-</td>\n",
       "      <td>thiF</td>\n",
       "      <td>756</td>\n",
       "      <td>thiCEFSGH</td>\n",
       "      <td>No COG Annotation</td>\n",
       "    </tr>\n",
       "    <tr>\n",
       "      <th>b3991</th>\n",
       "      <td>4191864</td>\n",
       "      <td>4192635</td>\n",
       "      <td>-</td>\n",
       "      <td>thiG</td>\n",
       "      <td>771</td>\n",
       "      <td>thiCEFSGH</td>\n",
       "      <td>Coenzyme transport and metabolism</td>\n",
       "    </tr>\n",
       "  </tbody>\n",
       "</table>\n",
       "</div>"
      ],
      "text/plain": [
       "         start     stop strand gene_name  length     operon  \\\n",
       "b3990  4190734  4191868      -      thiH    1134  thiCEFSGH   \n",
       "b3994  4194203  4196099      -      thiC    1896  thiCEFSGH   \n",
       "b3993  4193568  4194204      -      thiE     636  thiCEFSGH   \n",
       "b3992  4192820  4193576      -      thiF     756  thiCEFSGH   \n",
       "b3991  4191864  4192635      -      thiG     771  thiCEFSGH   \n",
       "\n",
       "                                     cog  \n",
       "b3990  Coenzyme transport and metabolism  \n",
       "b3994  Coenzyme transport and metabolism  \n",
       "b3993  Coenzyme transport and metabolism  \n",
       "b3992                  No COG Annotation  \n",
       "b3991  Coenzyme transport and metabolism  "
      ]
     },
     "metadata": {},
     "output_type": "display_data"
    }
   ],
   "source": [
    "lr = LogisticRegression(penalty='l2',solver='newton-cg') #  slow\n",
    "top5,lr=calculate_topgenes(lr)\n",
    "p = lr.score(data.loc[:, test_samples].T, test_labels)\n",
    "display(p)\n",
    "display(gene_info.loc[top5.index])"
   ]
  },
  {
   "cell_type": "code",
   "execution_count": 260,
   "metadata": {
    "scrolled": true
   },
   "outputs": [
    {
     "data": {
      "text/plain": [
       "1.0"
      ]
     },
     "metadata": {},
     "output_type": "display_data"
    },
    {
     "data": {
      "text/html": [
       "<div>\n",
       "<style scoped>\n",
       "    .dataframe tbody tr th:only-of-type {\n",
       "        vertical-align: middle;\n",
       "    }\n",
       "\n",
       "    .dataframe tbody tr th {\n",
       "        vertical-align: top;\n",
       "    }\n",
       "\n",
       "    .dataframe thead th {\n",
       "        text-align: right;\n",
       "    }\n",
       "</style>\n",
       "<table border=\"1\" class=\"dataframe\">\n",
       "  <thead>\n",
       "    <tr style=\"text-align: right;\">\n",
       "      <th></th>\n",
       "      <th>start</th>\n",
       "      <th>stop</th>\n",
       "      <th>strand</th>\n",
       "      <th>gene_name</th>\n",
       "      <th>length</th>\n",
       "      <th>operon</th>\n",
       "      <th>cog</th>\n",
       "    </tr>\n",
       "  </thead>\n",
       "  <tbody>\n",
       "    <tr>\n",
       "      <th>b0349</th>\n",
       "      <td>371238</td>\n",
       "      <td>372105</td>\n",
       "      <td>+</td>\n",
       "      <td>mhpC</td>\n",
       "      <td>867</td>\n",
       "      <td>mhpABCDFE</td>\n",
       "      <td>No COG Annotation</td>\n",
       "    </tr>\n",
       "    <tr>\n",
       "      <th>b3990</th>\n",
       "      <td>4190734</td>\n",
       "      <td>4191868</td>\n",
       "      <td>-</td>\n",
       "      <td>thiH</td>\n",
       "      <td>1134</td>\n",
       "      <td>thiCEFSGH</td>\n",
       "      <td>Coenzyme transport and metabolism</td>\n",
       "    </tr>\n",
       "    <tr>\n",
       "      <th>b0572</th>\n",
       "      <td>595599</td>\n",
       "      <td>596973</td>\n",
       "      <td>+</td>\n",
       "      <td>cusC</td>\n",
       "      <td>1374</td>\n",
       "      <td>cusCFBA</td>\n",
       "      <td>Cell wall/membrane/envelope biogenesis</td>\n",
       "    </tr>\n",
       "    <tr>\n",
       "      <th>b0062</th>\n",
       "      <td>66834</td>\n",
       "      <td>68337</td>\n",
       "      <td>-</td>\n",
       "      <td>araA</td>\n",
       "      <td>1503</td>\n",
       "      <td>araBAD</td>\n",
       "      <td>Carbohydrate transport and metabolism</td>\n",
       "    </tr>\n",
       "    <tr>\n",
       "      <th>b3992</th>\n",
       "      <td>4192820</td>\n",
       "      <td>4193576</td>\n",
       "      <td>-</td>\n",
       "      <td>thiF</td>\n",
       "      <td>756</td>\n",
       "      <td>thiCEFSGH</td>\n",
       "      <td>No COG Annotation</td>\n",
       "    </tr>\n",
       "  </tbody>\n",
       "</table>\n",
       "</div>"
      ],
      "text/plain": [
       "         start     stop strand gene_name  length     operon  \\\n",
       "b0349   371238   372105      +      mhpC     867  mhpABCDFE   \n",
       "b3990  4190734  4191868      -      thiH    1134  thiCEFSGH   \n",
       "b0572   595599   596973      +      cusC    1374    cusCFBA   \n",
       "b0062    66834    68337      -      araA    1503     araBAD   \n",
       "b3992  4192820  4193576      -      thiF     756  thiCEFSGH   \n",
       "\n",
       "                                          cog  \n",
       "b0349                       No COG Annotation  \n",
       "b3990       Coenzyme transport and metabolism  \n",
       "b0572  Cell wall/membrane/envelope biogenesis  \n",
       "b0062   Carbohydrate transport and metabolism  \n",
       "b3992                       No COG Annotation  "
      ]
     },
     "metadata": {},
     "output_type": "display_data"
    }
   ],
   "source": [
    "# doing for SVD #function\n",
    "\n",
    "clf=SVC(gamma='auto',kernel='linear')\n",
    "\n",
    "def calculate_topgenes_svd(clf):\n",
    "    clf=clf.fit(data.loc[:, train_samples].T, train_labels)\n",
    "    importance = lr.coef_[0]\n",
    "    importance = pd.DataFrame(importance, index = data.index, columns = ['weight'])\n",
    "    importance['abs_val'] = importance.weight.abs() # storing in dataframe in a particular column\n",
    "    top5_lr = importance.sort_values('abs_val', ascending = False).iloc[0:5, :]\n",
    "    return top5_lr,clf\n",
    "\n",
    "top5,clf=calculate_topgenes_svd(clf)\n",
    "p = clf.score(data.loc[:, test_samples].T, test_labels)\n",
    "display(p)\n",
    "display(gene_info.loc[top5.index])"
   ]
  },
  {
   "cell_type": "markdown",
   "metadata": {},
   "source": [
    "We observe the following displayed performances and 5 influential variables.In the case of logistic regression, we varied different parameters like the solver, the penalty, the ratio etc and found out that most of the important genes, identified by their weights were those involved in coenzyme transport and metabolism.  In case of Support Vector Machines, we also observed that there were some genes that were involved in cell wall biogenesis and carbohydrate metabolism. These differences kind of indicate that these feautres are expressed highly by one strain and low by other or vice versa. The performance was pretty accurate for all the cases, at least for the lenient metric(R^2 values) that we used in our studies. This shows that our logistic regressor or svd is a good classifier. "
   ]
  },
  {
   "cell_type": "markdown",
   "metadata": {},
   "source": [
    " ### C. Train a regression model to predict expression of rpoB (b3987) from the expression of all other genes, for each of the following approaches. Repeat the analysis in part b.\n",
    "         \n",
    "#### C.i. Simple linear regression\n"
   ]
  },
  {
   "cell_type": "code",
   "execution_count": 275,
   "metadata": {},
   "outputs": [
    {
     "data": {
      "text/plain": [
       "0.8970518368188798"
      ]
     },
     "metadata": {},
     "output_type": "display_data"
    },
    {
     "data": {
      "text/html": [
       "<div>\n",
       "<style scoped>\n",
       "    .dataframe tbody tr th:only-of-type {\n",
       "        vertical-align: middle;\n",
       "    }\n",
       "\n",
       "    .dataframe tbody tr th {\n",
       "        vertical-align: top;\n",
       "    }\n",
       "\n",
       "    .dataframe thead th {\n",
       "        text-align: right;\n",
       "    }\n",
       "</style>\n",
       "<table border=\"1\" class=\"dataframe\">\n",
       "  <thead>\n",
       "    <tr style=\"text-align: right;\">\n",
       "      <th></th>\n",
       "      <th>start</th>\n",
       "      <th>stop</th>\n",
       "      <th>strand</th>\n",
       "      <th>gene_name</th>\n",
       "      <th>length</th>\n",
       "      <th>operon</th>\n",
       "      <th>cog</th>\n",
       "    </tr>\n",
       "  </thead>\n",
       "  <tbody>\n",
       "    <tr>\n",
       "      <th>b0572</th>\n",
       "      <td>595599</td>\n",
       "      <td>596973</td>\n",
       "      <td>+</td>\n",
       "      <td>cusC</td>\n",
       "      <td>1374</td>\n",
       "      <td>cusCFBA</td>\n",
       "      <td>Cell wall/membrane/envelope biogenesis</td>\n",
       "    </tr>\n",
       "    <tr>\n",
       "      <th>b2145</th>\n",
       "      <td>2233599</td>\n",
       "      <td>2233839</td>\n",
       "      <td>+</td>\n",
       "      <td>yeiS</td>\n",
       "      <td>240</td>\n",
       "      <td>sanA-yeiS</td>\n",
       "      <td>Function unknown</td>\n",
       "    </tr>\n",
       "    <tr>\n",
       "      <th>b3993</th>\n",
       "      <td>4193568</td>\n",
       "      <td>4194204</td>\n",
       "      <td>-</td>\n",
       "      <td>thiE</td>\n",
       "      <td>636</td>\n",
       "      <td>thiCEFSGH</td>\n",
       "      <td>Coenzyme transport and metabolism</td>\n",
       "    </tr>\n",
       "    <tr>\n",
       "      <th>b2000</th>\n",
       "      <td>2071538</td>\n",
       "      <td>2074658</td>\n",
       "      <td>+</td>\n",
       "      <td>flu</td>\n",
       "      <td>3120</td>\n",
       "      <td>isrC-flu</td>\n",
       "      <td>Cell wall/membrane/envelope biogenesis</td>\n",
       "    </tr>\n",
       "    <tr>\n",
       "      <th>b0557</th>\n",
       "      <td>578599</td>\n",
       "      <td>578893</td>\n",
       "      <td>-</td>\n",
       "      <td>borD</td>\n",
       "      <td>294</td>\n",
       "      <td>borD</td>\n",
       "      <td>Function unknown</td>\n",
       "    </tr>\n",
       "  </tbody>\n",
       "</table>\n",
       "</div>"
      ],
      "text/plain": [
       "         start     stop strand gene_name  length     operon  \\\n",
       "b0572   595599   596973      +      cusC    1374    cusCFBA   \n",
       "b2145  2233599  2233839      +      yeiS     240  sanA-yeiS   \n",
       "b3993  4193568  4194204      -      thiE     636  thiCEFSGH   \n",
       "b2000  2071538  2074658      +       flu    3120   isrC-flu   \n",
       "b0557   578599   578893      -      borD     294       borD   \n",
       "\n",
       "                                          cog  \n",
       "b0572  Cell wall/membrane/envelope biogenesis  \n",
       "b2145                        Function unknown  \n",
       "b3993       Coenzyme transport and metabolism  \n",
       "b2000  Cell wall/membrane/envelope biogenesis  \n",
       "b0557                        Function unknown  "
      ]
     },
     "metadata": {},
     "output_type": "display_data"
    }
   ],
   "source": [
    "\n",
    "\n",
    "rpob=data.loc['b3987']\n",
    "no_rpob=data.drop('b3987')\n",
    "\n",
    "\n",
    "train_samples=random.sample(list(data.columns),int(no_rpob.shape[1]*0.75)) # \n",
    "test_samples = list(set(data.columns)-set(train_samples))\n",
    "\n",
    "train_no_rpob=no_rpob[train_samples]\n",
    "test_no_rpob=no_rpob[test_samples]\n",
    "  \n",
    "\n",
    "# instead of binary classifier where we had zeroes and ones as the output, now we have the expression of rpoB as the output \n",
    "\n",
    "train_labels=data.loc['b3987',train_no_rpob.columns]\n",
    "test_labels=data.loc['b3987',test_no_rpob.columns]\n",
    "\n",
    "lm=LinearRegression()\n",
    "\n",
    "\n",
    "lm = lm.fit(no_rpob.loc[:, train_no_rpob.columns].T, train_labels.T,sample_weight=None)       # fitting on the training data   \n",
    "\n",
    "p_lm = lm.score(no_rpob.loc[:, test_no_rpob.columns].T, test_labels.T,sample_weight=None)      # testing\n",
    "display(p_lm)\n",
    "importance = lm.coef_\n",
    "importance = pd.DataFrame(importance, index = no_rpob.index, columns = ['weight'])\n",
    "importance['abs_val'] = importance.weight.abs() # storing in dataframe in a particular column\n",
    "top5_lm = importance.sort_values('abs_val', ascending = False).iloc[0:5, :]\n",
    "display(gene_info.loc[top5_lm.index])                            \n",
    "\n"
   ]
  },
  {
   "cell_type": "markdown",
   "metadata": {},
   "source": [
    "For simple linear regression, the performance is accurate , with R^2 value greater than 0.90 in nmost of the runs. Also we observe that in most of the runs the top weighted component is the cusC gene involved in cell wall biogenesis. This result is somewhat surprising too since the rpoB gene is involved in transcription. But wehn looked at the weight, we find that it is a negative weight, which can be explained as when the cell is actively growing (like if rpoB prodn is high), it doesn't need energy for cell wall synthesis . Cell wall synthesis will be required when the cell is undergoing cell division, when replication rate is high. Simultaneous occuring of both is relatively rare.  "
   ]
  },
  {
   "cell_type": "markdown",
   "metadata": {},
   "source": [
    "#### C.ii. Regression trees (be sure to set a reasonable depth which is slightly less than the automatically selected maximum depth in order to prevent overfitting)"
   ]
  },
  {
   "cell_type": "code",
   "execution_count": 123,
   "metadata": {
    "scrolled": true
   },
   "outputs": [
    {
     "data": {
      "text/plain": [
       "0.8841806892294525"
      ]
     },
     "metadata": {},
     "output_type": "display_data"
    },
    {
     "data": {
      "text/plain": [
       "7"
      ]
     },
     "metadata": {},
     "output_type": "display_data"
    }
   ],
   "source": [
    "clf = tree.DecisionTreeRegressor(max_depth=7)\n",
    "clf = clf.fit(no_rpob.loc[:, train_no_rpob.columns].T, train_labels.T)\n",
    "p_dt=clf.score(no_rpob.loc[:, test_no_rpob.columns].T, test_labels.T)\n",
    "display(p_dt)\n",
    "\n",
    "depth=clf.get_depth()\n",
    "display(depth)\n",
    "\n",
    "# for visualising\n",
    "import graphviz \n",
    "clf_visualize = tree.export_graphviz(clf,filled=True, rounded=True,special_characters=True) \n",
    "graph = graphviz.Source(clf_visualize) \n",
    "graph "
   ]
  },
  {
   "cell_type": "code",
   "execution_count": 17,
   "metadata": {},
   "outputs": [
    {
     "data": {
      "text/plain": [
       "[Text(170.16367924528302, 203.85, 'X[3409] <= 7.362\\nmse = 0.108\\nsamples = 76\\nvalue = 7.378'),\n",
       " Text(66.13089622641509, 176.67000000000002, 'X[3414] <= 5.724\\nmse = 0.047\\nsamples = 35\\nvalue = 7.114'),\n",
       " Text(25.267924528301887, 149.49, 'X[367] <= 4.387\\nmse = 0.013\\nsamples = 10\\nvalue = 6.807'),\n",
       " Text(12.633962264150943, 122.31, 'X[969] <= 4.99\\nmse = 0.003\\nsamples = 5\\nvalue = 6.905'),\n",
       " Text(6.316981132075472, 95.13, 'X[1358] <= 3.751\\nmse = 0.0\\nsamples = 2\\nvalue = 6.974'),\n",
       " Text(3.158490566037736, 67.94999999999999, 'mse = 0.0\\nsamples = 1\\nvalue = 6.984'),\n",
       " Text(9.475471698113207, 67.94999999999999, 'mse = 0.0\\nsamples = 1\\nvalue = 6.964'),\n",
       " Text(18.950943396226414, 95.13, 'X[2804] <= 8.14\\nmse = 0.0\\nsamples = 3\\nvalue = 6.86'),\n",
       " Text(15.79245283018868, 67.94999999999999, 'X[5] <= 2.497\\nmse = 0.0\\nsamples = 2\\nvalue = 6.857'),\n",
       " Text(12.633962264150943, 40.77000000000001, 'mse = 0.0\\nsamples = 1\\nvalue = 6.855'),\n",
       " Text(18.950943396226414, 40.77000000000001, 'mse = 0.0\\nsamples = 1\\nvalue = 6.859'),\n",
       " Text(22.109433962264152, 67.94999999999999, 'mse = 0.0\\nsamples = 1\\nvalue = 6.865'),\n",
       " Text(37.90188679245283, 122.31, 'X[3287] <= 6.362\\nmse = 0.003\\nsamples = 5\\nvalue = 6.708'),\n",
       " Text(34.74339622641509, 95.13, 'X[3764] <= 5.771\\nmse = 0.001\\nsamples = 4\\nvalue = 6.73'),\n",
       " Text(28.42641509433962, 67.94999999999999, 'X[1626] <= 4.508\\nmse = 0.0\\nsamples = 2\\nvalue = 6.759'),\n",
       " Text(25.267924528301887, 40.77000000000001, 'mse = 0.0\\nsamples = 1\\nvalue = 6.774'),\n",
       " Text(31.58490566037736, 40.77000000000001, 'mse = 0.0\\nsamples = 1\\nvalue = 6.743'),\n",
       " Text(41.06037735849056, 67.94999999999999, 'X[2130] <= 4.437\\nmse = 0.0\\nsamples = 2\\nvalue = 6.701'),\n",
       " Text(37.90188679245283, 40.77000000000001, 'mse = 0.0\\nsamples = 1\\nvalue = 6.709'),\n",
       " Text(44.218867924528304, 40.77000000000001, 'mse = 0.0\\nsamples = 1\\nvalue = 6.693'),\n",
       " Text(41.06037735849056, 95.13, 'mse = 0.0\\nsamples = 1\\nvalue = 6.623'),\n",
       " Text(106.9938679245283, 149.49, 'X[3409] <= 7.233\\nmse = 0.008\\nsamples = 25\\nvalue = 7.236'),\n",
       " Text(77.38301886792453, 122.31, 'X[2630] <= 6.226\\nmse = 0.003\\nsamples = 11\\nvalue = 7.149'),\n",
       " Text(63.16981132075472, 95.13, 'X[997] <= 3.425\\nmse = 0.0\\nsamples = 6\\nvalue = 7.196'),\n",
       " Text(53.69433962264151, 67.94999999999999, 'X[3123] <= 2.207\\nmse = 0.0\\nsamples = 3\\nvalue = 7.185'),\n",
       " Text(50.53584905660377, 40.77000000000001, 'mse = 0.0\\nsamples = 1\\nvalue = 7.172'),\n",
       " Text(56.85283018867924, 40.77000000000001, 'X[3619] <= 2.72\\nmse = 0.0\\nsamples = 2\\nvalue = 7.191'),\n",
       " Text(53.69433962264151, 13.590000000000003, 'mse = 0.0\\nsamples = 1\\nvalue = 7.19'),\n",
       " Text(60.011320754716984, 13.590000000000003, 'mse = 0.0\\nsamples = 1\\nvalue = 7.193'),\n",
       " Text(72.64528301886793, 67.94999999999999, 'X[3063] <= 2.479\\nmse = 0.0\\nsamples = 3\\nvalue = 7.208'),\n",
       " Text(69.48679245283019, 40.77000000000001, 'X[3182] <= 3.454\\nmse = 0.0\\nsamples = 2\\nvalue = 7.212'),\n",
       " Text(66.32830188679245, 13.590000000000003, 'mse = 0.0\\nsamples = 1\\nvalue = 7.208'),\n",
       " Text(72.64528301886793, 13.590000000000003, 'mse = 0.0\\nsamples = 1\\nvalue = 7.216'),\n",
       " Text(75.80377358490566, 40.77000000000001, 'mse = 0.0\\nsamples = 1\\nvalue = 7.2'),\n",
       " Text(91.59622641509434, 95.13, 'X[1818] <= 4.255\\nmse = 0.001\\nsamples = 5\\nvalue = 7.093'),\n",
       " Text(85.27924528301887, 67.94999999999999, 'X[1210] <= 3.518\\nmse = 0.0\\nsamples = 3\\nvalue = 7.113'),\n",
       " Text(82.12075471698112, 40.77000000000001, 'mse = 0.0\\nsamples = 1\\nvalue = 7.135'),\n",
       " Text(88.43773584905661, 40.77000000000001, 'X[834] <= 2.004\\nmse = 0.0\\nsamples = 2\\nvalue = 7.101'),\n",
       " Text(85.27924528301887, 13.590000000000003, 'mse = 0.0\\nsamples = 1\\nvalue = 7.094'),\n",
       " Text(91.59622641509434, 13.590000000000003, 'mse = 0.0\\nsamples = 1\\nvalue = 7.109'),\n",
       " Text(97.9132075471698, 67.94999999999999, 'X[304] <= 1.529\\nmse = 0.0\\nsamples = 2\\nvalue = 7.063'),\n",
       " Text(94.75471698113208, 40.77000000000001, 'mse = 0.0\\nsamples = 1\\nvalue = 7.08'),\n",
       " Text(101.07169811320755, 40.77000000000001, 'mse = 0.0\\nsamples = 1\\nvalue = 7.047'),\n",
       " Text(136.60471698113207, 122.31, 'X[3409] <= 7.3\\nmse = 0.001\\nsamples = 14\\nvalue = 7.305'),\n",
       " Text(120.02264150943397, 95.13, 'X[1505] <= 4.542\\nmse = 0.0\\nsamples = 6\\nvalue = 7.272'),\n",
       " Text(110.54716981132076, 67.94999999999999, 'X[2362] <= 2.149\\nmse = 0.0\\nsamples = 3\\nvalue = 7.26'),\n",
       " Text(107.38867924528302, 40.77000000000001, 'mse = 0.0\\nsamples = 1\\nvalue = 7.25'),\n",
       " Text(113.70566037735848, 40.77000000000001, 'X[851] <= 1.42\\nmse = 0.0\\nsamples = 2\\nvalue = 7.264'),\n",
       " Text(110.54716981132076, 13.590000000000003, 'mse = 0.0\\nsamples = 1\\nvalue = 7.266'),\n",
       " Text(116.86415094339623, 13.590000000000003, 'mse = 0.0\\nsamples = 1\\nvalue = 7.263'),\n",
       " Text(129.49811320754716, 67.94999999999999, 'X[2965] <= 2.238\\nmse = 0.0\\nsamples = 3\\nvalue = 7.283'),\n",
       " Text(126.33962264150944, 40.77000000000001, 'X[1498] <= 7.253\\nmse = 0.0\\nsamples = 2\\nvalue = 7.278'),\n",
       " Text(123.1811320754717, 13.590000000000003, 'mse = 0.0\\nsamples = 1\\nvalue = 7.281'),\n",
       " Text(129.49811320754716, 13.590000000000003, 'mse = 0.0\\nsamples = 1\\nvalue = 7.275'),\n",
       " Text(132.6566037735849, 40.77000000000001, 'mse = -0.0\\nsamples = 1\\nvalue = 7.294'),\n",
       " Text(153.1867924528302, 95.13, 'X[1814] <= 0.979\\nmse = 0.0\\nsamples = 8\\nvalue = 7.329'),\n",
       " Text(145.29056603773586, 67.94999999999999, 'X[2513] <= 4.592\\nmse = 0.0\\nsamples = 6\\nvalue = 7.337'),\n",
       " Text(138.97358490566037, 40.77000000000001, 'X[965] <= 0.547\\nmse = 0.0\\nsamples = 3\\nvalue = 7.34'),\n",
       " Text(135.81509433962265, 13.590000000000003, 'mse = 0.0\\nsamples = 1\\nvalue = 7.342'),\n",
       " Text(142.1320754716981, 13.590000000000003, 'mse = 0.0\\nsamples = 2\\nvalue = 7.338'),\n",
       " Text(151.6075471698113, 40.77000000000001, 'X[3316] <= 1.189\\nmse = 0.0\\nsamples = 3\\nvalue = 7.334'),\n",
       " Text(148.44905660377358, 13.590000000000003, 'mse = 0.0\\nsamples = 1\\nvalue = 7.335'),\n",
       " Text(154.76603773584907, 13.590000000000003, 'mse = 0.0\\nsamples = 2\\nvalue = 7.333'),\n",
       " Text(161.08301886792452, 67.94999999999999, 'X[2785] <= 1.404\\nmse = 0.0\\nsamples = 2\\nvalue = 7.307'),\n",
       " Text(157.9245283018868, 40.77000000000001, 'mse = 0.0\\nsamples = 1\\nvalue = 7.309'),\n",
       " Text(164.24150943396225, 40.77000000000001, 'mse = 0.0\\nsamples = 1\\nvalue = 7.306'),\n",
       " Text(274.19646226415097, 176.67000000000002, 'X[3410] <= 7.793\\nmse = 0.05\\nsamples = 41\\nvalue = 7.603'),\n",
       " Text(237.2816037735849, 149.49, 'X[3409] <= 7.533\\nmse = 0.008\\nsamples = 34\\nvalue = 7.519'),\n",
       " Text(200.5641509433962, 122.31, 'X[3409] <= 7.444\\nmse = 0.002\\nsamples = 20\\nvalue = 7.455'),\n",
       " Text(180.03396226415094, 95.13, 'X[3768] <= 2.394\\nmse = 0.0\\nsamples = 7\\nvalue = 7.406'),\n",
       " Text(173.71698113207546, 67.94999999999999, 'X[3878] <= 2.268\\nmse = 0.0\\nsamples = 4\\nvalue = 7.388'),\n",
       " Text(170.55849056603773, 40.77000000000001, 'mse = 0.0\\nsamples = 1\\nvalue = 7.398'),\n",
       " Text(176.87547169811322, 40.77000000000001, 'X[3367] <= 5.707\\nmse = 0.0\\nsamples = 3\\nvalue = 7.385'),\n",
       " Text(173.71698113207546, 13.590000000000003, 'mse = 0.0\\nsamples = 2\\nvalue = 7.383'),\n",
       " Text(180.03396226415094, 13.590000000000003, 'mse = 0.0\\nsamples = 1\\nvalue = 7.389'),\n",
       " Text(186.35094339622643, 67.94999999999999, 'X[1840] <= 2.407\\nmse = 0.0\\nsamples = 3\\nvalue = 7.431'),\n",
       " Text(183.19245283018867, 40.77000000000001, 'mse = 0.0\\nsamples = 1\\nvalue = 7.438'),\n",
       " Text(189.50943396226415, 40.77000000000001, 'X[320] <= 1.752\\nmse = 0.0\\nsamples = 2\\nvalue = 7.427'),\n",
       " Text(186.35094339622643, 13.590000000000003, 'mse = 0.0\\nsamples = 1\\nvalue = 7.426'),\n",
       " Text(192.66792452830188, 13.590000000000003, 'mse = 0.0\\nsamples = 1\\nvalue = 7.428'),\n",
       " Text(221.0943396226415, 95.13, 'X[3214] <= 3.517\\nmse = 0.001\\nsamples = 13\\nvalue = 7.481'),\n",
       " Text(208.46037735849058, 67.94999999999999, 'X[152] <= 6.881\\nmse = 0.0\\nsamples = 8\\nvalue = 7.497'),\n",
       " Text(202.1433962264151, 40.77000000000001, 'X[1350] <= 6.487\\nmse = 0.0\\nsamples = 3\\nvalue = 7.485'),\n",
       " Text(198.98490566037736, 13.590000000000003, 'mse = 0.0\\nsamples = 2\\nvalue = 7.482'),\n",
       " Text(205.30188679245282, 13.590000000000003, 'mse = 0.0\\nsamples = 1\\nvalue = 7.491'),\n",
       " Text(214.77735849056603, 40.77000000000001, 'X[1593] <= 4.739\\nmse = 0.0\\nsamples = 5\\nvalue = 7.504'),\n",
       " Text(211.6188679245283, 13.590000000000003, 'mse = 0.0\\nsamples = 2\\nvalue = 7.512'),\n",
       " Text(217.93584905660376, 13.590000000000003, 'mse = 0.0\\nsamples = 3\\nvalue = 7.499'),\n",
       " Text(233.72830188679245, 67.94999999999999, 'X[1009] <= 4.842\\nmse = 0.0\\nsamples = 5\\nvalue = 7.455'),\n",
       " Text(227.41132075471697, 40.77000000000001, 'X[770] <= 4.667\\nmse = 0.0\\nsamples = 2\\nvalue = 7.451'),\n",
       " Text(224.25283018867924, 13.590000000000003, 'mse = 0.0\\nsamples = 1\\nvalue = 7.45'),\n",
       " Text(230.56981132075472, 13.590000000000003, 'mse = -0.0\\nsamples = 1\\nvalue = 7.451'),\n",
       " Text(240.04528301886793, 40.77000000000001, 'X[185] <= 6.109\\nmse = 0.0\\nsamples = 3\\nvalue = 7.458'),\n",
       " Text(236.88679245283018, 13.590000000000003, 'mse = 0.0\\nsamples = 2\\nvalue = 7.459'),\n",
       " Text(243.20377358490566, 13.590000000000003, 'mse = -0.0\\nsamples = 1\\nvalue = 7.455'),\n",
       " Text(273.99905660377357, 122.31, 'X[1386] <= 5.007\\nmse = 0.002\\nsamples = 14\\nvalue = 7.61'),\n",
       " Text(258.9962264150943, 95.13, 'X[1853] <= 0.798\\nmse = 0.0\\nsamples = 7\\nvalue = 7.577'),\n",
       " Text(249.52075471698112, 67.94999999999999, 'X[3415] <= 6.504\\nmse = 0.0\\nsamples = 3\\nvalue = 7.562'),\n",
       " Text(246.3622641509434, 40.77000000000001, 'mse = 0.0\\nsamples = 1\\nvalue = 7.55'),\n",
       " Text(252.67924528301887, 40.77000000000001, 'X[1617] <= 4.387\\nmse = 0.0\\nsamples = 2\\nvalue = 7.569'),\n",
       " Text(249.52075471698112, 13.590000000000003, 'mse = 0.0\\nsamples = 1\\nvalue = 7.572'),\n",
       " Text(255.8377358490566, 13.590000000000003, 'mse = 0.0\\nsamples = 1\\nvalue = 7.566'),\n",
       " Text(268.47169811320754, 67.94999999999999, 'X[2326] <= 1.824\\nmse = 0.0\\nsamples = 4\\nvalue = 7.588'),\n",
       " Text(265.3132075471698, 40.77000000000001, 'X[2485] <= 2.911\\nmse = 0.0\\nsamples = 2\\nvalue = 7.596'),\n",
       " Text(262.1547169811321, 13.590000000000003, 'mse = 0.0\\nsamples = 1\\nvalue = 7.598'),\n",
       " Text(268.47169811320754, 13.590000000000003, 'mse = 0.0\\nsamples = 1\\nvalue = 7.593'),\n",
       " Text(271.6301886792453, 40.77000000000001, 'mse = 0.0\\nsamples = 2\\nvalue = 7.58'),\n",
       " Text(289.0018867924528, 95.13, 'X[1391] <= 0.607\\nmse = 0.001\\nsamples = 7\\nvalue = 7.644'),\n",
       " Text(281.1056603773585, 67.94999999999999, 'X[1861] <= 1.418\\nmse = 0.0\\nsamples = 2\\nvalue = 7.681'),\n",
       " Text(277.94716981132075, 40.77000000000001, 'mse = 0.0\\nsamples = 1\\nvalue = 7.669'),\n",
       " Text(284.2641509433962, 40.77000000000001, 'mse = -0.0\\nsamples = 1\\nvalue = 7.693'),\n",
       " Text(296.89811320754717, 67.94999999999999, 'X[465] <= 5.171\\nmse = 0.0\\nsamples = 5\\nvalue = 7.629'),\n",
       " Text(290.5811320754717, 40.77000000000001, 'X[6] <= 7.725\\nmse = 0.0\\nsamples = 2\\nvalue = 7.637'),\n",
       " Text(287.42264150943396, 13.590000000000003, 'mse = 0.0\\nsamples = 1\\nvalue = 7.632'),\n",
       " Text(293.7396226415094, 13.590000000000003, 'mse = 0.0\\nsamples = 1\\nvalue = 7.641'),\n",
       " Text(303.2150943396226, 40.77000000000001, 'X[2056] <= 3.629\\nmse = 0.0\\nsamples = 3\\nvalue = 7.624'),\n",
       " Text(300.0566037735849, 13.590000000000003, 'mse = 0.0\\nsamples = 2\\nvalue = 7.626'),\n",
       " Text(306.3735849056604, 13.590000000000003, 'mse = -0.0\\nsamples = 1\\nvalue = 7.619'),\n",
       " Text(311.111320754717, 149.49, 'X[2617] <= 3.774\\nmse = 0.055\\nsamples = 7\\nvalue = 8.013'),\n",
       " Text(307.95283018867923, 122.31, 'mse = 0.0\\nsamples = 1\\nvalue = 8.555'),\n",
       " Text(314.26981132075474, 122.31, 'X[3010] <= 4.103\\nmse = 0.008\\nsamples = 6\\nvalue = 7.923'),\n",
       " Text(306.3735849056604, 95.13, 'X[1293] <= 2.525\\nmse = 0.002\\nsamples = 2\\nvalue = 8.032'),\n",
       " Text(303.2150943396226, 67.94999999999999, 'mse = 0.0\\nsamples = 1\\nvalue = 8.08'),\n",
       " Text(309.53207547169814, 67.94999999999999, 'mse = -0.0\\nsamples = 1\\nvalue = 7.984'),\n",
       " Text(322.16603773584905, 95.13, 'X[297] <= 2.082\\nmse = 0.001\\nsamples = 4\\nvalue = 7.869'),\n",
       " Text(315.8490566037736, 67.94999999999999, 'X[3228] <= 1.182\\nmse = 0.0\\nsamples = 2\\nvalue = 7.906'),\n",
       " Text(312.69056603773583, 40.77000000000001, 'mse = 0.0\\nsamples = 1\\nvalue = 7.91'),\n",
       " Text(319.0075471698113, 40.77000000000001, 'mse = -0.0\\nsamples = 1\\nvalue = 7.901'),\n",
       " Text(328.4830188679245, 67.94999999999999, 'X[2269] <= 2.046\\nmse = 0.0\\nsamples = 2\\nvalue = 7.832'),\n",
       " Text(325.3245283018868, 40.77000000000001, 'mse = 0.0\\nsamples = 1\\nvalue = 7.831'),\n",
       " Text(331.64150943396226, 40.77000000000001, 'mse = -0.0\\nsamples = 1\\nvalue = 7.833')]"
      ]
     },
     "execution_count": 17,
     "metadata": {},
     "output_type": "execute_result"
    },
    {
     "data": {
      "image/png": "[encoded data removed]",
      "text/plain": [
       "<Figure size 432x288 with 1 Axes>"
      ]
     },
     "metadata": {
      "needs_background": "light"
     },
     "output_type": "display_data"
    }
   ],
   "source": [
    "tree.plot_tree(clf.fit(data.loc[:, train_no_rpob.columns].T, train_labels.T) )b"
   ]
  },
  {
   "cell_type": "markdown",
   "metadata": {},
   "source": [
    "We simulate the trees for varying depths and observe that at depth =7, the tree is not overfitting any more, like the test value R^2 are increasing towards 1. "
   ]
  },
  {
   "cell_type": "markdown",
   "metadata": {},
   "source": [
    "## 2. Regularization\n",
    "\n",
    "### A. Discuss the following types of regularization.\n",
    "\n",
    "#### A.i. L1 and L2 penalties"
   ]
  },
  {
   "cell_type": "markdown",
   "metadata": {},
   "source": [
    "We need to regularize our model so that it is generalisable, and is not overfitted. By constraining the model by adding more information, we make the solutions proposed by the model more likely. In L1 an L2 penalties, we make the penalties on complexity. Addition of one more parameter into the model increases the chanced of overfitting and by adding these penalties we try to minimize that.A regression model that uses L1 regularization technique is called Lasso Regression and model which uses L2 is called Ridge Regression.\n",
    "\n",
    "Mathematically, L2 regression adds an exponential(square) dependency of the weight produced by including a parameter, and L1 regression adds the absolute value of weight, and the numbers in L come from how L1 and L2 norms are defined. They are given by \n",
    "\n",
    " L1 regularization : Cost= Error + $\\lambda$ Σ $|w_i|$ \n",
    " L2 regularization : Cost= Error + $\\lambda$ Σ $w_i^2$ \n",
    " \n",
    " where error= Σ $y_i$-($Σx_{i,j} * \\beta_j$)\n",
    "\n",
    "The differences in the penalties make the L1 penalty more influenced to reach the zero weights solution and L2 is less likely. Intuitively speaking, we can say that adding the error term makes it less overfit because it reduces the total parameters it can add. If it adds complex parameters which doesn't increase the fitness too much, it better avoid that feautre all together.  \n"
   ]
  },
  {
   "cell_type": "markdown",
   "metadata": {},
   "source": [
    "#### A.ii. Boosting, bagging, and pruning trees"
   ]
  },
  {
   "cell_type": "markdown",
   "metadata": {},
   "source": [
    "As we discussed above, we try to acheive our main motive of reducing overfitting and we can do this by boosting, bagging or pruning, which is done specifically in decision trees. \n",
    "\n",
    "Boosting trees involve using an approach where we reduce the complexity(strong data, weak model) of the tree, i.e the tree cannot extend beyond a certain depth. We do this a bunch of times(adding shallow trees) and thus in principle we can get an ensemble of weaker models that are more robust than the overfit models, and hence more generalizable. This type of approach focusses on mispredictions, and some of the more commonly used boosting techniques include gradient boosing techniques and AdaBoost(Adaptive boosting)\n",
    "\n",
    "Bagging trees in contrast with boosting trees we have weak data to train sub models.This \"weak\" data is got from bootstrapping ,which essentially means sampling a subpopulation WITH REPLACEMENT. \n",
    "\n",
    "Pruning tress is kind of like the l1 and l2 regression, in the sense that we remove sections of the tree that do not improve performance, either through reduced error pruning, where we replace each node with the common leaf below it, and see how the error is affected, or through reduced complexity pruning, where we remove subtrees based on complexity, like removing branches that do not contribute much to overall fitting of the model. "
   ]
  },
  {
   "cell_type": "markdown",
   "metadata": {},
   "source": [
    "#### A.iii. Early stopping"
   ]
  },
  {
   "cell_type": "markdown",
   "metadata": {},
   "source": [
    "This technique is an another approach to reduce overfitting in our models. The problem with overfitting is that the model tries to include more and more complex paramters to reduce the training error, but it doesn't know that it is essentially overfitting the model. we try to modify this by dividing some parts of the training data into training plus validation. The training in the training set takes place only until the validation error keeps on improving. If there is no improvement in validation set, or if it decreases then the training is stopped(and checked on testing data). This early stopping is also similar to boosting, where we do not go beyond a certain depth. "
   ]
  },
  {
   "cell_type": "markdown",
   "metadata": {},
   "source": [
    "### B. Implement elastic net regression for the linear regression in part 1c. Vary L1 and L2 weights and evaluate the performance of the model."
   ]
  },
  {
   "cell_type": "code",
   "execution_count": 292,
   "metadata": {},
   "outputs": [
    {
     "data": {
      "image/png": "[encoded data removed]",
      "text/plain": [
       "<Figure size 432x288 with 2 Axes>"
      ]
     },
     "metadata": {
      "needs_background": "light"
     },
     "output_type": "display_data"
    }
   ],
   "source": [
    "# elastic net LINEAR regression \n",
    "\n",
    "# dataframe with alpha as rows and l1 ratios as the coloumns, computed performance metric as each entry\n",
    "\n",
    "alpha=np.arange(0.1,1,0.1)\n",
    "l1_ratio=np.arange(0.1,1,0.1)\n",
    "MAT_perf=np.zeros((len(alpha),len(l1_ratio)))\n",
    "# MAT_perf_db=pd.DataFrame(MAT_perf)  \n",
    "\n",
    "rpob=data.loc['b3987']\n",
    "no_rpob=data.drop('b3987')\n",
    "train_samples=random.sample(list(data.columns),int(no_rpob.shape[1]*0.75)) # \n",
    "test_samples = list(set(data.columns)-set(train_samples))\n",
    "train_no_rpob=no_rpob[train_samples]\n",
    "test_no_rpob=no_rpob[test_samples]\n",
    "\n",
    "train_labels=data.loc['b3987',train_no_rpob.columns]\n",
    "test_labels=data.loc['b3987',test_no_rpob.columns]\n",
    "\n",
    "\n",
    "count1=0\n",
    "\n",
    "\n",
    "for i in alpha:\n",
    "    count2=0\n",
    "    for j in l1_ratio:\n",
    "        regr = ElasticNet(alpha=i,l1_ratio=j)\n",
    "        \n",
    "        regr = regr.fit(no_rpob.loc[:, train_no_rpob.columns].T, train_labels.T)       # fitting on the training data   \n",
    "\n",
    "        p_regr = regr.score(no_rpob.loc[:, test_no_rpob.columns].T, test_labels.T)      # testing # changing rpoB to data\n",
    "\n",
    "        MAT_perf[count1,count2]=p_regr\n",
    "        \n",
    "        count2+=1\n",
    "    count1+=1\n",
    "    \n",
    "    \n",
    "MAT_perf_db=pd.DataFrame(MAT_perf,index=[0.1,0.2,0.3,0.4,0.,0.6,0.7,0.8,0.9],columns=[0.1,0.2,0.3,0.4,0.,0.6,0.7,0.8,0.9])  \n",
    "ax=sns.heatmap(MAT_perf_db,annot=True,vmin=0, vmax=1)    \n",
    "ax.set(xlabel='alpha', ylabel='l1 ratio',title='Explained Variance of Elastic Net Regression')\n",
    "plt.show()"
   ]
  },
  {
   "cell_type": "markdown",
   "metadata": {},
   "source": [
    "We see that when L1 ratio is the least, and the alpha is the least too, both equal to 0.1, the performance is the best. We see a gradual transition either when the l1 ratio decreases or alpha value decreases, and a sudden drop in performance when both decrease simuntaneuosly. The performance metric here are the R^2 values. "
   ]
  },
  {
   "cell_type": "markdown",
   "metadata": {},
   "source": [
    "## 3. Model Assessment\n",
    "\n",
    "### A. Construct PR and ROC curves for the SVM model you generated in problem 1a. "
   ]
  },
  {
   "cell_type": "code",
   "execution_count": 304,
   "metadata": {},
   "outputs": [
    {
     "data": {
      "image/png": "[encoded data removed]",
      "text/plain": [
       "<Figure size 432x288 with 1 Axes>"
      ]
     },
     "metadata": {
      "needs_background": "light"
     },
     "output_type": "display_data"
    }
   ],
   "source": [
    "train_mg = random.sample(set(MG_samples), int(len(set(MG_samples))*0.7))   # use 70 percent data for training \n",
    "test_mg = list(set(MG_samples) - set(train_mg))   # utilising the property of sets to yield the remaining elements instead of actual subtracting plus fast! \n",
    "\n",
    "train_bw = random.sample(set(BW_samples), int(len(set(BW_samples))*0.7))\n",
    "test_bw = list(set(BW_samples) - set(train_bw))\n",
    "\n",
    "\n",
    "train_samples = train_mg + train_bw   # adding can be done like this in lists in python\n",
    "test_samples = test_mg + test_bw\n",
    "\n",
    "\n",
    "train_labels = (metadata.loc[train_samples, 'Strain Description'] == 'Escherichia coli BW25113') # composed of zeroes and ones\n",
    "test_labels = (metadata.loc[test_samples, 'Strain Description'] == 'Escherichia coli BW25113')\n",
    "\n",
    "\n",
    "\n",
    "from sklearn import svm\n",
    "clf=SVC(gamma='auto',probability=True)\n",
    "clf=clf.fit(data.loc[:, train_samples].T, train_labels)\n",
    "p_svm = clf.score(data.loc[:, test_samples].T, test_labels) \n",
    "\n",
    "p = clf.predict_proba(data.loc[:, test_samples].T)\n",
    "fpr, tpr, _ = metrics.roc_curve(test_labels,  p[:,1]) # KEEPING prob from poitive outcome only\n",
    "auc = metrics.roc_auc_score(test_labels, p[:,1])\n",
    "\n",
    "#Plotting the ROC\n",
    "plt.plot(fpr,tpr,color='darkorange',label=\" Area under curve=\"+str(auc))\n",
    "plt.plot([0, 1], [0, 1],color='navy', linestyle='--')\n",
    "plt.title('Receiver operating characteristic')\n",
    "plt.xlabel('False Positive Rate')\n",
    "plt.ylabel('True Positive Rate')\n",
    "plt.legend(loc=4)\n",
    "plt.show()"
   ]
  },
  {
   "cell_type": "markdown",
   "metadata": {},
   "source": [
    "From the ROC curve, we observe that the AUC is close to 1, so our classifier is working perfectly, distinguishing ones as ones and zeroes as zeroes. We can see that in the noramlized confusion matrix as well. "
   ]
  },
  {
   "cell_type": "code",
   "execution_count": 288,
   "metadata": {},
   "outputs": [
    {
     "ename": "AttributeError",
     "evalue": "module 'sklearn.metrics' has no attribute 'plot_precision_recall_curve'",
     "output_type": "error",
     "traceback": [
      "\u001b[0;31m---------------------------------------------------------------------------\u001b[0m",
      "\u001b[0;31mAttributeError\u001b[0m                            Traceback (most recent call last)",
      "\u001b[0;32m<ipython-input-288-aea9cb2310b8>\u001b[0m in \u001b[0;36m<module>\u001b[0;34m\u001b[0m\n\u001b[1;32m      1\u001b[0m \u001b[0;31m#Plotting precision curve\u001b[0m\u001b[0;34m\u001b[0m\u001b[0;34m\u001b[0m\u001b[0;34m\u001b[0m\u001b[0m\n\u001b[1;32m      2\u001b[0m \u001b[0maverage_precision\u001b[0m \u001b[0;34m=\u001b[0m \u001b[0mmetrics\u001b[0m\u001b[0;34m.\u001b[0m\u001b[0maverage_precision_score\u001b[0m\u001b[0;34m(\u001b[0m\u001b[0mtest_labels\u001b[0m\u001b[0;34m,\u001b[0m \u001b[0my_score\u001b[0m\u001b[0;34m[\u001b[0m\u001b[0;34m:\u001b[0m\u001b[0;34m,\u001b[0m\u001b[0;36m1\u001b[0m\u001b[0;34m]\u001b[0m\u001b[0;34m)\u001b[0m\u001b[0;34m\u001b[0m\u001b[0;34m\u001b[0m\u001b[0m\n\u001b[0;32m----> 3\u001b[0;31m \u001b[0mmetrics\u001b[0m\u001b[0;34m.\u001b[0m\u001b[0mplot_precision_recall_curve\u001b[0m\u001b[0;34m(\u001b[0m\u001b[0mclf\u001b[0m\u001b[0;34m,\u001b[0m \u001b[0mdata\u001b[0m\u001b[0;34m.\u001b[0m\u001b[0mloc\u001b[0m\u001b[0;34m[\u001b[0m\u001b[0;34m:\u001b[0m\u001b[0;34m,\u001b[0m \u001b[0mtest_samples\u001b[0m\u001b[0;34m]\u001b[0m\u001b[0;34m.\u001b[0m\u001b[0mT\u001b[0m\u001b[0;34m,\u001b[0m \u001b[0mtest_labels\u001b[0m\u001b[0;34m)\u001b[0m\u001b[0;34m\u001b[0m\u001b[0;34m\u001b[0m\u001b[0m\n\u001b[0m\u001b[1;32m      4\u001b[0m \u001b[0mplt\u001b[0m\u001b[0;34m.\u001b[0m\u001b[0mtitle\u001b[0m\u001b[0;34m(\u001b[0m\u001b[0;34m'Precision-Recall curve: AP={0:0.2f}'\u001b[0m\u001b[0;34m.\u001b[0m\u001b[0mformat\u001b[0m\u001b[0;34m(\u001b[0m\u001b[0maverage_precision\u001b[0m\u001b[0;34m)\u001b[0m\u001b[0;34m)\u001b[0m\u001b[0;34m\u001b[0m\u001b[0;34m\u001b[0m\u001b[0m\n\u001b[1;32m      5\u001b[0m \u001b[0mplt\u001b[0m\u001b[0;34m.\u001b[0m\u001b[0mshow\u001b[0m\u001b[0;34m(\u001b[0m\u001b[0;32mNone\u001b[0m\u001b[0;34m)\u001b[0m\u001b[0;34m\u001b[0m\u001b[0;34m\u001b[0m\u001b[0m\n",
      "\u001b[0;31mAttributeError\u001b[0m: module 'sklearn.metrics' has no attribute 'plot_precision_recall_curve'"
     ]
    }
   ],
   "source": [
    "#Plotting precision curve\n",
    "average_precision = metrics.average_precision_score(test_labels, p[:,1])\n",
    "metrics.plot_precision_recall_curve(clf, data.loc[:, test_samples].T, test_labels)\n",
    "plt.title('Precision-Recall curve: AP={0:0.2f}'.format(average_precision))\n",
    "plt.show(None)"
   ]
  },
  {
   "cell_type": "markdown",
   "metadata": {},
   "source": [
    "### B. Choose a threshold value for classification based on your results from 3a and construct a confusion matrix at this threshold."
   ]
  },
  {
   "cell_type": "code",
   "execution_count": 305,
   "metadata": {},
   "outputs": [
    {
     "ename": "NameError",
     "evalue": "name 'plot_confusion_matrix' is not defined",
     "output_type": "error",
     "traceback": [
      "\u001b[0;31m---------------------------------------------------------------------------\u001b[0m",
      "\u001b[0;31mNameError\u001b[0m                                 Traceback (most recent call last)",
      "\u001b[0;32m<ipython-input-305-bac27016ff07>\u001b[0m in \u001b[0;36m<module>\u001b[0;34m\u001b[0m\n\u001b[1;32m      8\u001b[0m \u001b[0;34m\u001b[0m\u001b[0m\n\u001b[1;32m      9\u001b[0m \u001b[0;31m#display the map with normalization\u001b[0m\u001b[0;34m\u001b[0m\u001b[0;34m\u001b[0m\u001b[0;34m\u001b[0m\u001b[0m\n\u001b[0;32m---> 10\u001b[0;31m \u001b[0mdisp\u001b[0m \u001b[0;34m=\u001b[0m \u001b[0mplot_confusion_matrix\u001b[0m\u001b[0;34m(\u001b[0m\u001b[0mclf\u001b[0m\u001b[0;34m,\u001b[0m \u001b[0mdata\u001b[0m\u001b[0;34m.\u001b[0m\u001b[0mloc\u001b[0m\u001b[0;34m[\u001b[0m\u001b[0;34m:\u001b[0m\u001b[0;34m,\u001b[0m \u001b[0mtest_samples\u001b[0m\u001b[0;34m]\u001b[0m\u001b[0;34m,\u001b[0m \u001b[0mlogical_b\u001b[0m\u001b[0;34m,\u001b[0m\u001b[0mdisplay_labels\u001b[0m\u001b[0;34m=\u001b[0m\u001b[0;34m[\u001b[0m\u001b[0;36m0\u001b[0m\u001b[0;34m,\u001b[0m\u001b[0;36m1\u001b[0m\u001b[0;34m]\u001b[0m\u001b[0;34m,\u001b[0m\u001b[0mcmap\u001b[0m\u001b[0;34m=\u001b[0m\u001b[0mplt\u001b[0m\u001b[0;34m.\u001b[0m\u001b[0mcm\u001b[0m\u001b[0;34m.\u001b[0m\u001b[0mBlues\u001b[0m\u001b[0;34m,\u001b[0m\u001b[0mnormalize\u001b[0m\u001b[0;34m=\u001b[0m\u001b[0;34m'true'\u001b[0m\u001b[0;34m)\u001b[0m\u001b[0;34m\u001b[0m\u001b[0;34m\u001b[0m\u001b[0m\n\u001b[0m\u001b[1;32m     11\u001b[0m \u001b[0mdisp\u001b[0m\u001b[0;34m.\u001b[0m\u001b[0max_\u001b[0m\u001b[0;34m.\u001b[0m\u001b[0mset_title\u001b[0m\u001b[0;34m(\u001b[0m\u001b[0;34m'Confusion matrix'\u001b[0m\u001b[0;34m)\u001b[0m\u001b[0;34m\u001b[0m\u001b[0;34m\u001b[0m\u001b[0m\n\u001b[1;32m     12\u001b[0m \u001b[0mplt\u001b[0m\u001b[0;34m.\u001b[0m\u001b[0mshow\u001b[0m\u001b[0;34m(\u001b[0m\u001b[0;34m)\u001b[0m\u001b[0;34m\u001b[0m\u001b[0;34m\u001b[0m\u001b[0m\n",
      "\u001b[0;31mNameError\u001b[0m: name 'plot_confusion_matrix' is not defined"
     ]
    }
   ],
   "source": [
    "\n",
    "p = clf.predict_proba(data.loc[:, test_samples].T)\n",
    "\n",
    "\n",
    "new_labels = (p[:,0] >= 0.5)  # medium threshold \n",
    "b=list(new_labels)\n",
    "#replacing all False with 0 for MG strain and True with 1 for BW strains)\n",
    "logical_b=[0 if x==True else 1 for x in b ]\n",
    "\n",
    "#display the map with normalization\n",
    "disp = plot_confusion_matrix(clf, data.loc[:, test_samples], logical_b,display_labels=[0,1],cmap=plt.cm.Blues,normalize='true')\n",
    "disp.ax_.set_title('Confusion matrix')\n",
    "plt.show()"
   ]
  },
  {
   "cell_type": "markdown",
   "metadata": {},
   "source": [
    "### C. Resampling\n",
    "\n",
    "#### C.i. Perform bootstrapping on your data (100x) to calculate your confidence intervals for your 1c model performance and model coefficients."
   ]
  },
  {
   "cell_type": "code",
   "execution_count": 225,
   "metadata": {},
   "outputs": [],
   "source": [
    "# Bootstrapping the model performance\n",
    "from sklearn.utils import resample\n",
    "bs_train=np.zeros((100))\n",
    "rpob=data.loc['b3987']\n",
    "no_rpob=data.drop('b3987')\n",
    "importance_pd = pd.DataFrame(np.zeros((no_rpob.shape[0],100)), index =no_rpob.index, columns =np.arange(100))\n",
    "\n",
    "# Store performance metric in this array\n",
    "perf_boot=np.zeros((100))\n",
    "\n",
    "for i in range(100):\n",
    "\n",
    "    bs_train = resample(no_rpob.transpose(), n_samples = int(no_rpob.shape[1]*0.75)).T # while resampling using n_samples=root p, like it does in random forest \n",
    "\n",
    "  \n",
    "    bs_test=no_rpob[list(set(no_rpob.columns)-set(bs_train.columns.unique()))] \n",
    "\n",
    "    # now for labels \n",
    "\n",
    "    bs_train_labels=data.loc['b3987',bs_train.columns]  # \n",
    "    bs_test_labels=data.loc['b3987',bs_test.columns]  \n",
    "\n",
    "\n",
    "    lm=LinearRegression()\n",
    "\n",
    "\n",
    "    lm = lm.fit(no_rpob.loc[:, bs_train.columns].T, bs_train_labels.T)       # fitting on the training data   \n",
    "    importance = lm.coef_\n",
    " \n",
    "    p_lm = lm.score(no_rpob.loc[:, bs_test.columns].T, bs_test_labels.T)      # testing\n",
    "\n",
    "    perf_boot[i]=p_lm\n",
    "    \n",
    "    \n",
    "   \n",
    "    importance_pd.iloc[:,i]=importance.T\n",
    "\n",
    "\n",
    "   \n"
   ]
  },
  {
   "cell_type": "code",
   "execution_count": 226,
   "metadata": {
    "scrolled": true
   },
   "outputs": [
    {
     "name": "stdout",
     "output_type": "stream",
     "text": [
      "95.0 confidence interval 80.4% and 96.2%\n"
     ]
    },
    {
     "data": {
      "text/html": [
       "<div>\n",
       "<style scoped>\n",
       "    .dataframe tbody tr th:only-of-type {\n",
       "        vertical-align: middle;\n",
       "    }\n",
       "\n",
       "    .dataframe tbody tr th {\n",
       "        vertical-align: top;\n",
       "    }\n",
       "\n",
       "    .dataframe thead th {\n",
       "        text-align: right;\n",
       "    }\n",
       "</style>\n",
       "<table border=\"1\" class=\"dataframe\">\n",
       "  <thead>\n",
       "    <tr style=\"text-align: right;\">\n",
       "      <th></th>\n",
       "      <th>Lower Bound</th>\n",
       "      <th>Upper bound</th>\n",
       "    </tr>\n",
       "  </thead>\n",
       "  <tbody>\n",
       "    <tr>\n",
       "      <th>b0002</th>\n",
       "      <td>-0.024777</td>\n",
       "      <td>0.026037</td>\n",
       "    </tr>\n",
       "    <tr>\n",
       "      <th>b0003</th>\n",
       "      <td>-0.007669</td>\n",
       "      <td>0.007229</td>\n",
       "    </tr>\n",
       "    <tr>\n",
       "      <th>b0004</th>\n",
       "      <td>-0.002841</td>\n",
       "      <td>0.008115</td>\n",
       "    </tr>\n",
       "    <tr>\n",
       "      <th>b0005</th>\n",
       "      <td>-0.003542</td>\n",
       "      <td>0.002704</td>\n",
       "    </tr>\n",
       "    <tr>\n",
       "      <th>b0006</th>\n",
       "      <td>-0.003098</td>\n",
       "      <td>0.008215</td>\n",
       "    </tr>\n",
       "    <tr>\n",
       "      <th>b0007</th>\n",
       "      <td>-0.002495</td>\n",
       "      <td>0.005825</td>\n",
       "    </tr>\n",
       "    <tr>\n",
       "      <th>b0008</th>\n",
       "      <td>-0.001954</td>\n",
       "      <td>0.002153</td>\n",
       "    </tr>\n",
       "    <tr>\n",
       "      <th>b0009</th>\n",
       "      <td>-0.001829</td>\n",
       "      <td>0.003071</td>\n",
       "    </tr>\n",
       "    <tr>\n",
       "      <th>b0010</th>\n",
       "      <td>-0.002244</td>\n",
       "      <td>0.002296</td>\n",
       "    </tr>\n",
       "    <tr>\n",
       "      <th>b0011</th>\n",
       "      <td>-0.003019</td>\n",
       "      <td>0.001749</td>\n",
       "    </tr>\n",
       "    <tr>\n",
       "      <th>b0014</th>\n",
       "      <td>-0.001391</td>\n",
       "      <td>0.003699</td>\n",
       "    </tr>\n",
       "    <tr>\n",
       "      <th>b0015</th>\n",
       "      <td>-0.000233</td>\n",
       "      <td>0.002897</td>\n",
       "    </tr>\n",
       "    <tr>\n",
       "      <th>b0016</th>\n",
       "      <td>-0.004471</td>\n",
       "      <td>0.004264</td>\n",
       "    </tr>\n",
       "    <tr>\n",
       "      <th>b0018</th>\n",
       "      <td>-0.004914</td>\n",
       "      <td>0.000130</td>\n",
       "    </tr>\n",
       "    <tr>\n",
       "      <th>b0019</th>\n",
       "      <td>-0.000298</td>\n",
       "      <td>0.002821</td>\n",
       "    </tr>\n",
       "    <tr>\n",
       "      <th>b0020</th>\n",
       "      <td>-0.000359</td>\n",
       "      <td>0.002312</td>\n",
       "    </tr>\n",
       "    <tr>\n",
       "      <th>b0021</th>\n",
       "      <td>-0.005054</td>\n",
       "      <td>0.001877</td>\n",
       "    </tr>\n",
       "    <tr>\n",
       "      <th>b0022</th>\n",
       "      <td>-0.003439</td>\n",
       "      <td>0.001982</td>\n",
       "    </tr>\n",
       "    <tr>\n",
       "      <th>b0023</th>\n",
       "      <td>-0.002031</td>\n",
       "      <td>0.000701</td>\n",
       "    </tr>\n",
       "    <tr>\n",
       "      <th>b0025</th>\n",
       "      <td>-0.000966</td>\n",
       "      <td>0.000869</td>\n",
       "    </tr>\n",
       "    <tr>\n",
       "      <th>b0026</th>\n",
       "      <td>-0.000706</td>\n",
       "      <td>0.002089</td>\n",
       "    </tr>\n",
       "    <tr>\n",
       "      <th>b0027</th>\n",
       "      <td>-0.000835</td>\n",
       "      <td>0.001568</td>\n",
       "    </tr>\n",
       "    <tr>\n",
       "      <th>b0028</th>\n",
       "      <td>-0.001223</td>\n",
       "      <td>0.002509</td>\n",
       "    </tr>\n",
       "    <tr>\n",
       "      <th>b0029</th>\n",
       "      <td>-0.000354</td>\n",
       "      <td>0.001612</td>\n",
       "    </tr>\n",
       "    <tr>\n",
       "      <th>b0030</th>\n",
       "      <td>-0.000572</td>\n",
       "      <td>0.001669</td>\n",
       "    </tr>\n",
       "    <tr>\n",
       "      <th>b0031</th>\n",
       "      <td>-0.001732</td>\n",
       "      <td>0.000854</td>\n",
       "    </tr>\n",
       "    <tr>\n",
       "      <th>b0032</th>\n",
       "      <td>-0.001779</td>\n",
       "      <td>0.000565</td>\n",
       "    </tr>\n",
       "    <tr>\n",
       "      <th>b0033</th>\n",
       "      <td>-0.001827</td>\n",
       "      <td>0.000408</td>\n",
       "    </tr>\n",
       "    <tr>\n",
       "      <th>b0034</th>\n",
       "      <td>-0.003653</td>\n",
       "      <td>-0.000663</td>\n",
       "    </tr>\n",
       "    <tr>\n",
       "      <th>b0036</th>\n",
       "      <td>-0.000694</td>\n",
       "      <td>0.001692</td>\n",
       "    </tr>\n",
       "    <tr>\n",
       "      <th>...</th>\n",
       "      <td>...</td>\n",
       "      <td>...</td>\n",
       "    </tr>\n",
       "    <tr>\n",
       "      <th>b4582_1</th>\n",
       "      <td>-0.002475</td>\n",
       "      <td>0.000130</td>\n",
       "    </tr>\n",
       "    <tr>\n",
       "      <th>b4582_2</th>\n",
       "      <td>-0.003152</td>\n",
       "      <td>-0.000205</td>\n",
       "    </tr>\n",
       "    <tr>\n",
       "      <th>b4587_1</th>\n",
       "      <td>-0.003246</td>\n",
       "      <td>-0.000885</td>\n",
       "    </tr>\n",
       "    <tr>\n",
       "      <th>b4587_2</th>\n",
       "      <td>-0.001180</td>\n",
       "      <td>0.000627</td>\n",
       "    </tr>\n",
       "    <tr>\n",
       "      <th>b4593</th>\n",
       "      <td>-0.001274</td>\n",
       "      <td>0.001536</td>\n",
       "    </tr>\n",
       "    <tr>\n",
       "      <th>b4595</th>\n",
       "      <td>-0.001782</td>\n",
       "      <td>0.000349</td>\n",
       "    </tr>\n",
       "    <tr>\n",
       "      <th>b4596</th>\n",
       "      <td>-0.001642</td>\n",
       "      <td>0.000768</td>\n",
       "    </tr>\n",
       "    <tr>\n",
       "      <th>b4600_2</th>\n",
       "      <td>-0.000014</td>\n",
       "      <td>0.001441</td>\n",
       "    </tr>\n",
       "    <tr>\n",
       "      <th>b4620</th>\n",
       "      <td>-0.000273</td>\n",
       "      <td>0.002697</td>\n",
       "    </tr>\n",
       "    <tr>\n",
       "      <th>b4623_1</th>\n",
       "      <td>-0.002965</td>\n",
       "      <td>-0.000109</td>\n",
       "    </tr>\n",
       "    <tr>\n",
       "      <th>b4633</th>\n",
       "      <td>-0.002692</td>\n",
       "      <td>-0.000819</td>\n",
       "    </tr>\n",
       "    <tr>\n",
       "      <th>b4634</th>\n",
       "      <td>-0.000667</td>\n",
       "      <td>0.002055</td>\n",
       "    </tr>\n",
       "    <tr>\n",
       "      <th>b4640_1</th>\n",
       "      <td>-0.001007</td>\n",
       "      <td>0.000983</td>\n",
       "    </tr>\n",
       "    <tr>\n",
       "      <th>b4641</th>\n",
       "      <td>-0.001745</td>\n",
       "      <td>0.000854</td>\n",
       "    </tr>\n",
       "    <tr>\n",
       "      <th>b4646_2</th>\n",
       "      <td>-0.001867</td>\n",
       "      <td>0.001283</td>\n",
       "    </tr>\n",
       "    <tr>\n",
       "      <th>b4656</th>\n",
       "      <td>-0.002017</td>\n",
       "      <td>-0.000335</td>\n",
       "    </tr>\n",
       "    <tr>\n",
       "      <th>b4658_1</th>\n",
       "      <td>-0.001301</td>\n",
       "      <td>0.000773</td>\n",
       "    </tr>\n",
       "    <tr>\n",
       "      <th>b4658_2</th>\n",
       "      <td>-0.001718</td>\n",
       "      <td>0.000281</td>\n",
       "    </tr>\n",
       "    <tr>\n",
       "      <th>b4659_1</th>\n",
       "      <td>-0.000329</td>\n",
       "      <td>0.001162</td>\n",
       "    </tr>\n",
       "    <tr>\n",
       "      <th>b4659_2</th>\n",
       "      <td>-0.000786</td>\n",
       "      <td>0.001515</td>\n",
       "    </tr>\n",
       "    <tr>\n",
       "      <th>b4660_1</th>\n",
       "      <td>-0.000565</td>\n",
       "      <td>0.001221</td>\n",
       "    </tr>\n",
       "    <tr>\n",
       "      <th>b4661</th>\n",
       "      <td>-0.000950</td>\n",
       "      <td>-0.000044</td>\n",
       "    </tr>\n",
       "    <tr>\n",
       "      <th>b4662</th>\n",
       "      <td>-0.002225</td>\n",
       "      <td>0.000429</td>\n",
       "    </tr>\n",
       "    <tr>\n",
       "      <th>b4676</th>\n",
       "      <td>-0.002049</td>\n",
       "      <td>0.000921</td>\n",
       "    </tr>\n",
       "    <tr>\n",
       "      <th>b4686</th>\n",
       "      <td>-0.002781</td>\n",
       "      <td>0.000398</td>\n",
       "    </tr>\n",
       "    <tr>\n",
       "      <th>b4688</th>\n",
       "      <td>-0.001091</td>\n",
       "      <td>0.001318</td>\n",
       "    </tr>\n",
       "    <tr>\n",
       "      <th>b4693</th>\n",
       "      <td>-0.002490</td>\n",
       "      <td>-0.000491</td>\n",
       "    </tr>\n",
       "    <tr>\n",
       "      <th>b4696_1</th>\n",
       "      <td>-0.000203</td>\n",
       "      <td>0.001064</td>\n",
       "    </tr>\n",
       "    <tr>\n",
       "      <th>b4696_2</th>\n",
       "      <td>-0.000155</td>\n",
       "      <td>0.001211</td>\n",
       "    </tr>\n",
       "    <tr>\n",
       "      <th>b4705</th>\n",
       "      <td>-0.000065</td>\n",
       "      <td>0.004621</td>\n",
       "    </tr>\n",
       "  </tbody>\n",
       "</table>\n",
       "<p>3886 rows × 2 columns</p>\n",
       "</div>"
      ],
      "text/plain": [
       "         Lower Bound  Upper bound\n",
       "b0002      -0.024777     0.026037\n",
       "b0003      -0.007669     0.007229\n",
       "b0004      -0.002841     0.008115\n",
       "b0005      -0.003542     0.002704\n",
       "b0006      -0.003098     0.008215\n",
       "...              ...          ...\n",
       "b4688      -0.001091     0.001318\n",
       "b4693      -0.002490    -0.000491\n",
       "b4696_1    -0.000203     0.001064\n",
       "b4696_2    -0.000155     0.001211\n",
       "b4705      -0.000065     0.004621\n",
       "\n",
       "[3886 rows x 2 columns]"
      ]
     },
     "metadata": {},
     "output_type": "display_data"
    }
   ],
   "source": [
    "    \n",
    "# now calculating the confidence intervals \n",
    "\n",
    "# for the performance metric 0---R2 used in our study \n",
    "alpha = 0.95  # 95 percent confidence interval\n",
    "p = ((1.0-alpha)/2.0) * 100   \n",
    "lower = max(0.0, np.percentile(perf_boot, p))   # selecting values at 2.5 percentile\n",
    "p = (alpha+((1.0-alpha)/2.0)) * 100\n",
    "upper = min(1.0, np.percentile(perf_boot, p))  # selecting values at 97.5 percentile\n",
    "print('%.1f confidence interval %.1f%% and %.1f%%' % (alpha*100, lower*100, upper*100))\n",
    "\n",
    "\n",
    "# for the coeffecients \n",
    "lower=np.zeros(no_rpob.shape[0])\n",
    "upper=np.zeros(no_rpob.shape[0])\n",
    "\n",
    "for j in range(no_rpob.shape[0]):\n",
    "    alpha = 0.95\n",
    "    p = ((1.0-alpha)/2.0) * 100   \n",
    "    lower[j] =  np.percentile(importance_pd.iloc[j,:], p)   # selecting values at 2.5 percentile\n",
    "    p = (alpha+((1.0-alpha)/2.0)) * 100\n",
    "    upper[j] =  np.percentile(importance_pd.iloc[j,:], p) # selecting values at 97.5 percentile\n",
    "\n",
    "conf_coeff=pd.DataFrame(np.stack((lower,upper),axis=-1), index = no_rpob.index, columns =['Lower Bound','Upper bound'])   \n",
    "display(conf_coeff)"
   ]
  },
  {
   "cell_type": "markdown",
   "metadata": {},
   "source": [
    "#### C.ii. Perform 5-fold cross-validation (100x) to assess model overfitting."
   ]
  },
  {
   "cell_type": "code",
   "execution_count": 247,
   "metadata": {
    "scrolled": false
   },
   "outputs": [],
   "source": [
    "# \n",
    "from sklearn.model_selection import KFold\n",
    "\n",
    "X=data.drop('b3987').T\n",
    "y=data.loc['b3987'].T\n",
    "\n",
    "perf_test=np.zeros((100,5))\n",
    "perf_train=np.zeros((100,5))\n",
    "kf = KFold(n_splits=5, shuffle = True) #5-fold cv\n",
    "n_iter = 100\n",
    "\n",
    "\n",
    "for i in range(n_iter): # 100 splits\n",
    "    count=0\n",
    "    for train_index, test_index in kf.split(X): \n",
    "        \n",
    "        #generate model\n",
    "        X_train, X_test = X.iloc[train_index], X.iloc[test_index]\n",
    "        y_train, y_test = y.iloc[train_index], y.iloc[test_index]\n",
    "        \n",
    "        # Do analysis\n",
    "        lm=LinearRegression()\n",
    "\n",
    "\n",
    "        lm = lm.fit(X_train, y_train)       # fitting on the training data   \n",
    "       \n",
    " \n",
    "        p_lm_test = lm.score(X_test, y_test)      # testing\n",
    "        p_lm_train= lm.score(X_train, y_train)     #training\n",
    "        \n",
    "        # save output\n",
    "        perf_test[i,count]=p_lm_test\n",
    "        perf_train[i,count]=p_lm_train\n",
    "        count+=1\n",
    "        \n",
    "        "
   ]
  },
  {
   "cell_type": "code",
   "execution_count": 255,
   "metadata": {},
   "outputs": [
    {
     "data": {
      "text/plain": [
       "Text(0, 0.5, 'R square value(Metric used in this study)')"
      ]
     },
     "execution_count": 255,
     "metadata": {},
     "output_type": "execute_result"
    },
    {
     "data": {
      "image/png": "[encoded data removed]",
      "text/plain": [
       "<Figure size 432x288 with 1 Axes>"
      ]
     },
     "metadata": {
      "needs_background": "light"
     },
     "output_type": "display_data"
    }
   ],
   "source": [
    "# plotting histogram to see how the metrics that we have chosen vary amongst each other\n",
    "\n",
    "# reshaping into a single array\n",
    "perf_test.reshape((500,1))\n",
    "\n",
    "\n",
    "fig, ax = plt.subplots()\n",
    "ax.hist(perf_test.reshape((500,1)), bins = 30, range = [0.5, 1])\n",
    "ax.hist(perf_train.reshape((500,1)), bins = 30, range = [0.5, 1])\n",
    "ax.set_xlabel('Count')\n",
    "ax.set_ylabel('R square value(Metric used in this study)')\n"
   ]
  },
  {
   "cell_type": "markdown",
   "metadata": {},
   "source": [
    "We see that there is still some significant difference between the training data and testing data distribution, indicating that there is some overfitting, as our model has not been able to generalize very well hence the spread around 0.9-1 region. "
   ]
  },
  {
   "cell_type": "markdown",
   "metadata": {},
   "source": [
    "### D. Variable importance\n",
    "\n",
    "#### D.i. Based on your bootstrapped models, which variables appear the most important at distinguishing between the strains MG1655 and BW25113?"
   ]
  },
  {
   "cell_type": "code",
   "execution_count": 227,
   "metadata": {},
   "outputs": [
    {
     "data": {
      "text/html": [
       "<div>\n",
       "<style scoped>\n",
       "    .dataframe tbody tr th:only-of-type {\n",
       "        vertical-align: middle;\n",
       "    }\n",
       "\n",
       "    .dataframe tbody tr th {\n",
       "        vertical-align: top;\n",
       "    }\n",
       "\n",
       "    .dataframe thead th {\n",
       "        text-align: right;\n",
       "    }\n",
       "</style>\n",
       "<table border=\"1\" class=\"dataframe\">\n",
       "  <thead>\n",
       "    <tr style=\"text-align: right;\">\n",
       "      <th></th>\n",
       "      <th>weight</th>\n",
       "      <th>abs_val</th>\n",
       "    </tr>\n",
       "  </thead>\n",
       "  <tbody>\n",
       "    <tr>\n",
       "      <th>b0572</th>\n",
       "      <td>-0.004639</td>\n",
       "      <td>0.004639</td>\n",
       "    </tr>\n",
       "    <tr>\n",
       "      <th>b3993</th>\n",
       "      <td>0.003914</td>\n",
       "      <td>0.003914</td>\n",
       "    </tr>\n",
       "    <tr>\n",
       "      <th>b3992</th>\n",
       "      <td>0.003622</td>\n",
       "      <td>0.003622</td>\n",
       "    </tr>\n",
       "    <tr>\n",
       "      <th>b3994</th>\n",
       "      <td>0.003551</td>\n",
       "      <td>0.003551</td>\n",
       "    </tr>\n",
       "    <tr>\n",
       "      <th>b3991</th>\n",
       "      <td>0.003353</td>\n",
       "      <td>0.003353</td>\n",
       "    </tr>\n",
       "  </tbody>\n",
       "</table>\n",
       "</div>"
      ],
      "text/plain": [
       "         weight   abs_val\n",
       "b0572 -0.004639  0.004639\n",
       "b3993  0.003914  0.003914\n",
       "b3992  0.003622  0.003622\n",
       "b3994  0.003551  0.003551\n",
       "b3991  0.003353  0.003353"
      ]
     },
     "metadata": {},
     "output_type": "display_data"
    }
   ],
   "source": [
    "# most important genes-- from bootstrapping analysis\n",
    "# 3 things, first the average, then the absolute value, then sort that\n",
    "imp_genes=np.zeros((no_rpob.shape[0]))\n",
    "for i in range(no_rpob.shape[0]):\n",
    "    imp_genes[i]=(conf_coeff.iloc[i,0]+conf_coeff.iloc[i,1])/2\n",
    "importance = pd.DataFrame(imp_genes, index = no_rpob.index, columns = ['weight'])\n",
    "importance['abs_val'] = importance.weight.abs() # storing in dataframe in a particular column\n",
    "top5_comp = importance.sort_values('abs_val', ascending = False).iloc[0:5, :]\n",
    "display(top5_comp)                    "
   ]
  },
  {
   "cell_type": "markdown",
   "metadata": {},
   "source": [
    "We see that the gene cusC, encoded at the base pair b0572 appears to be the most important at distinguishing between the strains MG1655 and BW25113. This was also seen in our initial studies without bootstrapping where the gene came in the top5 in most realizations. "
   ]
  },
  {
   "cell_type": "markdown",
   "metadata": {},
   "source": [
    "#### D.ii. Take your top variable by importance and permute it (randomly shuffle it) - how is your model performance affected? Compare this to the performance change from permuting a variable not considered to be important in your model."
   ]
  },
  {
   "cell_type": "code",
   "execution_count": 230,
   "metadata": {},
   "outputs": [
    {
     "data": {
      "text/plain": [
       "0.940195231320924"
      ]
     },
     "execution_count": 230,
     "metadata": {},
     "output_type": "execute_result"
    }
   ],
   "source": [
    "# randomly shuffling it along the samples, data is the no_rpob data\n",
    "no_rpob_mod=data.drop('b3987')\n",
    "random.shuffle(no_rpob_mod.loc['b0572'].values)\n",
    "\n",
    "train_samples_mod=random.sample(list(data.columns),int(no_rpob_mod.shape[1]*0.75)) # \n",
    "test_samples_mod = list(set(data.columns)-set(train_samples_mod))\n",
    "\n",
    "train_no_rpob_mod=no_rpob_mod[train_samples_mod]\n",
    "test_no_rpob_mod=no_rpob_mod[test_samples_mod]\n",
    "\n",
    "train_labels_mod=data.loc['b3987',train_no_rpob_mod.columns]\n",
    "test_labels_mod=data.loc['b3987',test_no_rpob_mod.columns]\n",
    "\n",
    "lm_mod=LinearRegression()\n",
    "\n",
    "\n",
    "lm_mod = lm_mod.fit(no_rpob_mod.loc[:, train_no_rpob_mod.columns].T, train_labels_mod.T,sample_weight=None)       # fitting on the training data   \n",
    "\n",
    "p_lm_mod = lm_mod.score(no_rpob_mod.loc[:, test_no_rpob_mod.columns].T, test_labels_mod.T,sample_weight=None)      # testing\n",
    "p_lm_mod\n"
   ]
  },
  {
   "cell_type": "markdown",
   "metadata": {},
   "source": [
    "We see that in most runs there is not much of a performance change(or just a slight increase or decrease ),where we randomly shuffle the most important locus, and this indicates that although that gene is important, it has different possible scenarios where its effect will not be diminished, which can happen when for example when the sample conditions are similar. But we also observe that the some times there is a huge drop, more than that is seen in the locuses which do not play an important role(non important genes show similar effect on performance upon mutation almost most of the time). This can be also thought of as some threshold response, where if it exists above that then not much change will happen, but if it is less than that, then there will be a huge drop. "
   ]
  },
  {
   "cell_type": "code",
   "execution_count": null,
   "metadata": {},
   "outputs": [],
   "source": [
    "# randomly shuffling it along the samples, data is the no_rpob data\n",
    "no_rpob_mod=data.drop('b3987')\n",
    "random.shuffle(no_rpob_mod.loc['b0019'].values)\n",
    "\n",
    "train_samples_mod=random.sample(list(data.columns),int(no_rpob_mod.shape[1]*0.75)) # \n",
    "test_samples_mod = list(set(data.columns)-set(train_samples_mod))\n",
    "\n",
    "train_no_rpob_mod=no_rpob_mod[train_samples_mod]\n",
    "test_no_rpob_mod=no_rpob_mod[test_samples_mod]\n",
    "\n",
    "train_labels_mod=data.loc['b3987',train_no_rpob_mod.columns]\n",
    "test_labels_mod=data.loc['b3987',test_no_rpob_mod.columns]\n",
    "\n",
    "lm_mod=LinearRegression()\n",
    "\n",
    "\n",
    "lm_mod = lm_mod.fit(no_rpob_mod.loc[:, train_no_rpob_mod.columns].T, train_labels_mod.T,sample_weight=None)       # fitting on the training data   \n",
    "\n",
    "p_lm_mod = lm_mod.score(no_rpob_mod.loc[:, test_no_rpob_mod.columns].T, test_labels_mod.T,sample_weight=None)      # testing\n",
    "p_lm_mod"
   ]
  }
 ],
 "metadata": {
  "kernelspec": {
   "display_name": "Python 3",
   "language": "python",
   "name": "python3"
  },
  "language_info": {
   "codemirror_mode": {
    "name": "ipython",
    "version": 3
   },
   "file_extension": ".py",
   "mimetype": "text/x-python",
   "name": "python",
   "nbconvert_exporter": "python",
   "pygments_lexer": "ipython3",
   "version": "3.7.3"
  }
 },
 "nbformat": 4,
 "nbformat_minor": 2
}
